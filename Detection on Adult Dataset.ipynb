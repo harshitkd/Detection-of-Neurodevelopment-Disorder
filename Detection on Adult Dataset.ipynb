{
 "cells": [
  {
   "cell_type": "markdown",
   "id": "1c2bc01e",
   "metadata": {},
   "source": [
    "# Detection on Adult Dataset"
   ]
  },
  {
   "cell_type": "code",
   "execution_count": 1,
   "id": "7d4ff91f",
   "metadata": {},
   "outputs": [
    {
     "name": "stdout",
     "output_type": "stream",
     "text": [
      "INFO:tensorflow:Enabling eager execution\n",
      "INFO:tensorflow:Enabling v2 tensorshape\n",
      "INFO:tensorflow:Enabling resource variables\n",
      "INFO:tensorflow:Enabling tensor equality\n",
      "INFO:tensorflow:Enabling control flow v2\n"
     ]
    }
   ],
   "source": [
    "import sys\n",
    "import pandas as pd\n",
    "import sklearn\n",
    "import keras\n",
    "import matplotlib.pyplot as plt"
   ]
  },
  {
   "cell_type": "code",
   "execution_count": null,
   "id": "8dcebf93",
   "metadata": {},
   "outputs": [],
   "source": []
  },
  {
   "cell_type": "code",
   "execution_count": 2,
   "id": "6f94b3f6",
   "metadata": {},
   "outputs": [],
   "source": [
    "asd_data = pd.read_csv(r\"C:\\Users\\HARSHIT\\Desktop\\mini-project\\Autism-Adult-Data Plus Description File\\csv_result-Autism-Adult-Data.csv\", na_values=['?'])"
   ]
  },
  {
   "cell_type": "code",
   "execution_count": 3,
   "id": "e001ec27",
   "metadata": {
    "scrolled": true
   },
   "outputs": [
    {
     "data": {
      "text/html": [
       "<div>\n",
       "<style scoped>\n",
       "    .dataframe tbody tr th:only-of-type {\n",
       "        vertical-align: middle;\n",
       "    }\n",
       "\n",
       "    .dataframe tbody tr th {\n",
       "        vertical-align: top;\n",
       "    }\n",
       "\n",
       "    .dataframe thead th {\n",
       "        text-align: right;\n",
       "    }\n",
       "</style>\n",
       "<table border=\"1\" class=\"dataframe\">\n",
       "  <thead>\n",
       "    <tr style=\"text-align: right;\">\n",
       "      <th></th>\n",
       "      <th>id</th>\n",
       "      <th>A1_Score</th>\n",
       "      <th>A2_Score</th>\n",
       "      <th>A3_Score</th>\n",
       "      <th>A4_Score</th>\n",
       "      <th>A5_Score</th>\n",
       "      <th>A6_Score</th>\n",
       "      <th>A7_Score</th>\n",
       "      <th>A8_Score</th>\n",
       "      <th>A9_Score</th>\n",
       "      <th>...</th>\n",
       "      <th>gender</th>\n",
       "      <th>ethnicity</th>\n",
       "      <th>jundice</th>\n",
       "      <th>austim</th>\n",
       "      <th>contry_of_res</th>\n",
       "      <th>used_app_before</th>\n",
       "      <th>result</th>\n",
       "      <th>age_desc</th>\n",
       "      <th>relation</th>\n",
       "      <th>Class/ASD</th>\n",
       "    </tr>\n",
       "  </thead>\n",
       "  <tbody>\n",
       "    <tr>\n",
       "      <th>0</th>\n",
       "      <td>1</td>\n",
       "      <td>1</td>\n",
       "      <td>1</td>\n",
       "      <td>1</td>\n",
       "      <td>1</td>\n",
       "      <td>0</td>\n",
       "      <td>0</td>\n",
       "      <td>1</td>\n",
       "      <td>1</td>\n",
       "      <td>0</td>\n",
       "      <td>...</td>\n",
       "      <td>f</td>\n",
       "      <td>White-European</td>\n",
       "      <td>no</td>\n",
       "      <td>no</td>\n",
       "      <td>United States</td>\n",
       "      <td>no</td>\n",
       "      <td>6</td>\n",
       "      <td>18 and more</td>\n",
       "      <td>Self</td>\n",
       "      <td>NO</td>\n",
       "    </tr>\n",
       "    <tr>\n",
       "      <th>1</th>\n",
       "      <td>2</td>\n",
       "      <td>1</td>\n",
       "      <td>1</td>\n",
       "      <td>0</td>\n",
       "      <td>1</td>\n",
       "      <td>0</td>\n",
       "      <td>0</td>\n",
       "      <td>0</td>\n",
       "      <td>1</td>\n",
       "      <td>0</td>\n",
       "      <td>...</td>\n",
       "      <td>m</td>\n",
       "      <td>Latino</td>\n",
       "      <td>no</td>\n",
       "      <td>yes</td>\n",
       "      <td>Brazil</td>\n",
       "      <td>no</td>\n",
       "      <td>5</td>\n",
       "      <td>18 and more</td>\n",
       "      <td>Self</td>\n",
       "      <td>NO</td>\n",
       "    </tr>\n",
       "    <tr>\n",
       "      <th>2</th>\n",
       "      <td>3</td>\n",
       "      <td>1</td>\n",
       "      <td>1</td>\n",
       "      <td>0</td>\n",
       "      <td>1</td>\n",
       "      <td>1</td>\n",
       "      <td>0</td>\n",
       "      <td>1</td>\n",
       "      <td>1</td>\n",
       "      <td>1</td>\n",
       "      <td>...</td>\n",
       "      <td>m</td>\n",
       "      <td>Latino</td>\n",
       "      <td>yes</td>\n",
       "      <td>yes</td>\n",
       "      <td>Spain</td>\n",
       "      <td>no</td>\n",
       "      <td>8</td>\n",
       "      <td>18 and more</td>\n",
       "      <td>Parent</td>\n",
       "      <td>YES</td>\n",
       "    </tr>\n",
       "    <tr>\n",
       "      <th>3</th>\n",
       "      <td>4</td>\n",
       "      <td>1</td>\n",
       "      <td>1</td>\n",
       "      <td>0</td>\n",
       "      <td>1</td>\n",
       "      <td>0</td>\n",
       "      <td>0</td>\n",
       "      <td>1</td>\n",
       "      <td>1</td>\n",
       "      <td>0</td>\n",
       "      <td>...</td>\n",
       "      <td>f</td>\n",
       "      <td>White-European</td>\n",
       "      <td>no</td>\n",
       "      <td>yes</td>\n",
       "      <td>United States</td>\n",
       "      <td>no</td>\n",
       "      <td>6</td>\n",
       "      <td>18 and more</td>\n",
       "      <td>Self</td>\n",
       "      <td>NO</td>\n",
       "    </tr>\n",
       "    <tr>\n",
       "      <th>4</th>\n",
       "      <td>5</td>\n",
       "      <td>1</td>\n",
       "      <td>0</td>\n",
       "      <td>0</td>\n",
       "      <td>0</td>\n",
       "      <td>0</td>\n",
       "      <td>0</td>\n",
       "      <td>0</td>\n",
       "      <td>1</td>\n",
       "      <td>0</td>\n",
       "      <td>...</td>\n",
       "      <td>f</td>\n",
       "      <td>NaN</td>\n",
       "      <td>no</td>\n",
       "      <td>no</td>\n",
       "      <td>Egypt</td>\n",
       "      <td>no</td>\n",
       "      <td>2</td>\n",
       "      <td>18 and more</td>\n",
       "      <td>NaN</td>\n",
       "      <td>NO</td>\n",
       "    </tr>\n",
       "  </tbody>\n",
       "</table>\n",
       "<p>5 rows × 22 columns</p>\n",
       "</div>"
      ],
      "text/plain": [
       "   id  A1_Score  A2_Score  A3_Score  A4_Score  A5_Score  A6_Score  A7_Score  \\\n",
       "0   1         1         1         1         1         0         0         1   \n",
       "1   2         1         1         0         1         0         0         0   \n",
       "2   3         1         1         0         1         1         0         1   \n",
       "3   4         1         1         0         1         0         0         1   \n",
       "4   5         1         0         0         0         0         0         0   \n",
       "\n",
       "   A8_Score  A9_Score  ...  gender       ethnicity jundice austim  \\\n",
       "0         1         0  ...       f  White-European      no     no   \n",
       "1         1         0  ...       m          Latino      no    yes   \n",
       "2         1         1  ...       m          Latino     yes    yes   \n",
       "3         1         0  ...       f  White-European      no    yes   \n",
       "4         1         0  ...       f             NaN      no     no   \n",
       "\n",
       "   contry_of_res used_app_before result     age_desc  relation Class/ASD  \n",
       "0  United States              no      6  18 and more      Self        NO  \n",
       "1         Brazil              no      5  18 and more      Self        NO  \n",
       "2          Spain              no      8  18 and more    Parent       YES  \n",
       "3  United States              no      6  18 and more      Self        NO  \n",
       "4          Egypt              no      2  18 and more       NaN        NO  \n",
       "\n",
       "[5 rows x 22 columns]"
      ]
     },
     "execution_count": 3,
     "metadata": {},
     "output_type": "execute_result"
    }
   ],
   "source": [
    "asd_data.head()"
   ]
  },
  {
   "cell_type": "code",
   "execution_count": 4,
   "id": "6ef68837",
   "metadata": {},
   "outputs": [
    {
     "name": "stdout",
     "output_type": "stream",
     "text": [
      "<class 'pandas.core.frame.DataFrame'>\n",
      "RangeIndex: 704 entries, 0 to 703\n",
      "Data columns (total 22 columns):\n",
      " #   Column           Non-Null Count  Dtype  \n",
      "---  ------           --------------  -----  \n",
      " 0   id               704 non-null    int64  \n",
      " 1   A1_Score         704 non-null    int64  \n",
      " 2   A2_Score         704 non-null    int64  \n",
      " 3   A3_Score         704 non-null    int64  \n",
      " 4   A4_Score         704 non-null    int64  \n",
      " 5   A5_Score         704 non-null    int64  \n",
      " 6   A6_Score         704 non-null    int64  \n",
      " 7   A7_Score         704 non-null    int64  \n",
      " 8   A8_Score         704 non-null    int64  \n",
      " 9   A9_Score         704 non-null    int64  \n",
      " 10  A10_Score        704 non-null    int64  \n",
      " 11  age              702 non-null    float64\n",
      " 12  gender           704 non-null    object \n",
      " 13  ethnicity        609 non-null    object \n",
      " 14  jundice          704 non-null    object \n",
      " 15  austim           704 non-null    object \n",
      " 16  contry_of_res    704 non-null    object \n",
      " 17  used_app_before  704 non-null    object \n",
      " 18  result           704 non-null    int64  \n",
      " 19  age_desc         704 non-null    object \n",
      " 20  relation         609 non-null    object \n",
      " 21  Class/ASD        704 non-null    object \n",
      "dtypes: float64(1), int64(12), object(9)\n",
      "memory usage: 121.1+ KB\n"
     ]
    }
   ],
   "source": [
    "asd_data.info()"
   ]
  },
  {
   "cell_type": "code",
   "execution_count": 5,
   "id": "c74f061c",
   "metadata": {},
   "outputs": [
    {
     "data": {
      "text/html": [
       "<div>\n",
       "<style scoped>\n",
       "    .dataframe tbody tr th:only-of-type {\n",
       "        vertical-align: middle;\n",
       "    }\n",
       "\n",
       "    .dataframe tbody tr th {\n",
       "        vertical-align: top;\n",
       "    }\n",
       "\n",
       "    .dataframe thead th {\n",
       "        text-align: right;\n",
       "    }\n",
       "</style>\n",
       "<table border=\"1\" class=\"dataframe\">\n",
       "  <thead>\n",
       "    <tr style=\"text-align: right;\">\n",
       "      <th></th>\n",
       "      <th>id</th>\n",
       "      <th>A1_Score</th>\n",
       "      <th>A2_Score</th>\n",
       "      <th>A3_Score</th>\n",
       "      <th>A4_Score</th>\n",
       "      <th>A5_Score</th>\n",
       "      <th>A6_Score</th>\n",
       "      <th>A7_Score</th>\n",
       "      <th>A8_Score</th>\n",
       "      <th>A9_Score</th>\n",
       "      <th>A10_Score</th>\n",
       "      <th>age</th>\n",
       "      <th>result</th>\n",
       "    </tr>\n",
       "  </thead>\n",
       "  <tbody>\n",
       "    <tr>\n",
       "      <th>count</th>\n",
       "      <td>704.000000</td>\n",
       "      <td>704.000000</td>\n",
       "      <td>704.000000</td>\n",
       "      <td>704.000000</td>\n",
       "      <td>704.000000</td>\n",
       "      <td>704.000000</td>\n",
       "      <td>704.000000</td>\n",
       "      <td>704.000000</td>\n",
       "      <td>704.000000</td>\n",
       "      <td>704.000000</td>\n",
       "      <td>704.000000</td>\n",
       "      <td>702.000000</td>\n",
       "      <td>704.000000</td>\n",
       "    </tr>\n",
       "    <tr>\n",
       "      <th>mean</th>\n",
       "      <td>352.500000</td>\n",
       "      <td>0.721591</td>\n",
       "      <td>0.453125</td>\n",
       "      <td>0.457386</td>\n",
       "      <td>0.495739</td>\n",
       "      <td>0.498580</td>\n",
       "      <td>0.284091</td>\n",
       "      <td>0.417614</td>\n",
       "      <td>0.649148</td>\n",
       "      <td>0.323864</td>\n",
       "      <td>0.573864</td>\n",
       "      <td>29.698006</td>\n",
       "      <td>4.875000</td>\n",
       "    </tr>\n",
       "    <tr>\n",
       "      <th>std</th>\n",
       "      <td>203.371581</td>\n",
       "      <td>0.448535</td>\n",
       "      <td>0.498152</td>\n",
       "      <td>0.498535</td>\n",
       "      <td>0.500337</td>\n",
       "      <td>0.500353</td>\n",
       "      <td>0.451301</td>\n",
       "      <td>0.493516</td>\n",
       "      <td>0.477576</td>\n",
       "      <td>0.468281</td>\n",
       "      <td>0.494866</td>\n",
       "      <td>16.507465</td>\n",
       "      <td>2.501493</td>\n",
       "    </tr>\n",
       "    <tr>\n",
       "      <th>min</th>\n",
       "      <td>1.000000</td>\n",
       "      <td>0.000000</td>\n",
       "      <td>0.000000</td>\n",
       "      <td>0.000000</td>\n",
       "      <td>0.000000</td>\n",
       "      <td>0.000000</td>\n",
       "      <td>0.000000</td>\n",
       "      <td>0.000000</td>\n",
       "      <td>0.000000</td>\n",
       "      <td>0.000000</td>\n",
       "      <td>0.000000</td>\n",
       "      <td>17.000000</td>\n",
       "      <td>0.000000</td>\n",
       "    </tr>\n",
       "    <tr>\n",
       "      <th>25%</th>\n",
       "      <td>176.750000</td>\n",
       "      <td>0.000000</td>\n",
       "      <td>0.000000</td>\n",
       "      <td>0.000000</td>\n",
       "      <td>0.000000</td>\n",
       "      <td>0.000000</td>\n",
       "      <td>0.000000</td>\n",
       "      <td>0.000000</td>\n",
       "      <td>0.000000</td>\n",
       "      <td>0.000000</td>\n",
       "      <td>0.000000</td>\n",
       "      <td>21.000000</td>\n",
       "      <td>3.000000</td>\n",
       "    </tr>\n",
       "    <tr>\n",
       "      <th>50%</th>\n",
       "      <td>352.500000</td>\n",
       "      <td>1.000000</td>\n",
       "      <td>0.000000</td>\n",
       "      <td>0.000000</td>\n",
       "      <td>0.000000</td>\n",
       "      <td>0.000000</td>\n",
       "      <td>0.000000</td>\n",
       "      <td>0.000000</td>\n",
       "      <td>1.000000</td>\n",
       "      <td>0.000000</td>\n",
       "      <td>1.000000</td>\n",
       "      <td>27.000000</td>\n",
       "      <td>4.000000</td>\n",
       "    </tr>\n",
       "    <tr>\n",
       "      <th>75%</th>\n",
       "      <td>528.250000</td>\n",
       "      <td>1.000000</td>\n",
       "      <td>1.000000</td>\n",
       "      <td>1.000000</td>\n",
       "      <td>1.000000</td>\n",
       "      <td>1.000000</td>\n",
       "      <td>1.000000</td>\n",
       "      <td>1.000000</td>\n",
       "      <td>1.000000</td>\n",
       "      <td>1.000000</td>\n",
       "      <td>1.000000</td>\n",
       "      <td>35.000000</td>\n",
       "      <td>7.000000</td>\n",
       "    </tr>\n",
       "    <tr>\n",
       "      <th>max</th>\n",
       "      <td>704.000000</td>\n",
       "      <td>1.000000</td>\n",
       "      <td>1.000000</td>\n",
       "      <td>1.000000</td>\n",
       "      <td>1.000000</td>\n",
       "      <td>1.000000</td>\n",
       "      <td>1.000000</td>\n",
       "      <td>1.000000</td>\n",
       "      <td>1.000000</td>\n",
       "      <td>1.000000</td>\n",
       "      <td>1.000000</td>\n",
       "      <td>383.000000</td>\n",
       "      <td>10.000000</td>\n",
       "    </tr>\n",
       "  </tbody>\n",
       "</table>\n",
       "</div>"
      ],
      "text/plain": [
       "               id    A1_Score    A2_Score    A3_Score    A4_Score    A5_Score  \\\n",
       "count  704.000000  704.000000  704.000000  704.000000  704.000000  704.000000   \n",
       "mean   352.500000    0.721591    0.453125    0.457386    0.495739    0.498580   \n",
       "std    203.371581    0.448535    0.498152    0.498535    0.500337    0.500353   \n",
       "min      1.000000    0.000000    0.000000    0.000000    0.000000    0.000000   \n",
       "25%    176.750000    0.000000    0.000000    0.000000    0.000000    0.000000   \n",
       "50%    352.500000    1.000000    0.000000    0.000000    0.000000    0.000000   \n",
       "75%    528.250000    1.000000    1.000000    1.000000    1.000000    1.000000   \n",
       "max    704.000000    1.000000    1.000000    1.000000    1.000000    1.000000   \n",
       "\n",
       "         A6_Score    A7_Score    A8_Score    A9_Score   A10_Score         age  \\\n",
       "count  704.000000  704.000000  704.000000  704.000000  704.000000  702.000000   \n",
       "mean     0.284091    0.417614    0.649148    0.323864    0.573864   29.698006   \n",
       "std      0.451301    0.493516    0.477576    0.468281    0.494866   16.507465   \n",
       "min      0.000000    0.000000    0.000000    0.000000    0.000000   17.000000   \n",
       "25%      0.000000    0.000000    0.000000    0.000000    0.000000   21.000000   \n",
       "50%      0.000000    0.000000    1.000000    0.000000    1.000000   27.000000   \n",
       "75%      1.000000    1.000000    1.000000    1.000000    1.000000   35.000000   \n",
       "max      1.000000    1.000000    1.000000    1.000000    1.000000  383.000000   \n",
       "\n",
       "           result  \n",
       "count  704.000000  \n",
       "mean     4.875000  \n",
       "std      2.501493  \n",
       "min      0.000000  \n",
       "25%      3.000000  \n",
       "50%      4.000000  \n",
       "75%      7.000000  \n",
       "max     10.000000  "
      ]
     },
     "execution_count": 5,
     "metadata": {},
     "output_type": "execute_result"
    }
   ],
   "source": [
    "asd_data.describe()"
   ]
  },
  {
   "cell_type": "markdown",
   "id": "81e5efec",
   "metadata": {},
   "source": [
    "# Feature Exploration "
   ]
  },
  {
   "cell_type": "code",
   "execution_count": 6,
   "id": "e2880224",
   "metadata": {},
   "outputs": [
    {
     "name": "stdout",
     "output_type": "stream",
     "text": [
      "Total number of records: 704\n",
      "Patients diagnoised with disorder: 189\n",
      "Patients not diagnoised with disorder: 515\n",
      "Percentage of patients diagnoised with disorder: 26.85%\n"
     ]
    }
   ],
   "source": [
    "records = len(asd_data.index)\n",
    "\n",
    "yes = len(asd_data[asd_data['Class/ASD'] == 'YES'])\n",
    "\n",
    "no = len(asd_data[asd_data['Class/ASD'] == 'NO'])\n",
    "\n",
    "yes_percent = float(yes) / records *100\n",
    "\n",
    "print(\"Total number of records: {}\".format(records))\n",
    "print(\"Patients diagnoised with disorder: {}\".format(yes))\n",
    "print(\"Patients not diagnoised with disorder: {}\".format(no))\n",
    "print(\"Percentage of patients diagnoised with disorder: {:.2f}%\".format(yes_percent))"
   ]
  },
  {
   "cell_type": "markdown",
   "id": "2213d3a1",
   "metadata": {},
   "source": [
    "# Clean Datasets"
   ]
  },
  {
   "cell_type": "code",
   "execution_count": 7,
   "id": "0ab3a362",
   "metadata": {},
   "outputs": [
    {
     "data": {
      "text/html": [
       "<div>\n",
       "<style scoped>\n",
       "    .dataframe tbody tr th:only-of-type {\n",
       "        vertical-align: middle;\n",
       "    }\n",
       "\n",
       "    .dataframe tbody tr th {\n",
       "        vertical-align: top;\n",
       "    }\n",
       "\n",
       "    .dataframe thead th {\n",
       "        text-align: right;\n",
       "    }\n",
       "</style>\n",
       "<table border=\"1\" class=\"dataframe\">\n",
       "  <thead>\n",
       "    <tr style=\"text-align: right;\">\n",
       "      <th></th>\n",
       "      <th>id</th>\n",
       "      <th>A1_Score</th>\n",
       "      <th>A2_Score</th>\n",
       "      <th>A3_Score</th>\n",
       "      <th>A4_Score</th>\n",
       "      <th>A5_Score</th>\n",
       "      <th>A6_Score</th>\n",
       "      <th>A7_Score</th>\n",
       "      <th>A8_Score</th>\n",
       "      <th>A9_Score</th>\n",
       "      <th>...</th>\n",
       "      <th>gender</th>\n",
       "      <th>ethnicity</th>\n",
       "      <th>jundice</th>\n",
       "      <th>austim</th>\n",
       "      <th>contry_of_res</th>\n",
       "      <th>used_app_before</th>\n",
       "      <th>result</th>\n",
       "      <th>age_desc</th>\n",
       "      <th>relation</th>\n",
       "      <th>Class/ASD</th>\n",
       "    </tr>\n",
       "  </thead>\n",
       "  <tbody>\n",
       "    <tr>\n",
       "      <th>4</th>\n",
       "      <td>5</td>\n",
       "      <td>1</td>\n",
       "      <td>0</td>\n",
       "      <td>0</td>\n",
       "      <td>0</td>\n",
       "      <td>0</td>\n",
       "      <td>0</td>\n",
       "      <td>0</td>\n",
       "      <td>1</td>\n",
       "      <td>0</td>\n",
       "      <td>...</td>\n",
       "      <td>f</td>\n",
       "      <td>NaN</td>\n",
       "      <td>no</td>\n",
       "      <td>no</td>\n",
       "      <td>Egypt</td>\n",
       "      <td>no</td>\n",
       "      <td>2</td>\n",
       "      <td>18 and more</td>\n",
       "      <td>NaN</td>\n",
       "      <td>NO</td>\n",
       "    </tr>\n",
       "    <tr>\n",
       "      <th>12</th>\n",
       "      <td>13</td>\n",
       "      <td>0</td>\n",
       "      <td>1</td>\n",
       "      <td>1</td>\n",
       "      <td>1</td>\n",
       "      <td>1</td>\n",
       "      <td>1</td>\n",
       "      <td>0</td>\n",
       "      <td>0</td>\n",
       "      <td>1</td>\n",
       "      <td>...</td>\n",
       "      <td>f</td>\n",
       "      <td>NaN</td>\n",
       "      <td>no</td>\n",
       "      <td>no</td>\n",
       "      <td>Bahamas</td>\n",
       "      <td>no</td>\n",
       "      <td>6</td>\n",
       "      <td>18 and more</td>\n",
       "      <td>NaN</td>\n",
       "      <td>NO</td>\n",
       "    </tr>\n",
       "    <tr>\n",
       "      <th>13</th>\n",
       "      <td>14</td>\n",
       "      <td>1</td>\n",
       "      <td>0</td>\n",
       "      <td>0</td>\n",
       "      <td>0</td>\n",
       "      <td>0</td>\n",
       "      <td>0</td>\n",
       "      <td>1</td>\n",
       "      <td>1</td>\n",
       "      <td>0</td>\n",
       "      <td>...</td>\n",
       "      <td>m</td>\n",
       "      <td>NaN</td>\n",
       "      <td>no</td>\n",
       "      <td>no</td>\n",
       "      <td>Austria</td>\n",
       "      <td>no</td>\n",
       "      <td>4</td>\n",
       "      <td>18 and more</td>\n",
       "      <td>NaN</td>\n",
       "      <td>NO</td>\n",
       "    </tr>\n",
       "    <tr>\n",
       "      <th>14</th>\n",
       "      <td>15</td>\n",
       "      <td>1</td>\n",
       "      <td>0</td>\n",
       "      <td>0</td>\n",
       "      <td>0</td>\n",
       "      <td>0</td>\n",
       "      <td>0</td>\n",
       "      <td>1</td>\n",
       "      <td>1</td>\n",
       "      <td>0</td>\n",
       "      <td>...</td>\n",
       "      <td>f</td>\n",
       "      <td>NaN</td>\n",
       "      <td>no</td>\n",
       "      <td>no</td>\n",
       "      <td>Argentina</td>\n",
       "      <td>no</td>\n",
       "      <td>4</td>\n",
       "      <td>18 and more</td>\n",
       "      <td>NaN</td>\n",
       "      <td>NO</td>\n",
       "    </tr>\n",
       "    <tr>\n",
       "      <th>19</th>\n",
       "      <td>20</td>\n",
       "      <td>0</td>\n",
       "      <td>0</td>\n",
       "      <td>0</td>\n",
       "      <td>0</td>\n",
       "      <td>0</td>\n",
       "      <td>0</td>\n",
       "      <td>1</td>\n",
       "      <td>1</td>\n",
       "      <td>0</td>\n",
       "      <td>...</td>\n",
       "      <td>m</td>\n",
       "      <td>NaN</td>\n",
       "      <td>yes</td>\n",
       "      <td>no</td>\n",
       "      <td>United Arab Emirates</td>\n",
       "      <td>no</td>\n",
       "      <td>3</td>\n",
       "      <td>18 and more</td>\n",
       "      <td>NaN</td>\n",
       "      <td>NO</td>\n",
       "    </tr>\n",
       "    <tr>\n",
       "      <th>...</th>\n",
       "      <td>...</td>\n",
       "      <td>...</td>\n",
       "      <td>...</td>\n",
       "      <td>...</td>\n",
       "      <td>...</td>\n",
       "      <td>...</td>\n",
       "      <td>...</td>\n",
       "      <td>...</td>\n",
       "      <td>...</td>\n",
       "      <td>...</td>\n",
       "      <td>...</td>\n",
       "      <td>...</td>\n",
       "      <td>...</td>\n",
       "      <td>...</td>\n",
       "      <td>...</td>\n",
       "      <td>...</td>\n",
       "      <td>...</td>\n",
       "      <td>...</td>\n",
       "      <td>...</td>\n",
       "      <td>...</td>\n",
       "      <td>...</td>\n",
       "    </tr>\n",
       "    <tr>\n",
       "      <th>652</th>\n",
       "      <td>653</td>\n",
       "      <td>0</td>\n",
       "      <td>0</td>\n",
       "      <td>0</td>\n",
       "      <td>0</td>\n",
       "      <td>0</td>\n",
       "      <td>0</td>\n",
       "      <td>0</td>\n",
       "      <td>0</td>\n",
       "      <td>0</td>\n",
       "      <td>...</td>\n",
       "      <td>f</td>\n",
       "      <td>NaN</td>\n",
       "      <td>no</td>\n",
       "      <td>no</td>\n",
       "      <td>United States</td>\n",
       "      <td>no</td>\n",
       "      <td>1</td>\n",
       "      <td>18 and more</td>\n",
       "      <td>NaN</td>\n",
       "      <td>NO</td>\n",
       "    </tr>\n",
       "    <tr>\n",
       "      <th>658</th>\n",
       "      <td>659</td>\n",
       "      <td>0</td>\n",
       "      <td>0</td>\n",
       "      <td>1</td>\n",
       "      <td>1</td>\n",
       "      <td>0</td>\n",
       "      <td>0</td>\n",
       "      <td>1</td>\n",
       "      <td>0</td>\n",
       "      <td>0</td>\n",
       "      <td>...</td>\n",
       "      <td>m</td>\n",
       "      <td>NaN</td>\n",
       "      <td>no</td>\n",
       "      <td>no</td>\n",
       "      <td>Azerbaijan</td>\n",
       "      <td>no</td>\n",
       "      <td>3</td>\n",
       "      <td>18 and more</td>\n",
       "      <td>NaN</td>\n",
       "      <td>NO</td>\n",
       "    </tr>\n",
       "    <tr>\n",
       "      <th>659</th>\n",
       "      <td>660</td>\n",
       "      <td>1</td>\n",
       "      <td>1</td>\n",
       "      <td>1</td>\n",
       "      <td>1</td>\n",
       "      <td>1</td>\n",
       "      <td>1</td>\n",
       "      <td>0</td>\n",
       "      <td>0</td>\n",
       "      <td>1</td>\n",
       "      <td>...</td>\n",
       "      <td>m</td>\n",
       "      <td>NaN</td>\n",
       "      <td>no</td>\n",
       "      <td>no</td>\n",
       "      <td>Pakistan</td>\n",
       "      <td>no</td>\n",
       "      <td>8</td>\n",
       "      <td>18 and more</td>\n",
       "      <td>NaN</td>\n",
       "      <td>YES</td>\n",
       "    </tr>\n",
       "    <tr>\n",
       "      <th>666</th>\n",
       "      <td>667</td>\n",
       "      <td>0</td>\n",
       "      <td>0</td>\n",
       "      <td>0</td>\n",
       "      <td>0</td>\n",
       "      <td>0</td>\n",
       "      <td>0</td>\n",
       "      <td>0</td>\n",
       "      <td>1</td>\n",
       "      <td>0</td>\n",
       "      <td>...</td>\n",
       "      <td>m</td>\n",
       "      <td>NaN</td>\n",
       "      <td>no</td>\n",
       "      <td>no</td>\n",
       "      <td>Iraq</td>\n",
       "      <td>no</td>\n",
       "      <td>1</td>\n",
       "      <td>18 and more</td>\n",
       "      <td>NaN</td>\n",
       "      <td>NO</td>\n",
       "    </tr>\n",
       "    <tr>\n",
       "      <th>701</th>\n",
       "      <td>702</td>\n",
       "      <td>1</td>\n",
       "      <td>0</td>\n",
       "      <td>1</td>\n",
       "      <td>1</td>\n",
       "      <td>1</td>\n",
       "      <td>0</td>\n",
       "      <td>1</td>\n",
       "      <td>1</td>\n",
       "      <td>0</td>\n",
       "      <td>...</td>\n",
       "      <td>f</td>\n",
       "      <td>NaN</td>\n",
       "      <td>no</td>\n",
       "      <td>no</td>\n",
       "      <td>Russia</td>\n",
       "      <td>no</td>\n",
       "      <td>7</td>\n",
       "      <td>18 and more</td>\n",
       "      <td>NaN</td>\n",
       "      <td>YES</td>\n",
       "    </tr>\n",
       "  </tbody>\n",
       "</table>\n",
       "<p>95 rows × 22 columns</p>\n",
       "</div>"
      ],
      "text/plain": [
       "      id  A1_Score  A2_Score  A3_Score  A4_Score  A5_Score  A6_Score  \\\n",
       "4      5         1         0         0         0         0         0   \n",
       "12    13         0         1         1         1         1         1   \n",
       "13    14         1         0         0         0         0         0   \n",
       "14    15         1         0         0         0         0         0   \n",
       "19    20         0         0         0         0         0         0   \n",
       "..   ...       ...       ...       ...       ...       ...       ...   \n",
       "652  653         0         0         0         0         0         0   \n",
       "658  659         0         0         1         1         0         0   \n",
       "659  660         1         1         1         1         1         1   \n",
       "666  667         0         0         0         0         0         0   \n",
       "701  702         1         0         1         1         1         0   \n",
       "\n",
       "     A7_Score  A8_Score  A9_Score  ...  gender  ethnicity jundice austim  \\\n",
       "4           0         1         0  ...       f        NaN      no     no   \n",
       "12          0         0         1  ...       f        NaN      no     no   \n",
       "13          1         1         0  ...       m        NaN      no     no   \n",
       "14          1         1         0  ...       f        NaN      no     no   \n",
       "19          1         1         0  ...       m        NaN     yes     no   \n",
       "..        ...       ...       ...  ...     ...        ...     ...    ...   \n",
       "652         0         0         0  ...       f        NaN      no     no   \n",
       "658         1         0         0  ...       m        NaN      no     no   \n",
       "659         0         0         1  ...       m        NaN      no     no   \n",
       "666         0         1         0  ...       m        NaN      no     no   \n",
       "701         1         1         0  ...       f        NaN      no     no   \n",
       "\n",
       "            contry_of_res used_app_before result     age_desc  relation  \\\n",
       "4                   Egypt              no      2  18 and more       NaN   \n",
       "12                Bahamas              no      6  18 and more       NaN   \n",
       "13                Austria              no      4  18 and more       NaN   \n",
       "14              Argentina              no      4  18 and more       NaN   \n",
       "19   United Arab Emirates              no      3  18 and more       NaN   \n",
       "..                    ...             ...    ...          ...       ...   \n",
       "652         United States              no      1  18 and more       NaN   \n",
       "658            Azerbaijan              no      3  18 and more       NaN   \n",
       "659              Pakistan              no      8  18 and more       NaN   \n",
       "666                  Iraq              no      1  18 and more       NaN   \n",
       "701                Russia              no      7  18 and more       NaN   \n",
       "\n",
       "    Class/ASD  \n",
       "4          NO  \n",
       "12         NO  \n",
       "13         NO  \n",
       "14         NO  \n",
       "19         NO  \n",
       "..        ...  \n",
       "652        NO  \n",
       "658        NO  \n",
       "659       YES  \n",
       "666        NO  \n",
       "701       YES  \n",
       "\n",
       "[95 rows x 22 columns]"
      ]
     },
     "execution_count": 7,
     "metadata": {},
     "output_type": "execute_result"
    }
   ],
   "source": [
    "# .isnull() will replace the null values with boolean value True and otherwise with False.\n",
    "# Pandas DataFrame.loc attribute access a group of rows and columns by label(s) or a boolean array in the given DataFrame.\n",
    "asd_data.loc[\n",
    "             (asd_data['age'].isnull()) |\n",
    "             (asd_data['gender'].isnull()) |\n",
    "             (asd_data['ethnicity'].isnull()) |\n",
    "             (asd_data['jundice'].isnull())|\n",
    "             (asd_data['austim'].isnull()) |\n",
    "             (asd_data['contry_of_res'].isnull())|\n",
    "             (asd_data['used_app_before'].isnull())|\n",
    "             (asd_data['result'].isnull())|\n",
    "             (asd_data['age_desc'].isnull())|\n",
    "             (asd_data['relation'].isnull())\n",
    "            ]"
   ]
  },
  {
   "cell_type": "code",
   "execution_count": 8,
   "id": "65e52efe",
   "metadata": {},
   "outputs": [
    {
     "data": {
      "text/html": [
       "<div>\n",
       "<style scoped>\n",
       "    .dataframe tbody tr th:only-of-type {\n",
       "        vertical-align: middle;\n",
       "    }\n",
       "\n",
       "    .dataframe tbody tr th {\n",
       "        vertical-align: top;\n",
       "    }\n",
       "\n",
       "    .dataframe thead th {\n",
       "        text-align: right;\n",
       "    }\n",
       "</style>\n",
       "<table border=\"1\" class=\"dataframe\">\n",
       "  <thead>\n",
       "    <tr style=\"text-align: right;\">\n",
       "      <th></th>\n",
       "      <th>id</th>\n",
       "      <th>A1_Score</th>\n",
       "      <th>A2_Score</th>\n",
       "      <th>A3_Score</th>\n",
       "      <th>A4_Score</th>\n",
       "      <th>A5_Score</th>\n",
       "      <th>A6_Score</th>\n",
       "      <th>A7_Score</th>\n",
       "      <th>A8_Score</th>\n",
       "      <th>A9_Score</th>\n",
       "      <th>A10_Score</th>\n",
       "      <th>age</th>\n",
       "      <th>result</th>\n",
       "    </tr>\n",
       "  </thead>\n",
       "  <tbody>\n",
       "    <tr>\n",
       "      <th>count</th>\n",
       "      <td>609.000000</td>\n",
       "      <td>609.000000</td>\n",
       "      <td>609.000000</td>\n",
       "      <td>609.000000</td>\n",
       "      <td>609.000000</td>\n",
       "      <td>609.000000</td>\n",
       "      <td>609.000000</td>\n",
       "      <td>609.000000</td>\n",
       "      <td>609.000000</td>\n",
       "      <td>609.000000</td>\n",
       "      <td>609.000000</td>\n",
       "      <td>609.000000</td>\n",
       "      <td>609.000000</td>\n",
       "    </tr>\n",
       "    <tr>\n",
       "      <th>mean</th>\n",
       "      <td>349.725780</td>\n",
       "      <td>0.740558</td>\n",
       "      <td>0.469622</td>\n",
       "      <td>0.481117</td>\n",
       "      <td>0.520525</td>\n",
       "      <td>0.525452</td>\n",
       "      <td>0.307061</td>\n",
       "      <td>0.428571</td>\n",
       "      <td>0.665025</td>\n",
       "      <td>0.341544</td>\n",
       "      <td>0.597701</td>\n",
       "      <td>30.215107</td>\n",
       "      <td>5.077176</td>\n",
       "    </tr>\n",
       "    <tr>\n",
       "      <th>std</th>\n",
       "      <td>207.856238</td>\n",
       "      <td>0.438689</td>\n",
       "      <td>0.499487</td>\n",
       "      <td>0.500054</td>\n",
       "      <td>0.499989</td>\n",
       "      <td>0.499762</td>\n",
       "      <td>0.461654</td>\n",
       "      <td>0.495278</td>\n",
       "      <td>0.472370</td>\n",
       "      <td>0.474617</td>\n",
       "      <td>0.490765</td>\n",
       "      <td>17.287470</td>\n",
       "      <td>2.522717</td>\n",
       "    </tr>\n",
       "    <tr>\n",
       "      <th>min</th>\n",
       "      <td>1.000000</td>\n",
       "      <td>0.000000</td>\n",
       "      <td>0.000000</td>\n",
       "      <td>0.000000</td>\n",
       "      <td>0.000000</td>\n",
       "      <td>0.000000</td>\n",
       "      <td>0.000000</td>\n",
       "      <td>0.000000</td>\n",
       "      <td>0.000000</td>\n",
       "      <td>0.000000</td>\n",
       "      <td>0.000000</td>\n",
       "      <td>17.000000</td>\n",
       "      <td>0.000000</td>\n",
       "    </tr>\n",
       "    <tr>\n",
       "      <th>25%</th>\n",
       "      <td>166.000000</td>\n",
       "      <td>0.000000</td>\n",
       "      <td>0.000000</td>\n",
       "      <td>0.000000</td>\n",
       "      <td>0.000000</td>\n",
       "      <td>0.000000</td>\n",
       "      <td>0.000000</td>\n",
       "      <td>0.000000</td>\n",
       "      <td>0.000000</td>\n",
       "      <td>0.000000</td>\n",
       "      <td>0.000000</td>\n",
       "      <td>22.000000</td>\n",
       "      <td>3.000000</td>\n",
       "    </tr>\n",
       "    <tr>\n",
       "      <th>50%</th>\n",
       "      <td>329.000000</td>\n",
       "      <td>1.000000</td>\n",
       "      <td>0.000000</td>\n",
       "      <td>0.000000</td>\n",
       "      <td>1.000000</td>\n",
       "      <td>1.000000</td>\n",
       "      <td>0.000000</td>\n",
       "      <td>0.000000</td>\n",
       "      <td>1.000000</td>\n",
       "      <td>0.000000</td>\n",
       "      <td>1.000000</td>\n",
       "      <td>27.000000</td>\n",
       "      <td>5.000000</td>\n",
       "    </tr>\n",
       "    <tr>\n",
       "      <th>75%</th>\n",
       "      <td>533.000000</td>\n",
       "      <td>1.000000</td>\n",
       "      <td>1.000000</td>\n",
       "      <td>1.000000</td>\n",
       "      <td>1.000000</td>\n",
       "      <td>1.000000</td>\n",
       "      <td>1.000000</td>\n",
       "      <td>1.000000</td>\n",
       "      <td>1.000000</td>\n",
       "      <td>1.000000</td>\n",
       "      <td>1.000000</td>\n",
       "      <td>35.000000</td>\n",
       "      <td>7.000000</td>\n",
       "    </tr>\n",
       "    <tr>\n",
       "      <th>max</th>\n",
       "      <td>704.000000</td>\n",
       "      <td>1.000000</td>\n",
       "      <td>1.000000</td>\n",
       "      <td>1.000000</td>\n",
       "      <td>1.000000</td>\n",
       "      <td>1.000000</td>\n",
       "      <td>1.000000</td>\n",
       "      <td>1.000000</td>\n",
       "      <td>1.000000</td>\n",
       "      <td>1.000000</td>\n",
       "      <td>1.000000</td>\n",
       "      <td>383.000000</td>\n",
       "      <td>10.000000</td>\n",
       "    </tr>\n",
       "  </tbody>\n",
       "</table>\n",
       "</div>"
      ],
      "text/plain": [
       "               id    A1_Score    A2_Score    A3_Score    A4_Score    A5_Score  \\\n",
       "count  609.000000  609.000000  609.000000  609.000000  609.000000  609.000000   \n",
       "mean   349.725780    0.740558    0.469622    0.481117    0.520525    0.525452   \n",
       "std    207.856238    0.438689    0.499487    0.500054    0.499989    0.499762   \n",
       "min      1.000000    0.000000    0.000000    0.000000    0.000000    0.000000   \n",
       "25%    166.000000    0.000000    0.000000    0.000000    0.000000    0.000000   \n",
       "50%    329.000000    1.000000    0.000000    0.000000    1.000000    1.000000   \n",
       "75%    533.000000    1.000000    1.000000    1.000000    1.000000    1.000000   \n",
       "max    704.000000    1.000000    1.000000    1.000000    1.000000    1.000000   \n",
       "\n",
       "         A6_Score    A7_Score    A8_Score    A9_Score   A10_Score         age  \\\n",
       "count  609.000000  609.000000  609.000000  609.000000  609.000000  609.000000   \n",
       "mean     0.307061    0.428571    0.665025    0.341544    0.597701   30.215107   \n",
       "std      0.461654    0.495278    0.472370    0.474617    0.490765   17.287470   \n",
       "min      0.000000    0.000000    0.000000    0.000000    0.000000   17.000000   \n",
       "25%      0.000000    0.000000    0.000000    0.000000    0.000000   22.000000   \n",
       "50%      0.000000    0.000000    1.000000    0.000000    1.000000   27.000000   \n",
       "75%      1.000000    1.000000    1.000000    1.000000    1.000000   35.000000   \n",
       "max      1.000000    1.000000    1.000000    1.000000    1.000000  383.000000   \n",
       "\n",
       "           result  \n",
       "count  609.000000  \n",
       "mean     5.077176  \n",
       "std      2.522717  \n",
       "min      0.000000  \n",
       "25%      3.000000  \n",
       "50%      5.000000  \n",
       "75%      7.000000  \n",
       "max     10.000000  "
      ]
     },
     "execution_count": 8,
     "metadata": {},
     "output_type": "execute_result"
    }
   ],
   "source": [
    "'''\n",
    "here I didn't use mean, median or any other forms to replace 'NaN' values because there are lot of categorical columns\n",
    "preset in the dataset, and it would make things complicated\n",
    "'''\n",
    "asd_data.dropna(inplace = True) #As the missing data is random, dropna will drop the rows with missing data\n",
    "asd_data.describe()"
   ]
  },
  {
   "cell_type": "markdown",
   "id": "6f99024e",
   "metadata": {},
   "source": [
    "# Visualization"
   ]
  },
  {
   "cell_type": "code",
   "execution_count": 10,
   "id": "a3808df3",
   "metadata": {},
   "outputs": [],
   "source": [
    "import seaborn as sns\n",
    "import matplotlib.pyplot as plt\n",
    "sns.set(style=\"whitegrid\", color_codes=True)"
   ]
  },
  {
   "cell_type": "code",
   "execution_count": 11,
   "id": "28ed4daf",
   "metadata": {},
   "outputs": [
    {
     "data": {
      "image/png": "[encoded data removed]",
      "text/plain": [
       "<Figure size 432x288 with 1 Axes>"
      ]
     },
     "metadata": {},
     "output_type": "display_data"
    }
   ],
   "source": [
    "sns.violinplot(x=\"jundice\", y=\"result\", hue=\"austim\", data=asd_data, split=True,\n",
    "                inner=\"quart\", palette={'yes': \"orange\", 'no': \"blue\"})\n",
    "sns.despine(left=True)"
   ]
  },
  {
   "cell_type": "code",
   "execution_count": 12,
   "id": "5c1b8f33",
   "metadata": {},
   "outputs": [
    {
     "name": "stderr",
     "output_type": "stream",
     "text": [
      "c:\\users\\harshit\\appdata\\local\\programs\\python\\python39\\lib\\site-packages\\seaborn\\categorical.py:3714: UserWarning: The `factorplot` function has been renamed to `catplot`. The original name will be removed in a future release. Please update your code. Note that the default `kind` in `factorplot` (`'point'`) has changed `'strip'` in `catplot`.\n",
      "  warnings.warn(msg)\n",
      "c:\\users\\harshit\\appdata\\local\\programs\\python\\python39\\lib\\site-packages\\seaborn\\categorical.py:1296: UserWarning: 15.1% of the points cannot be placed; you may want to decrease the size of the markers or use stripplot.\n",
      "  warnings.warn(msg, UserWarning)\n",
      "c:\\users\\harshit\\appdata\\local\\programs\\python\\python39\\lib\\site-packages\\seaborn\\categorical.py:1296: UserWarning: 27.1% of the points cannot be placed; you may want to decrease the size of the markers or use stripplot.\n",
      "  warnings.warn(msg, UserWarning)\n"
     ]
    },
    {
     "data": {
      "image/png": "[encoded data removed]",
      "text/plain": [
       "<Figure size 786.675x360 with 2 Axes>"
      ]
     },
     "metadata": {},
     "output_type": "display_data"
    }
   ],
   "source": [
    "sns.factorplot(x=\"jundice\", y=\"result\", hue=\"Class/ASD\", col=\"gender\", data=asd_data, kind=\"swarm\");"
   ]
  },
  {
   "cell_type": "code",
   "execution_count": 13,
   "id": "778e9c04",
   "metadata": {},
   "outputs": [
    {
     "name": "stderr",
     "output_type": "stream",
     "text": [
      "c:\\users\\harshit\\appdata\\local\\programs\\python\\python39\\lib\\site-packages\\seaborn\\categorical.py:3714: UserWarning: The `factorplot` function has been renamed to `catplot`. The original name will be removed in a future release. Please update your code. Note that the default `kind` in `factorplot` (`'point'`) has changed `'strip'` in `catplot`.\n",
      "  warnings.warn(msg)\n",
      "c:\\users\\harshit\\appdata\\local\\programs\\python\\python39\\lib\\site-packages\\seaborn\\categorical.py:3720: UserWarning: The `size` parameter has been renamed to `height`; please update your code.\n",
      "  warnings.warn(msg, UserWarning)\n"
     ]
    },
    {
     "data": {
      "image/png": "[encoded data removed]",
      "text/plain": [
       "<Figure size 786.675x288 with 5 Axes>"
      ]
     },
     "metadata": {},
     "output_type": "display_data"
    }
   ],
   "source": [
    "sns.factorplot(x=\"gender\", y=\"result\", hue=\"Class/ASD\",col=\"relation\", data=asd_data, kind=\"box\", size=4, aspect=.5, palette={'YES': \"orange\", 'NO': \"blue\"});"
   ]
  },
  {
   "cell_type": "code",
   "execution_count": 14,
   "id": "03a6025c",
   "metadata": {},
   "outputs": [
    {
     "name": "stderr",
     "output_type": "stream",
     "text": [
      "c:\\users\\harshit\\appdata\\local\\programs\\python\\python39\\lib\\site-packages\\seaborn\\categorical.py:3714: UserWarning: The `factorplot` function has been renamed to `catplot`. The original name will be removed in a future release. Please update your code. Note that the default `kind` in `factorplot` (`'point'`) has changed `'strip'` in `catplot`.\n",
      "  warnings.warn(msg)\n",
      "c:\\users\\harshit\\appdata\\local\\programs\\python\\python39\\lib\\site-packages\\seaborn\\categorical.py:3720: UserWarning: The `size` parameter has been renamed to `height`; please update your code.\n",
      "  warnings.warn(msg, UserWarning)\n"
     ]
    },
    {
     "data": {
      "image/png": "[encoded data removed]",
      "text/plain": [
       "<Figure size 552.85x720 with 5 Axes>"
      ]
     },
     "metadata": {},
     "output_type": "display_data"
    }
   ],
   "source": [
    "g = sns.factorplot(x=\"result\", y=\"jundice\",\n",
    "                   hue=\"gender\", row=\"relation\",\n",
    "                   data=asd_data,\n",
    "                    orient=\"h\", size=2, aspect=3.5, palette={'f': \"orange\", 'm': \"blue\"},\n",
    "                  kind=\"violin\", dodge=True, cut=0, bw=.2)"
   ]
  },
  {
   "cell_type": "markdown",
   "id": "e7f7210b",
   "metadata": {},
   "source": [
    "# Pre-Processing"
   ]
  },
  {
   "cell_type": "code",
   "execution_count": 9,
   "id": "6e41454c",
   "metadata": {},
   "outputs": [],
   "source": [
    "# Split the data into features and target label\n",
    "asd_raw = asd_data['Class/ASD']\n",
    "features_raw = asd_data[['age', 'gender', 'ethnicity', 'jundice', 'austim', \n",
    "                         'contry_of_res', 'result', 'relation',\n",
    "                         'A1_Score','A2_Score','A3_Score','A4_Score','A5_Score',\n",
    "                         'A6_Score','A7_Score','A8_Score','A9_Score','A10_Score']]"
   ]
  },
  {
   "cell_type": "code",
   "execution_count": 10,
   "id": "d22c807c",
   "metadata": {},
   "outputs": [
    {
     "data": {
      "text/html": [
       "<div>\n",
       "<style scoped>\n",
       "    .dataframe tbody tr th:only-of-type {\n",
       "        vertical-align: middle;\n",
       "    }\n",
       "\n",
       "    .dataframe tbody tr th {\n",
       "        vertical-align: top;\n",
       "    }\n",
       "\n",
       "    .dataframe thead th {\n",
       "        text-align: right;\n",
       "    }\n",
       "</style>\n",
       "<table border=\"1\" class=\"dataframe\">\n",
       "  <thead>\n",
       "    <tr style=\"text-align: right;\">\n",
       "      <th></th>\n",
       "      <th>age</th>\n",
       "      <th>gender</th>\n",
       "      <th>ethnicity</th>\n",
       "      <th>jundice</th>\n",
       "      <th>austim</th>\n",
       "      <th>contry_of_res</th>\n",
       "      <th>result</th>\n",
       "      <th>relation</th>\n",
       "      <th>A1_Score</th>\n",
       "      <th>A2_Score</th>\n",
       "      <th>A3_Score</th>\n",
       "      <th>A4_Score</th>\n",
       "      <th>A5_Score</th>\n",
       "      <th>A6_Score</th>\n",
       "      <th>A7_Score</th>\n",
       "      <th>A8_Score</th>\n",
       "      <th>A9_Score</th>\n",
       "      <th>A10_Score</th>\n",
       "    </tr>\n",
       "  </thead>\n",
       "  <tbody>\n",
       "    <tr>\n",
       "      <th>0</th>\n",
       "      <td>0.024590</td>\n",
       "      <td>f</td>\n",
       "      <td>White-European</td>\n",
       "      <td>no</td>\n",
       "      <td>no</td>\n",
       "      <td>United States</td>\n",
       "      <td>0.6</td>\n",
       "      <td>Self</td>\n",
       "      <td>1</td>\n",
       "      <td>1</td>\n",
       "      <td>1</td>\n",
       "      <td>1</td>\n",
       "      <td>0</td>\n",
       "      <td>0</td>\n",
       "      <td>1</td>\n",
       "      <td>1</td>\n",
       "      <td>0</td>\n",
       "      <td>0</td>\n",
       "    </tr>\n",
       "    <tr>\n",
       "      <th>1</th>\n",
       "      <td>0.019126</td>\n",
       "      <td>m</td>\n",
       "      <td>Latino</td>\n",
       "      <td>no</td>\n",
       "      <td>yes</td>\n",
       "      <td>Brazil</td>\n",
       "      <td>0.5</td>\n",
       "      <td>Self</td>\n",
       "      <td>1</td>\n",
       "      <td>1</td>\n",
       "      <td>0</td>\n",
       "      <td>1</td>\n",
       "      <td>0</td>\n",
       "      <td>0</td>\n",
       "      <td>0</td>\n",
       "      <td>1</td>\n",
       "      <td>0</td>\n",
       "      <td>1</td>\n",
       "    </tr>\n",
       "    <tr>\n",
       "      <th>2</th>\n",
       "      <td>0.027322</td>\n",
       "      <td>m</td>\n",
       "      <td>Latino</td>\n",
       "      <td>yes</td>\n",
       "      <td>yes</td>\n",
       "      <td>Spain</td>\n",
       "      <td>0.8</td>\n",
       "      <td>Parent</td>\n",
       "      <td>1</td>\n",
       "      <td>1</td>\n",
       "      <td>0</td>\n",
       "      <td>1</td>\n",
       "      <td>1</td>\n",
       "      <td>0</td>\n",
       "      <td>1</td>\n",
       "      <td>1</td>\n",
       "      <td>1</td>\n",
       "      <td>1</td>\n",
       "    </tr>\n",
       "    <tr>\n",
       "      <th>3</th>\n",
       "      <td>0.049180</td>\n",
       "      <td>f</td>\n",
       "      <td>White-European</td>\n",
       "      <td>no</td>\n",
       "      <td>yes</td>\n",
       "      <td>United States</td>\n",
       "      <td>0.6</td>\n",
       "      <td>Self</td>\n",
       "      <td>1</td>\n",
       "      <td>1</td>\n",
       "      <td>0</td>\n",
       "      <td>1</td>\n",
       "      <td>0</td>\n",
       "      <td>0</td>\n",
       "      <td>1</td>\n",
       "      <td>1</td>\n",
       "      <td>0</td>\n",
       "      <td>1</td>\n",
       "    </tr>\n",
       "    <tr>\n",
       "      <th>5</th>\n",
       "      <td>0.051913</td>\n",
       "      <td>m</td>\n",
       "      <td>Others</td>\n",
       "      <td>yes</td>\n",
       "      <td>no</td>\n",
       "      <td>United States</td>\n",
       "      <td>0.9</td>\n",
       "      <td>Self</td>\n",
       "      <td>1</td>\n",
       "      <td>1</td>\n",
       "      <td>1</td>\n",
       "      <td>1</td>\n",
       "      <td>1</td>\n",
       "      <td>0</td>\n",
       "      <td>1</td>\n",
       "      <td>1</td>\n",
       "      <td>1</td>\n",
       "      <td>1</td>\n",
       "    </tr>\n",
       "    <tr>\n",
       "      <th>...</th>\n",
       "      <td>...</td>\n",
       "      <td>...</td>\n",
       "      <td>...</td>\n",
       "      <td>...</td>\n",
       "      <td>...</td>\n",
       "      <td>...</td>\n",
       "      <td>...</td>\n",
       "      <td>...</td>\n",
       "      <td>...</td>\n",
       "      <td>...</td>\n",
       "      <td>...</td>\n",
       "      <td>...</td>\n",
       "      <td>...</td>\n",
       "      <td>...</td>\n",
       "      <td>...</td>\n",
       "      <td>...</td>\n",
       "      <td>...</td>\n",
       "      <td>...</td>\n",
       "    </tr>\n",
       "    <tr>\n",
       "      <th>698</th>\n",
       "      <td>0.027322</td>\n",
       "      <td>f</td>\n",
       "      <td>Pasifika</td>\n",
       "      <td>no</td>\n",
       "      <td>no</td>\n",
       "      <td>Australia</td>\n",
       "      <td>1.0</td>\n",
       "      <td>Self</td>\n",
       "      <td>1</td>\n",
       "      <td>1</td>\n",
       "      <td>1</td>\n",
       "      <td>1</td>\n",
       "      <td>1</td>\n",
       "      <td>1</td>\n",
       "      <td>1</td>\n",
       "      <td>1</td>\n",
       "      <td>1</td>\n",
       "      <td>1</td>\n",
       "    </tr>\n",
       "    <tr>\n",
       "      <th>699</th>\n",
       "      <td>0.021858</td>\n",
       "      <td>f</td>\n",
       "      <td>White-European</td>\n",
       "      <td>no</td>\n",
       "      <td>no</td>\n",
       "      <td>Russia</td>\n",
       "      <td>0.7</td>\n",
       "      <td>Self</td>\n",
       "      <td>0</td>\n",
       "      <td>1</td>\n",
       "      <td>0</td>\n",
       "      <td>1</td>\n",
       "      <td>1</td>\n",
       "      <td>0</td>\n",
       "      <td>1</td>\n",
       "      <td>1</td>\n",
       "      <td>1</td>\n",
       "      <td>1</td>\n",
       "    </tr>\n",
       "    <tr>\n",
       "      <th>700</th>\n",
       "      <td>0.046448</td>\n",
       "      <td>m</td>\n",
       "      <td>Hispanic</td>\n",
       "      <td>no</td>\n",
       "      <td>no</td>\n",
       "      <td>Mexico</td>\n",
       "      <td>0.3</td>\n",
       "      <td>Parent</td>\n",
       "      <td>1</td>\n",
       "      <td>0</td>\n",
       "      <td>0</td>\n",
       "      <td>0</td>\n",
       "      <td>0</td>\n",
       "      <td>0</td>\n",
       "      <td>0</td>\n",
       "      <td>1</td>\n",
       "      <td>0</td>\n",
       "      <td>1</td>\n",
       "    </tr>\n",
       "    <tr>\n",
       "      <th>702</th>\n",
       "      <td>0.049180</td>\n",
       "      <td>m</td>\n",
       "      <td>South Asian</td>\n",
       "      <td>no</td>\n",
       "      <td>no</td>\n",
       "      <td>Pakistan</td>\n",
       "      <td>0.6</td>\n",
       "      <td>Self</td>\n",
       "      <td>1</td>\n",
       "      <td>0</td>\n",
       "      <td>0</td>\n",
       "      <td>1</td>\n",
       "      <td>1</td>\n",
       "      <td>0</td>\n",
       "      <td>1</td>\n",
       "      <td>0</td>\n",
       "      <td>1</td>\n",
       "      <td>1</td>\n",
       "    </tr>\n",
       "    <tr>\n",
       "      <th>703</th>\n",
       "      <td>0.024590</td>\n",
       "      <td>f</td>\n",
       "      <td>White-European</td>\n",
       "      <td>no</td>\n",
       "      <td>no</td>\n",
       "      <td>Cyprus</td>\n",
       "      <td>0.8</td>\n",
       "      <td>Self</td>\n",
       "      <td>1</td>\n",
       "      <td>0</td>\n",
       "      <td>1</td>\n",
       "      <td>1</td>\n",
       "      <td>1</td>\n",
       "      <td>0</td>\n",
       "      <td>1</td>\n",
       "      <td>1</td>\n",
       "      <td>1</td>\n",
       "      <td>1</td>\n",
       "    </tr>\n",
       "  </tbody>\n",
       "</table>\n",
       "<p>609 rows × 18 columns</p>\n",
       "</div>"
      ],
      "text/plain": [
       "          age gender       ethnicity jundice austim  contry_of_res  result  \\\n",
       "0    0.024590      f  White-European      no     no  United States     0.6   \n",
       "1    0.019126      m          Latino      no    yes         Brazil     0.5   \n",
       "2    0.027322      m          Latino     yes    yes          Spain     0.8   \n",
       "3    0.049180      f  White-European      no    yes  United States     0.6   \n",
       "5    0.051913      m          Others     yes     no  United States     0.9   \n",
       "..        ...    ...             ...     ...    ...            ...     ...   \n",
       "698  0.027322      f        Pasifika      no     no      Australia     1.0   \n",
       "699  0.021858      f  White-European      no     no         Russia     0.7   \n",
       "700  0.046448      m        Hispanic      no     no         Mexico     0.3   \n",
       "702  0.049180      m     South Asian      no     no       Pakistan     0.6   \n",
       "703  0.024590      f  White-European      no     no         Cyprus     0.8   \n",
       "\n",
       "    relation  A1_Score  A2_Score  A3_Score  A4_Score  A5_Score  A6_Score  \\\n",
       "0       Self         1         1         1         1         0         0   \n",
       "1       Self         1         1         0         1         0         0   \n",
       "2     Parent         1         1         0         1         1         0   \n",
       "3       Self         1         1         0         1         0         0   \n",
       "5       Self         1         1         1         1         1         0   \n",
       "..       ...       ...       ...       ...       ...       ...       ...   \n",
       "698     Self         1         1         1         1         1         1   \n",
       "699     Self         0         1         0         1         1         0   \n",
       "700   Parent         1         0         0         0         0         0   \n",
       "702     Self         1         0         0         1         1         0   \n",
       "703     Self         1         0         1         1         1         0   \n",
       "\n",
       "     A7_Score  A8_Score  A9_Score  A10_Score  \n",
       "0           1         1         0          0  \n",
       "1           0         1         0          1  \n",
       "2           1         1         1          1  \n",
       "3           1         1         0          1  \n",
       "5           1         1         1          1  \n",
       "..        ...       ...       ...        ...  \n",
       "698         1         1         1          1  \n",
       "699         1         1         1          1  \n",
       "700         0         1         0          1  \n",
       "702         1         0         1          1  \n",
       "703         1         1         1          1  \n",
       "\n",
       "[609 rows x 18 columns]"
      ]
     },
     "execution_count": 10,
     "metadata": {},
     "output_type": "execute_result"
    }
   ],
   "source": [
    "# Some of our models require the input data to be normalized, \n",
    "# so I proceed to normalize the attribute data. Here, I use preprocessing.MinMaxScaler().\n",
    "\n",
    "from sklearn.preprocessing import MinMaxScaler\n",
    "\n",
    "scaler = MinMaxScaler()\n",
    "numerical = ['age', 'result']\n",
    "\n",
    "features_minmax_transform = pd.DataFrame(data = features_raw)\n",
    "features_minmax_transform[numerical] = scaler.fit_transform(features_raw[numerical])\n",
    "features_minmax_transform"
   ]
  },
  {
   "cell_type": "code",
   "execution_count": 11,
   "id": "58636caf",
   "metadata": {},
   "outputs": [
    {
     "data": {
      "text/html": [
       "<div>\n",
       "<style scoped>\n",
       "    .dataframe tbody tr th:only-of-type {\n",
       "        vertical-align: middle;\n",
       "    }\n",
       "\n",
       "    .dataframe tbody tr th {\n",
       "        vertical-align: top;\n",
       "    }\n",
       "\n",
       "    .dataframe thead th {\n",
       "        text-align: right;\n",
       "    }\n",
       "</style>\n",
       "<table border=\"1\" class=\"dataframe\">\n",
       "  <thead>\n",
       "    <tr style=\"text-align: right;\">\n",
       "      <th></th>\n",
       "      <th>age</th>\n",
       "      <th>result</th>\n",
       "      <th>A1_Score</th>\n",
       "      <th>A2_Score</th>\n",
       "      <th>A3_Score</th>\n",
       "      <th>A4_Score</th>\n",
       "      <th>A5_Score</th>\n",
       "      <th>A6_Score</th>\n",
       "      <th>A7_Score</th>\n",
       "      <th>A8_Score</th>\n",
       "      <th>...</th>\n",
       "      <th>contry_of_res_United Arab Emirates</th>\n",
       "      <th>contry_of_res_United Kingdom</th>\n",
       "      <th>contry_of_res_United States</th>\n",
       "      <th>contry_of_res_Uruguay</th>\n",
       "      <th>contry_of_res_Viet Nam</th>\n",
       "      <th>relation_Health care professional</th>\n",
       "      <th>relation_Others</th>\n",
       "      <th>relation_Parent</th>\n",
       "      <th>relation_Relative</th>\n",
       "      <th>relation_Self</th>\n",
       "    </tr>\n",
       "  </thead>\n",
       "  <tbody>\n",
       "    <tr>\n",
       "      <th>0</th>\n",
       "      <td>0.024590</td>\n",
       "      <td>0.6</td>\n",
       "      <td>1</td>\n",
       "      <td>1</td>\n",
       "      <td>1</td>\n",
       "      <td>1</td>\n",
       "      <td>0</td>\n",
       "      <td>0</td>\n",
       "      <td>1</td>\n",
       "      <td>1</td>\n",
       "      <td>...</td>\n",
       "      <td>0</td>\n",
       "      <td>0</td>\n",
       "      <td>1</td>\n",
       "      <td>0</td>\n",
       "      <td>0</td>\n",
       "      <td>0</td>\n",
       "      <td>0</td>\n",
       "      <td>0</td>\n",
       "      <td>0</td>\n",
       "      <td>1</td>\n",
       "    </tr>\n",
       "    <tr>\n",
       "      <th>1</th>\n",
       "      <td>0.019126</td>\n",
       "      <td>0.5</td>\n",
       "      <td>1</td>\n",
       "      <td>1</td>\n",
       "      <td>0</td>\n",
       "      <td>1</td>\n",
       "      <td>0</td>\n",
       "      <td>0</td>\n",
       "      <td>0</td>\n",
       "      <td>1</td>\n",
       "      <td>...</td>\n",
       "      <td>0</td>\n",
       "      <td>0</td>\n",
       "      <td>0</td>\n",
       "      <td>0</td>\n",
       "      <td>0</td>\n",
       "      <td>0</td>\n",
       "      <td>0</td>\n",
       "      <td>0</td>\n",
       "      <td>0</td>\n",
       "      <td>1</td>\n",
       "    </tr>\n",
       "    <tr>\n",
       "      <th>2</th>\n",
       "      <td>0.027322</td>\n",
       "      <td>0.8</td>\n",
       "      <td>1</td>\n",
       "      <td>1</td>\n",
       "      <td>0</td>\n",
       "      <td>1</td>\n",
       "      <td>1</td>\n",
       "      <td>0</td>\n",
       "      <td>1</td>\n",
       "      <td>1</td>\n",
       "      <td>...</td>\n",
       "      <td>0</td>\n",
       "      <td>0</td>\n",
       "      <td>0</td>\n",
       "      <td>0</td>\n",
       "      <td>0</td>\n",
       "      <td>0</td>\n",
       "      <td>0</td>\n",
       "      <td>1</td>\n",
       "      <td>0</td>\n",
       "      <td>0</td>\n",
       "    </tr>\n",
       "    <tr>\n",
       "      <th>3</th>\n",
       "      <td>0.049180</td>\n",
       "      <td>0.6</td>\n",
       "      <td>1</td>\n",
       "      <td>1</td>\n",
       "      <td>0</td>\n",
       "      <td>1</td>\n",
       "      <td>0</td>\n",
       "      <td>0</td>\n",
       "      <td>1</td>\n",
       "      <td>1</td>\n",
       "      <td>...</td>\n",
       "      <td>0</td>\n",
       "      <td>0</td>\n",
       "      <td>1</td>\n",
       "      <td>0</td>\n",
       "      <td>0</td>\n",
       "      <td>0</td>\n",
       "      <td>0</td>\n",
       "      <td>0</td>\n",
       "      <td>0</td>\n",
       "      <td>1</td>\n",
       "    </tr>\n",
       "    <tr>\n",
       "      <th>5</th>\n",
       "      <td>0.051913</td>\n",
       "      <td>0.9</td>\n",
       "      <td>1</td>\n",
       "      <td>1</td>\n",
       "      <td>1</td>\n",
       "      <td>1</td>\n",
       "      <td>1</td>\n",
       "      <td>0</td>\n",
       "      <td>1</td>\n",
       "      <td>1</td>\n",
       "      <td>...</td>\n",
       "      <td>0</td>\n",
       "      <td>0</td>\n",
       "      <td>1</td>\n",
       "      <td>0</td>\n",
       "      <td>0</td>\n",
       "      <td>0</td>\n",
       "      <td>0</td>\n",
       "      <td>0</td>\n",
       "      <td>0</td>\n",
       "      <td>1</td>\n",
       "    </tr>\n",
       "  </tbody>\n",
       "</table>\n",
       "<p>5 rows × 94 columns</p>\n",
       "</div>"
      ],
      "text/plain": [
       "        age  result  A1_Score  A2_Score  A3_Score  A4_Score  A5_Score  \\\n",
       "0  0.024590     0.6         1         1         1         1         0   \n",
       "1  0.019126     0.5         1         1         0         1         0   \n",
       "2  0.027322     0.8         1         1         0         1         1   \n",
       "3  0.049180     0.6         1         1         0         1         0   \n",
       "5  0.051913     0.9         1         1         1         1         1   \n",
       "\n",
       "   A6_Score  A7_Score  A8_Score  ...  contry_of_res_United Arab Emirates  \\\n",
       "0         0         1         1  ...                                   0   \n",
       "1         0         0         1  ...                                   0   \n",
       "2         0         1         1  ...                                   0   \n",
       "3         0         1         1  ...                                   0   \n",
       "5         0         1         1  ...                                   0   \n",
       "\n",
       "   contry_of_res_United Kingdom  contry_of_res_United States  \\\n",
       "0                             0                            1   \n",
       "1                             0                            0   \n",
       "2                             0                            0   \n",
       "3                             0                            1   \n",
       "5                             0                            1   \n",
       "\n",
       "   contry_of_res_Uruguay  contry_of_res_Viet Nam  \\\n",
       "0                      0                       0   \n",
       "1                      0                       0   \n",
       "2                      0                       0   \n",
       "3                      0                       0   \n",
       "5                      0                       0   \n",
       "\n",
       "   relation_Health care professional  relation_Others  relation_Parent  \\\n",
       "0                                  0                0                0   \n",
       "1                                  0                0                0   \n",
       "2                                  0                0                1   \n",
       "3                                  0                0                0   \n",
       "5                                  0                0                0   \n",
       "\n",
       "   relation_Relative  relation_Self  \n",
       "0                  0              1  \n",
       "1                  0              1  \n",
       "2                  0              0  \n",
       "3                  0              1  \n",
       "5                  0              1  \n",
       "\n",
       "[5 rows x 94 columns]"
      ]
     },
     "metadata": {},
     "output_type": "display_data"
    }
   ],
   "source": [
    "# One-Hot encoding\n",
    "\n",
    "features_final = pd.get_dummies(features_minmax_transform)\n",
    "display(features_final.head(5))"
   ]
  },
  {
   "cell_type": "code",
   "execution_count": 12,
   "id": "042ceb41",
   "metadata": {},
   "outputs": [
    {
     "name": "stdout",
     "output_type": "stream",
     "text": [
      "94 total features after one-hot encoding.\n"
     ]
    }
   ],
   "source": [
    "# Encode the 'all_classes_raw' data to numerical values\n",
    "asd_classes = asd_raw.apply(lambda x: 1 if x == 'YES' else 0)\n",
    "\n",
    "# Print the number of features after one-hot encoding\n",
    "encoded = list(features_final.columns)\n",
    "print(\"{} total features after one-hot encoding.\".format(len(encoded)))"
   ]
  },
  {
   "cell_type": "code",
   "execution_count": 13,
   "id": "916721c6",
   "metadata": {},
   "outputs": [
    {
     "name": "stdout",
     "output_type": "stream",
     "text": [
      "['age', 'result', 'A1_Score', 'A2_Score', 'A3_Score', 'A4_Score', 'A5_Score', 'A6_Score', 'A7_Score', 'A8_Score', 'A9_Score', 'A10_Score', 'gender_f', 'gender_m', 'ethnicity_Asian', 'ethnicity_Black', 'ethnicity_Hispanic', 'ethnicity_Latino', 'ethnicity_Middle Eastern ', 'ethnicity_Others', 'ethnicity_Pasifika', 'ethnicity_South Asian', 'ethnicity_Turkish', 'ethnicity_White-European', 'ethnicity_others', 'jundice_no', 'jundice_yes', 'austim_no', 'austim_yes', 'contry_of_res_Afghanistan', 'contry_of_res_AmericanSamoa', 'contry_of_res_Angola', 'contry_of_res_Armenia', 'contry_of_res_Aruba', 'contry_of_res_Australia', 'contry_of_res_Austria', 'contry_of_res_Bahamas', 'contry_of_res_Bangladesh', 'contry_of_res_Belgium', 'contry_of_res_Bolivia', 'contry_of_res_Brazil', 'contry_of_res_Burundi', 'contry_of_res_Canada', 'contry_of_res_Chile', 'contry_of_res_China', 'contry_of_res_Costa Rica', 'contry_of_res_Cyprus', 'contry_of_res_Czech Republic', 'contry_of_res_Ecuador', 'contry_of_res_Egypt', 'contry_of_res_Ethiopia', 'contry_of_res_Finland', 'contry_of_res_France', 'contry_of_res_Germany', 'contry_of_res_Iceland', 'contry_of_res_India', 'contry_of_res_Indonesia', 'contry_of_res_Iran', 'contry_of_res_Ireland', 'contry_of_res_Italy', 'contry_of_res_Jordan', 'contry_of_res_Malaysia', 'contry_of_res_Mexico', 'contry_of_res_Nepal', 'contry_of_res_Netherlands', 'contry_of_res_New Zealand', 'contry_of_res_Nicaragua', 'contry_of_res_Niger', 'contry_of_res_Oman', 'contry_of_res_Pakistan', 'contry_of_res_Philippines', 'contry_of_res_Portugal', 'contry_of_res_Romania', 'contry_of_res_Russia', 'contry_of_res_Saudi Arabia', 'contry_of_res_Serbia', 'contry_of_res_Sierra Leone', 'contry_of_res_South Africa', 'contry_of_res_Spain', 'contry_of_res_Sri Lanka', 'contry_of_res_Sweden', 'contry_of_res_Tonga', 'contry_of_res_Turkey', 'contry_of_res_Ukraine', 'contry_of_res_United Arab Emirates', 'contry_of_res_United Kingdom', 'contry_of_res_United States', 'contry_of_res_Uruguay', 'contry_of_res_Viet Nam', 'relation_Health care professional', 'relation_Others', 'relation_Parent', 'relation_Relative', 'relation_Self']\n"
     ]
    }
   ],
   "source": [
    "print(encoded)"
   ]
  },
  {
   "cell_type": "code",
   "execution_count": 14,
   "id": "93d7f3ba",
   "metadata": {},
   "outputs": [
    {
     "data": {
      "text/plain": [
       "Text(0, 0.5, 'Frequency')"
      ]
     },
     "execution_count": 14,
     "metadata": {},
     "output_type": "execute_result"
    },
    {
     "data": {
      "image/png": "[encoded data removed]",
      "text/plain": [
       "<Figure size 432x288 with 1 Axes>"
      ]
     },
     "metadata": {
      "needs_background": "light"
     },
     "output_type": "display_data"
    }
   ],
   "source": [
    "#visualization of classes asd_data dataset\n",
    "\n",
    "import matplotlib.pyplot as plt\n",
    "\n",
    "plt.hist(asd_classes, bins=10)\n",
    "\n",
    "plt.xlim(0,1)\n",
    "plt.title('Histogram of Class/ASD')\n",
    "plt.xlabel('Class/ASD from processed data')\n",
    "plt.ylabel('Frequency')"
   ]
  },
  {
   "cell_type": "markdown",
   "id": "160cefff",
   "metadata": {},
   "source": [
    "# Shuffle and Split Data"
   ]
  },
  {
   "cell_type": "code",
   "execution_count": 15,
   "id": "055e273b",
   "metadata": {},
   "outputs": [],
   "source": [
    "from sklearn.model_selection import train_test_split\n",
    "\n",
    "X_train, X_test, y_train, y_test = train_test_split(features_final, asd_classes, train_size=0.80, random_state=1)"
   ]
  },
  {
   "cell_type": "code",
   "execution_count": 16,
   "id": "d81c4214",
   "metadata": {},
   "outputs": [
    {
     "name": "stdout",
     "output_type": "stream",
     "text": [
      "Number of samples in Training set :  487\n",
      "Number of samples in testing set :  122\n"
     ]
    }
   ],
   "source": [
    "print(\"Number of samples in Training set : \", X_train.shape[0])\n",
    "print(\"Number of samples in testing set : \", X_test.shape[0])"
   ]
  },
  {
   "cell_type": "markdown",
   "id": "d3aafb57",
   "metadata": {},
   "source": [
    "# Machine Learning Techniques"
   ]
  },
  {
   "cell_type": "markdown",
   "id": "8d21c434",
   "metadata": {},
   "source": [
    "## Logistic Regression"
   ]
  },
  {
   "cell_type": "code",
   "execution_count": 17,
   "id": "d609611b",
   "metadata": {},
   "outputs": [
    {
     "data": {
      "text/plain": [
       "array([1, 0, 0, 1, 1, 0, 1, 1, 0, 0, 0, 0, 0, 1, 0, 0, 0, 0, 0, 1, 0, 1,\n",
       "       0, 1, 0, 0, 0, 0, 0, 1, 0, 1, 0, 0, 1, 1, 1, 1, 0, 0, 1, 0, 1, 0,\n",
       "       0, 0, 0, 0, 1, 0, 0, 1, 0, 1, 0, 1, 0, 1, 0, 0, 0, 0, 1, 0, 0, 1,\n",
       "       0, 0, 0, 1, 1, 0, 0, 0, 0, 1, 1, 0, 1, 0, 1, 1, 1, 0, 1, 0, 0, 1,\n",
       "       0, 0, 1, 0, 1, 1, 0, 0, 1, 1, 0, 0, 0, 0, 0, 1, 0, 1, 1, 0, 0, 0,\n",
       "       0, 0, 0, 1, 0, 0, 0, 0, 0, 0, 1, 1], dtype=int64)"
      ]
     },
     "execution_count": 17,
     "metadata": {},
     "output_type": "execute_result"
    }
   ],
   "source": [
    "from sklearn.linear_model import LogisticRegression\n",
    "\n",
    "lr = LogisticRegression()\n",
    "lr.fit(X_train, y_train)\n",
    "y_pred_class = lr.predict(X_test)\n",
    "lr.predict(X_test)"
   ]
  },
  {
   "cell_type": "code",
   "execution_count": 18,
   "id": "c339378d",
   "metadata": {},
   "outputs": [
    {
     "name": "stdout",
     "output_type": "stream",
     "text": [
      "[[77  2]\n",
      " [ 0 43]]\n"
     ]
    },
    {
     "data": {
      "image/png": "[encoded data removed]",
      "text/plain": [
       "<Figure size 288x288 with 2 Axes>"
      ]
     },
     "metadata": {
      "needs_background": "light"
     },
     "output_type": "display_data"
    }
   ],
   "source": [
    "#confusion matrix\n",
    "\n",
    "from sklearn import metrics\n",
    "confusion = metrics.confusion_matrix(y_test, y_pred_class)\n",
    "print(confusion)\n",
    "TP = confusion[1, 1]\n",
    "TN = confusion[0, 0]\n",
    "FP = confusion[0, 1]\n",
    "FN = confusion[1, 0]\n",
    "\n",
    "\n",
    "plt.matshow(confusion)\n",
    "plt.title('Logistic Regression Confusion matrix',y=1.20)\n",
    "plt.colorbar()\n",
    "plt.ylabel('True label')\n",
    "plt.xlabel('Predicted label')\n",
    "plt.show()"
   ]
  },
  {
   "cell_type": "code",
   "execution_count": 19,
   "id": "6910503c",
   "metadata": {},
   "outputs": [
    {
     "name": "stdout",
     "output_type": "stream",
     "text": [
      "Classification Accuracy : 0.9836065573770492\n",
      "Classification Error : 0.01639344262295082\n",
      "Senstivity : 1.0\n",
      "Specificity : 0.9746835443037974\n",
      "False Positive Rate : 0.02531645569620253\n",
      "Precision : 0.9555555555555556\n"
     ]
    }
   ],
   "source": [
    "print(\"Classification Accuracy :\", (TP + TN) / float(TP + TN + FP + FN))\n",
    "print(\"Classification Error :\", (FP + FN) / float(TP + TN + FP + FN))\n",
    "print(\"Senstivity :\", TP / float(FN + TP))\n",
    "print(\"Specificity :\", TN / (TN + FP))\n",
    "print(\"False Positive Rate :\", FP / float(TN + FP))\n",
    "print(\"Precision :\", TP / float(TP + FP))"
   ]
  },
  {
   "cell_type": "code",
   "execution_count": 20,
   "id": "41a984f5",
   "metadata": {},
   "outputs": [
    {
     "data": {
      "text/plain": [
       "0.9772727272727273"
      ]
     },
     "execution_count": 20,
     "metadata": {},
     "output_type": "execute_result"
    }
   ],
   "source": [
    "#F1 score\n",
    "from sklearn.metrics import f1_score\n",
    "predictions_test = lr.predict(X_test)\n",
    "f1_score(y_test,predictions_test)"
   ]
  },
  {
   "cell_type": "code",
   "execution_count": 21,
   "id": "74583ff1",
   "metadata": {},
   "outputs": [
    {
     "data": {
      "text/plain": [
       "0.9641255605381165"
      ]
     },
     "execution_count": 21,
     "metadata": {},
     "output_type": "execute_result"
    }
   ],
   "source": [
    "#F- beta score\n",
    "\n",
    "from sklearn.metrics import fbeta_score\n",
    "predictions_test = lr.predict(X_test)\n",
    "fbeta_score(y_test, predictions_test, average='binary', beta=0.5)"
   ]
  },
  {
   "cell_type": "markdown",
   "id": "7431c462",
   "metadata": {},
   "source": [
    "## Decision Tree "
   ]
  },
  {
   "cell_type": "code",
   "execution_count": 22,
   "id": "0a66cb43",
   "metadata": {},
   "outputs": [
    {
     "data": {
      "text/plain": [
       "DecisionTreeClassifier(random_state=1)"
      ]
     },
     "execution_count": 22,
     "metadata": {},
     "output_type": "execute_result"
    }
   ],
   "source": [
    "from sklearn import tree\n",
    "from sklearn.tree import DecisionTreeClassifier\n",
    "\n",
    "dtc = DecisionTreeClassifier(random_state=1)\n",
    "\n",
    "# Train the classifier on the training set\n",
    "dtc.fit(X_train, y_train)"
   ]
  },
  {
   "cell_type": "code",
   "execution_count": 23,
   "id": "6920a942",
   "metadata": {},
   "outputs": [],
   "source": [
    "y_pred_class = dtc.predict(X_test)"
   ]
  },
  {
   "cell_type": "code",
   "execution_count": 24,
   "id": "ace73418",
   "metadata": {},
   "outputs": [
    {
     "name": "stdout",
     "output_type": "stream",
     "text": [
      "[[79  0]\n",
      " [ 0 43]]\n"
     ]
    },
    {
     "data": {
      "image/png": "[encoded data removed]",
      "text/plain": [
       "<Figure size 288x288 with 2 Axes>"
      ]
     },
     "metadata": {
      "needs_background": "light"
     },
     "output_type": "display_data"
    }
   ],
   "source": [
    "#confusion matrix\n",
    "\n",
    "from sklearn import metrics\n",
    "confusion = metrics.confusion_matrix(y_test, y_pred_class)\n",
    "print(confusion)\n",
    "TP = confusion[1, 1]\n",
    "TN = confusion[0, 0]\n",
    "FP = confusion[0, 1]\n",
    "FN = confusion[1, 0]\n",
    "\n",
    "plt.matshow(confusion)\n",
    "plt.title('Decision Tree Confusion matrix',y=1.20)\n",
    "plt.colorbar()\n",
    "plt.ylabel('True label')\n",
    "plt.xlabel('Predicted label')\n",
    "plt.show()\n"
   ]
  },
  {
   "cell_type": "code",
   "execution_count": 25,
   "id": "521e8592",
   "metadata": {},
   "outputs": [
    {
     "name": "stdout",
     "output_type": "stream",
     "text": [
      "Classification Accuracy : 1.0\n",
      "Classification Error : 0.0\n",
      "Senstivity : 1.0\n",
      "Specificity : 1.0\n",
      "False Positive Rate : 0.0\n",
      "Precision : 1.0\n"
     ]
    }
   ],
   "source": [
    "print(\"Classification Accuracy :\", (TP + TN) / float(TP + TN + FP + FN))\n",
    "print(\"Classification Error :\", (FP + FN) / float(TP + TN + FP + FN))\n",
    "print(\"Senstivity :\", TP / float(FN + TP))\n",
    "print(\"Specificity :\", TN / (TN + FP))\n",
    "print(\"False Positive Rate :\", FP / float(TN + FP))\n",
    "print(\"Precision :\", TP / float(TP + FP))"
   ]
  },
  {
   "cell_type": "code",
   "execution_count": 26,
   "id": "47a5a698",
   "metadata": {},
   "outputs": [
    {
     "data": {
      "text/plain": [
       "1.0"
      ]
     },
     "execution_count": 26,
     "metadata": {},
     "output_type": "execute_result"
    }
   ],
   "source": [
    "#Score metric model performance\n",
    "\n",
    "dtc.score(X_test, y_test)"
   ]
  },
  {
   "cell_type": "code",
   "execution_count": 27,
   "id": "a98a4d0f",
   "metadata": {},
   "outputs": [
    {
     "data": {
      "text/plain": [
       "1.0"
      ]
     },
     "execution_count": 27,
     "metadata": {},
     "output_type": "execute_result"
    }
   ],
   "source": [
    "#F1 score\n",
    "from sklearn.metrics import f1_score\n",
    "predictions_test = dtc.predict(X_test)\n",
    "f1_score(y_test,predictions_test)"
   ]
  },
  {
   "cell_type": "code",
   "execution_count": 28,
   "id": "acb7872e",
   "metadata": {},
   "outputs": [
    {
     "data": {
      "text/plain": [
       "1.0"
      ]
     },
     "execution_count": 28,
     "metadata": {},
     "output_type": "execute_result"
    }
   ],
   "source": [
    "#F- beta score\n",
    "\n",
    "from sklearn.metrics import fbeta_score\n",
    "predictions_test = dtc.predict(X_test)\n",
    "fbeta_score(y_test, predictions_test, average='binary', beta=0.5)"
   ]
  },
  {
   "cell_type": "markdown",
   "id": "4a08f69f",
   "metadata": {},
   "source": [
    "## K-Nearest Neighbor"
   ]
  },
  {
   "cell_type": "code",
   "execution_count": 29,
   "id": "f4682c1a",
   "metadata": {},
   "outputs": [
    {
     "data": {
      "text/plain": [
       "array([1, 0, 0, 1, 1, 0, 1, 1, 0, 0, 0, 0, 0, 1, 0, 0, 0, 0, 0, 1, 0, 1,\n",
       "       0, 1, 0, 0, 0, 0, 0, 1, 0, 0, 0, 0, 1, 1, 1, 1, 0, 0, 1, 0, 1, 0,\n",
       "       0, 0, 0, 0, 0, 0, 1, 1, 0, 1, 0, 1, 0, 1, 0, 0, 0, 0, 1, 0, 0, 1,\n",
       "       0, 0, 0, 1, 1, 0, 0, 0, 0, 1, 1, 0, 1, 0, 1, 1, 1, 0, 1, 0, 0, 1,\n",
       "       0, 0, 1, 0, 1, 1, 0, 0, 1, 1, 0, 0, 0, 0, 0, 1, 0, 1, 1, 0, 0, 0,\n",
       "       0, 0, 0, 1, 0, 0, 0, 0, 0, 0, 1, 1], dtype=int64)"
      ]
     },
     "execution_count": 29,
     "metadata": {},
     "output_type": "execute_result"
    }
   ],
   "source": [
    "from sklearn.neighbors import KNeighborsClassifier\n",
    "\n",
    "\n",
    "knn = KNeighborsClassifier(n_neighbors = 10)\n",
    "knn.fit(X_train.values, y_train.values)\n",
    "y_pred_class = knn.predict(X_test.values)\n",
    "knn.predict(X_test.values)"
   ]
  },
  {
   "cell_type": "code",
   "execution_count": 30,
   "id": "12e231a6",
   "metadata": {},
   "outputs": [
    {
     "name": "stdout",
     "output_type": "stream",
     "text": [
      "[[76  3]\n",
      " [ 2 41]]\n"
     ]
    },
    {
     "data": {
      "image/png": "[encoded data removed]",
      "text/plain": [
       "<Figure size 288x288 with 2 Axes>"
      ]
     },
     "metadata": {
      "needs_background": "light"
     },
     "output_type": "display_data"
    }
   ],
   "source": [
    "#confusion matrix\n",
    "\n",
    "from sklearn import metrics\n",
    "confusion = metrics.confusion_matrix(y_test, y_pred_class)\n",
    "print(confusion)\n",
    "TP = confusion[1, 1]\n",
    "TN = confusion[0, 0]\n",
    "FP = confusion[0, 1]\n",
    "FN = confusion[1, 0]\n",
    "\n",
    "\n",
    "plt.matshow(confusion)\n",
    "plt.title('KNN Confusion matrix',y=1.20)\n",
    "plt.colorbar()\n",
    "plt.ylabel('True label')\n",
    "plt.xlabel('Predicted label')\n",
    "plt.show()"
   ]
  },
  {
   "cell_type": "code",
   "execution_count": 31,
   "id": "3b68c7a8",
   "metadata": {
    "scrolled": true
   },
   "outputs": [
    {
     "name": "stdout",
     "output_type": "stream",
     "text": [
      "Classification Accuracy : 0.9590163934426229\n",
      "Classification Error : 0.040983606557377046\n",
      "Senstivity : 0.9534883720930233\n",
      "Specificity : 0.9620253164556962\n",
      "False Positive Rate : 0.0379746835443038\n",
      "Precision : 0.9318181818181818\n"
     ]
    }
   ],
   "source": [
    "print(\"Classification Accuracy :\", (TP + TN) / float(TP + TN + FP + FN))\n",
    "print(\"Classification Error :\", (FP + FN) / float(TP + TN + FP + FN))\n",
    "print(\"Senstivity :\", TP / float(FN + TP))\n",
    "print(\"Specificity :\", TN / (TN + FP))\n",
    "print(\"False Positive Rate :\", FP / float(TN + FP))\n",
    "print(\"Precision :\", TP / float(TP + FP))"
   ]
  },
  {
   "cell_type": "code",
   "execution_count": 32,
   "id": "ed7a7a9b",
   "metadata": {},
   "outputs": [
    {
     "data": {
      "text/plain": [
       "0.942528735632184"
      ]
     },
     "execution_count": 32,
     "metadata": {},
     "output_type": "execute_result"
    }
   ],
   "source": [
    "#F1 score\n",
    "from sklearn.metrics import f1_score\n",
    "predictions_test = knn.predict(X_test.values)\n",
    "f1_score(y_test,predictions_test)"
   ]
  },
  {
   "cell_type": "code",
   "execution_count": 33,
   "id": "bb7abd41",
   "metadata": {},
   "outputs": [
    {
     "data": {
      "text/plain": [
       "0.9360730593607306"
      ]
     },
     "execution_count": 33,
     "metadata": {},
     "output_type": "execute_result"
    }
   ],
   "source": [
    "#F- beta score\n",
    "\n",
    "from sklearn.metrics import fbeta_score\n",
    "predictions_test = knn.predict(X_test.values)\n",
    "fbeta_score(y_test, predictions_test, average='binary', beta=0.5)"
   ]
  },
  {
   "cell_type": "code",
   "execution_count": 44,
   "id": "b18a5954",
   "metadata": {},
   "outputs": [
    {
     "name": "stdout",
     "output_type": "stream",
     "text": [
      "13\n"
     ]
    }
   ],
   "source": [
    "from sklearn.neighbors import KNeighborsClassifier\n",
    "\n",
    "neighbors = []\n",
    "cvscores = []\n",
    "for n in range(10, 50):\n",
    "    knn = KNeighborsClassifier(n_neighbors=n)\n",
    "    cv_scores = cross_val_score(knn, features_final.values, asd_classes.values, cv=10)\n",
    "    neighbors.append(n)\n",
    "    cvscores.append(cv_scores.mean())\n",
    "\n",
    "#print(arr)   \n",
    "\n",
    "print(neighbors[cvscores.index(max(cvscores))])\n",
    "    \n"
   ]
  },
  {
   "cell_type": "markdown",
   "id": "65660b14",
   "metadata": {},
   "source": [
    "## Naive Bayes"
   ]
  },
  {
   "cell_type": "code",
   "execution_count": 34,
   "id": "89a0c691",
   "metadata": {},
   "outputs": [
    {
     "data": {
      "text/plain": [
       "array([0, 0, 0, 1, 1, 0, 1, 1, 0, 0, 0, 0, 0, 1, 0, 0, 0, 0, 0, 1, 0, 1,\n",
       "       0, 1, 0, 1, 0, 0, 0, 1, 0, 1, 0, 0, 1, 1, 1, 1, 0, 0, 1, 0, 1, 0,\n",
       "       0, 0, 0, 0, 0, 0, 1, 1, 0, 1, 0, 1, 0, 1, 0, 0, 0, 0, 1, 0, 0, 1,\n",
       "       0, 0, 0, 1, 1, 0, 0, 0, 0, 1, 1, 0, 1, 0, 0, 1, 1, 0, 1, 0, 0, 1,\n",
       "       0, 1, 1, 0, 1, 1, 1, 1, 1, 1, 0, 0, 0, 1, 0, 1, 0, 1, 1, 0, 0, 0,\n",
       "       0, 0, 0, 1, 0, 0, 0, 0, 0, 0, 0, 0], dtype=int64)"
      ]
     },
     "execution_count": 34,
     "metadata": {},
     "output_type": "execute_result"
    }
   ],
   "source": [
    "from sklearn.naive_bayes import MultinomialNB\n",
    "\n",
    "mnb = MultinomialNB()\n",
    "mnb.fit(X_train, y_train)\n",
    "y_pred_class = mnb.predict(X_test)\n",
    "mnb.predict(X_test)"
   ]
  },
  {
   "cell_type": "code",
   "execution_count": 35,
   "id": "832d202b",
   "metadata": {},
   "outputs": [
    {
     "name": "stdout",
     "output_type": "stream",
     "text": [
      "[[71  8]\n",
      " [ 5 38]]\n"
     ]
    },
    {
     "data": {
      "image/png": "[encoded data removed]",
      "text/plain": [
       "<Figure size 288x288 with 2 Axes>"
      ]
     },
     "metadata": {
      "needs_background": "light"
     },
     "output_type": "display_data"
    }
   ],
   "source": [
    "#confusion matrix\n",
    "\n",
    "from sklearn import metrics\n",
    "confusion = metrics.confusion_matrix(y_test, y_pred_class)\n",
    "print(confusion)\n",
    "TP = confusion[1, 1]\n",
    "TN = confusion[0, 0]\n",
    "FP = confusion[0, 1]\n",
    "FN = confusion[1, 0]\n",
    "\n",
    "\n",
    "plt.matshow(confusion)\n",
    "plt.title('Naive Bayes Confusion matrix',y=1.20)\n",
    "plt.colorbar()\n",
    "plt.ylabel('True label')\n",
    "plt.xlabel('Predicted label')\n",
    "plt.show()\n"
   ]
  },
  {
   "cell_type": "code",
   "execution_count": 36,
   "id": "b0fbe9a1",
   "metadata": {},
   "outputs": [
    {
     "name": "stdout",
     "output_type": "stream",
     "text": [
      "Classification Accuracy : 0.8934426229508197\n",
      "Classification Error : 0.10655737704918032\n",
      "Senstivity : 0.8837209302325582\n",
      "Specificity : 0.8987341772151899\n",
      "False Positive Rate : 0.10126582278481013\n",
      "Precision : 0.8260869565217391\n"
     ]
    }
   ],
   "source": [
    "print(\"Classification Accuracy :\", (TP + TN) / float(TP + TN + FP + FN))\n",
    "print(\"Classification Error :\", (FP + FN) / float(TP + TN + FP + FN))\n",
    "print(\"Senstivity :\", TP / float(FN + TP))\n",
    "print(\"Specificity :\", TN / (TN + FP))\n",
    "print(\"False Positive Rate :\", FP / float(TN + FP))\n",
    "print(\"Precision :\", TP / float(TP + FP))"
   ]
  },
  {
   "cell_type": "code",
   "execution_count": 37,
   "id": "f130cd01",
   "metadata": {},
   "outputs": [
    {
     "data": {
      "text/plain": [
       "0.853932584269663"
      ]
     },
     "execution_count": 37,
     "metadata": {},
     "output_type": "execute_result"
    }
   ],
   "source": [
    "#F1 score\n",
    "from sklearn.metrics import f1_score\n",
    "predictions_test = mnb.predict(X_test)\n",
    "f1_score(y_test,predictions_test)"
   ]
  },
  {
   "cell_type": "code",
   "execution_count": 38,
   "id": "00eecdb8",
   "metadata": {},
   "outputs": [
    {
     "data": {
      "text/plain": [
       "0.8370044052863436"
      ]
     },
     "execution_count": 38,
     "metadata": {},
     "output_type": "execute_result"
    }
   ],
   "source": [
    "#F- beta score\n",
    "\n",
    "from sklearn.metrics import fbeta_score\n",
    "predictions_test = mnb.predict(X_test)\n",
    "fbeta_score(y_test, predictions_test, average='binary', beta=0.5)"
   ]
  },
  {
   "cell_type": "markdown",
   "id": "6cab978e",
   "metadata": {},
   "source": [
    "# Sequential Model (CNN)"
   ]
  },
  {
   "cell_type": "code",
   "execution_count": 39,
   "id": "e37f378a",
   "metadata": {},
   "outputs": [],
   "source": [
    "# Imports\n",
    "import numpy as np\n",
    "import keras\n",
    "from keras.models import Sequential\n",
    "from keras.layers import Dense, Dropout, Activation\n",
    "\n",
    "\n",
    "np.random.seed(42)"
   ]
  },
  {
   "cell_type": "code",
   "execution_count": 40,
   "id": "7f109ffa",
   "metadata": {},
   "outputs": [
    {
     "name": "stdout",
     "output_type": "stream",
     "text": [
      "Model: \"sequential\"\n",
      "_________________________________________________________________\n",
      "Layer (type)                 Output Shape              Param #   \n",
      "=================================================================\n",
      "dense (Dense)                (None, 8)                 760       \n",
      "_________________________________________________________________\n",
      "dropout (Dropout)            (None, 8)                 0         \n",
      "_________________________________________________________________\n",
      "dense_1 (Dense)              (None, 1)                 9         \n",
      "=================================================================\n",
      "Total params: 769\n",
      "Trainable params: 769\n",
      "Non-trainable params: 0\n",
      "_________________________________________________________________\n"
     ]
    }
   ],
   "source": [
    "# Building the model architecture with one layer of length 4\n",
    "\n",
    "\n",
    "model = Sequential()\n",
    "model.add(Dense(8, activation='relu', input_dim= 94))\n",
    "model.add(Dropout(0.2))\n",
    "model.add(Dense(1, kernel_initializer='normal', activation='sigmoid'))\n",
    "   \n",
    "    \n",
    "model.summary()"
   ]
  },
  {
   "cell_type": "code",
   "execution_count": 41,
   "id": "37bd9b74",
   "metadata": {},
   "outputs": [],
   "source": [
    "# Compiling the model using categorical_crossentropy loss, and rmsprop optimizer.\n",
    "model.compile(loss='binary_crossentropy',\n",
    "              optimizer='rmsprop',\n",
    "              metrics=['accuracy'])"
   ]
  },
  {
   "cell_type": "code",
   "execution_count": 42,
   "id": "1310d953",
   "metadata": {},
   "outputs": [
    {
     "name": "stdout",
     "output_type": "stream",
     "text": [
      "Epoch 1/100\n",
      "WARNING:tensorflow:AutoGraph could not transform <bound method Dense.call of <keras.layers.core.Dense object at 0x0000013898CC7E80>> and will run it as-is.\n",
      "Please report this to the TensorFlow team. When filing the bug, set the verbosity to 10 (on Linux, `export AUTOGRAPH_VERBOSITY=10`) and attach the full output.\n",
      "Cause: invalid syntax (tmpygytn3vn.py, line 48)\n",
      "To silence this warning, decorate the function with @tf.autograph.experimental.do_not_convert\n",
      "WARNING: AutoGraph could not transform <bound method Dense.call of <keras.layers.core.Dense object at 0x0000013898CC7E80>> and will run it as-is.\n",
      "Please report this to the TensorFlow team. When filing the bug, set the verbosity to 10 (on Linux, `export AUTOGRAPH_VERBOSITY=10`) and attach the full output.\n",
      "Cause: invalid syntax (tmpygytn3vn.py, line 48)\n",
      "To silence this warning, decorate the function with @tf.autograph.experimental.do_not_convert\n",
      "31/31 - 26s - loss: 0.6824 - accuracy: 0.7269 - val_loss: 0.6766 - val_accuracy: 0.6557\n",
      "Epoch 2/100\n",
      "31/31 - 0s - loss: 0.6614 - accuracy: 0.7413 - val_loss: 0.6606 - val_accuracy: 0.6475\n",
      "Epoch 3/100\n",
      "31/31 - 0s - loss: 0.6402 - accuracy: 0.7269 - val_loss: 0.6419 - val_accuracy: 0.6475\n",
      "Epoch 4/100\n",
      "31/31 - 0s - loss: 0.6127 - accuracy: 0.7269 - val_loss: 0.6193 - val_accuracy: 0.6475\n",
      "Epoch 5/100\n",
      "31/31 - 0s - loss: 0.5828 - accuracy: 0.7310 - val_loss: 0.5927 - val_accuracy: 0.6557\n",
      "Epoch 6/100\n",
      "31/31 - 0s - loss: 0.5512 - accuracy: 0.7474 - val_loss: 0.5657 - val_accuracy: 0.6557\n",
      "Epoch 7/100\n",
      "31/31 - 0s - loss: 0.5239 - accuracy: 0.7556 - val_loss: 0.5321 - val_accuracy: 0.6721\n",
      "Epoch 8/100\n",
      "31/31 - 0s - loss: 0.4878 - accuracy: 0.7967 - val_loss: 0.5006 - val_accuracy: 0.7049\n",
      "Epoch 9/100\n",
      "31/31 - 0s - loss: 0.4531 - accuracy: 0.8008 - val_loss: 0.4623 - val_accuracy: 0.7623\n",
      "Epoch 10/100\n",
      "31/31 - 0s - loss: 0.4204 - accuracy: 0.8378 - val_loss: 0.4267 - val_accuracy: 0.8197\n",
      "Epoch 11/100\n",
      "31/31 - 0s - loss: 0.3925 - accuracy: 0.8480 - val_loss: 0.3934 - val_accuracy: 0.8607\n",
      "Epoch 12/100\n",
      "31/31 - 0s - loss: 0.3554 - accuracy: 0.8727 - val_loss: 0.3646 - val_accuracy: 0.8689\n",
      "Epoch 13/100\n",
      "31/31 - 0s - loss: 0.3353 - accuracy: 0.9014 - val_loss: 0.3377 - val_accuracy: 0.8852\n",
      "Epoch 14/100\n",
      "31/31 - 0s - loss: 0.3073 - accuracy: 0.9138 - val_loss: 0.3155 - val_accuracy: 0.8852\n",
      "Epoch 15/100\n",
      "31/31 - 0s - loss: 0.2924 - accuracy: 0.9035 - val_loss: 0.2913 - val_accuracy: 0.9016\n",
      "Epoch 16/100\n",
      "31/31 - 0s - loss: 0.2641 - accuracy: 0.9261 - val_loss: 0.2711 - val_accuracy: 0.9016\n",
      "Epoch 17/100\n",
      "31/31 - 0s - loss: 0.2627 - accuracy: 0.9158 - val_loss: 0.2559 - val_accuracy: 0.9016\n",
      "Epoch 18/100\n",
      "31/31 - 0s - loss: 0.2425 - accuracy: 0.9138 - val_loss: 0.2386 - val_accuracy: 0.9262\n",
      "Epoch 19/100\n",
      "31/31 - 0s - loss: 0.2496 - accuracy: 0.9240 - val_loss: 0.2285 - val_accuracy: 0.9262\n",
      "Epoch 20/100\n",
      "31/31 - 0s - loss: 0.2203 - accuracy: 0.9405 - val_loss: 0.2183 - val_accuracy: 0.9344\n",
      "Epoch 21/100\n",
      "31/31 - 0s - loss: 0.2121 - accuracy: 0.9199 - val_loss: 0.2096 - val_accuracy: 0.9262\n",
      "Epoch 22/100\n",
      "31/31 - 0s - loss: 0.2256 - accuracy: 0.9220 - val_loss: 0.2004 - val_accuracy: 0.9344\n",
      "Epoch 23/100\n",
      "31/31 - 0s - loss: 0.2000 - accuracy: 0.9281 - val_loss: 0.1903 - val_accuracy: 0.9426\n",
      "Epoch 24/100\n",
      "31/31 - 0s - loss: 0.1875 - accuracy: 0.9220 - val_loss: 0.1851 - val_accuracy: 0.9344\n",
      "Epoch 25/100\n",
      "31/31 - 0s - loss: 0.1840 - accuracy: 0.9363 - val_loss: 0.1764 - val_accuracy: 0.9426\n",
      "Epoch 26/100\n",
      "31/31 - 0s - loss: 0.1829 - accuracy: 0.9322 - val_loss: 0.1705 - val_accuracy: 0.9426\n",
      "Epoch 27/100\n",
      "31/31 - 0s - loss: 0.1609 - accuracy: 0.9405 - val_loss: 0.1634 - val_accuracy: 0.9508\n",
      "Epoch 28/100\n",
      "31/31 - 0s - loss: 0.1632 - accuracy: 0.9302 - val_loss: 0.1579 - val_accuracy: 0.9508\n",
      "Epoch 29/100\n",
      "31/31 - 0s - loss: 0.1648 - accuracy: 0.9363 - val_loss: 0.1536 - val_accuracy: 0.9508\n",
      "Epoch 30/100\n",
      "31/31 - 0s - loss: 0.1636 - accuracy: 0.9425 - val_loss: 0.1509 - val_accuracy: 0.9508\n",
      "Epoch 31/100\n",
      "31/31 - 0s - loss: 0.1497 - accuracy: 0.9528 - val_loss: 0.1460 - val_accuracy: 0.9508\n",
      "Epoch 32/100\n",
      "31/31 - 0s - loss: 0.1453 - accuracy: 0.9405 - val_loss: 0.1429 - val_accuracy: 0.9508\n",
      "Epoch 33/100\n",
      "31/31 - 0s - loss: 0.1520 - accuracy: 0.9343 - val_loss: 0.1402 - val_accuracy: 0.9508\n",
      "Epoch 34/100\n",
      "31/31 - 0s - loss: 0.1445 - accuracy: 0.9425 - val_loss: 0.1370 - val_accuracy: 0.9508\n",
      "Epoch 35/100\n",
      "31/31 - 0s - loss: 0.1355 - accuracy: 0.9548 - val_loss: 0.1330 - val_accuracy: 0.9508\n",
      "Epoch 36/100\n",
      "31/31 - 0s - loss: 0.1404 - accuracy: 0.9507 - val_loss: 0.1313 - val_accuracy: 0.9590\n",
      "Epoch 37/100\n",
      "31/31 - 0s - loss: 0.1313 - accuracy: 0.9425 - val_loss: 0.1268 - val_accuracy: 0.9508\n",
      "Epoch 38/100\n",
      "31/31 - 0s - loss: 0.1359 - accuracy: 0.9466 - val_loss: 0.1248 - val_accuracy: 0.9508\n",
      "Epoch 39/100\n",
      "31/31 - 0s - loss: 0.1153 - accuracy: 0.9610 - val_loss: 0.1226 - val_accuracy: 0.9590\n",
      "Epoch 40/100\n",
      "31/31 - 0s - loss: 0.1139 - accuracy: 0.9630 - val_loss: 0.1198 - val_accuracy: 0.9590\n",
      "Epoch 41/100\n",
      "31/31 - 0s - loss: 0.1253 - accuracy: 0.9446 - val_loss: 0.1181 - val_accuracy: 0.9590\n",
      "Epoch 42/100\n",
      "31/31 - 0s - loss: 0.1237 - accuracy: 0.9487 - val_loss: 0.1155 - val_accuracy: 0.9590\n",
      "Epoch 43/100\n",
      "31/31 - 0s - loss: 0.1143 - accuracy: 0.9569 - val_loss: 0.1139 - val_accuracy: 0.9590\n",
      "Epoch 44/100\n",
      "31/31 - 0s - loss: 0.1120 - accuracy: 0.9528 - val_loss: 0.1141 - val_accuracy: 0.9590\n",
      "Epoch 45/100\n",
      "31/31 - 0s - loss: 0.1117 - accuracy: 0.9610 - val_loss: 0.1101 - val_accuracy: 0.9590\n",
      "Epoch 46/100\n",
      "31/31 - 0s - loss: 0.1212 - accuracy: 0.9528 - val_loss: 0.1083 - val_accuracy: 0.9590\n",
      "Epoch 47/100\n",
      "31/31 - 0s - loss: 0.1017 - accuracy: 0.9528 - val_loss: 0.1072 - val_accuracy: 0.9590\n",
      "Epoch 48/100\n",
      "31/31 - 0s - loss: 0.1040 - accuracy: 0.9589 - val_loss: 0.1050 - val_accuracy: 0.9590\n",
      "Epoch 49/100\n",
      "31/31 - 0s - loss: 0.1054 - accuracy: 0.9589 - val_loss: 0.1033 - val_accuracy: 0.9590\n",
      "Epoch 50/100\n",
      "31/31 - 0s - loss: 0.0910 - accuracy: 0.9713 - val_loss: 0.1019 - val_accuracy: 0.9590\n",
      "Epoch 51/100\n",
      "31/31 - 0s - loss: 0.1098 - accuracy: 0.9548 - val_loss: 0.1010 - val_accuracy: 0.9590\n",
      "Epoch 52/100\n",
      "31/31 - 0s - loss: 0.0964 - accuracy: 0.9630 - val_loss: 0.0984 - val_accuracy: 0.9590\n",
      "Epoch 53/100\n",
      "31/31 - 0s - loss: 0.0903 - accuracy: 0.9630 - val_loss: 0.0996 - val_accuracy: 0.9590\n",
      "Epoch 54/100\n",
      "31/31 - 0s - loss: 0.0935 - accuracy: 0.9610 - val_loss: 0.0969 - val_accuracy: 0.9590\n",
      "Epoch 55/100\n",
      "31/31 - 0s - loss: 0.1045 - accuracy: 0.9507 - val_loss: 0.0969 - val_accuracy: 0.9590\n",
      "Epoch 56/100\n",
      "31/31 - 0s - loss: 0.0943 - accuracy: 0.9528 - val_loss: 0.0966 - val_accuracy: 0.9590\n",
      "Epoch 57/100\n",
      "31/31 - 0s - loss: 0.0778 - accuracy: 0.9733 - val_loss: 0.0953 - val_accuracy: 0.9590\n",
      "Epoch 58/100\n",
      "31/31 - 0s - loss: 0.0914 - accuracy: 0.9528 - val_loss: 0.0927 - val_accuracy: 0.9590\n",
      "Epoch 59/100\n",
      "31/31 - 0s - loss: 0.0924 - accuracy: 0.9610 - val_loss: 0.0911 - val_accuracy: 0.9590\n",
      "Epoch 60/100\n",
      "31/31 - 0s - loss: 0.0787 - accuracy: 0.9774 - val_loss: 0.0899 - val_accuracy: 0.9672\n",
      "Epoch 61/100\n",
      "31/31 - 0s - loss: 0.0785 - accuracy: 0.9713 - val_loss: 0.0880 - val_accuracy: 0.9672\n",
      "Epoch 62/100\n",
      "31/31 - 0s - loss: 0.0848 - accuracy: 0.9610 - val_loss: 0.0866 - val_accuracy: 0.9672\n",
      "Epoch 63/100\n",
      "31/31 - 0s - loss: 0.0806 - accuracy: 0.9754 - val_loss: 0.0863 - val_accuracy: 0.9672\n",
      "Epoch 64/100\n",
      "31/31 - 0s - loss: 0.0813 - accuracy: 0.9671 - val_loss: 0.0858 - val_accuracy: 0.9672\n",
      "Epoch 65/100\n",
      "31/31 - 0s - loss: 0.0718 - accuracy: 0.9692 - val_loss: 0.0832 - val_accuracy: 0.9672\n",
      "Epoch 66/100\n",
      "31/31 - 0s - loss: 0.0824 - accuracy: 0.9630 - val_loss: 0.0838 - val_accuracy: 0.9672\n",
      "Epoch 67/100\n",
      "31/31 - 0s - loss: 0.0703 - accuracy: 0.9733 - val_loss: 0.0826 - val_accuracy: 0.9590\n",
      "Epoch 68/100\n",
      "31/31 - 0s - loss: 0.0715 - accuracy: 0.9713 - val_loss: 0.0829 - val_accuracy: 0.9590\n",
      "Epoch 69/100\n",
      "31/31 - 0s - loss: 0.0705 - accuracy: 0.9713 - val_loss: 0.0825 - val_accuracy: 0.9590\n",
      "Epoch 70/100\n",
      "31/31 - 0s - loss: 0.0708 - accuracy: 0.9651 - val_loss: 0.0784 - val_accuracy: 0.9672\n",
      "Epoch 71/100\n",
      "31/31 - 0s - loss: 0.0682 - accuracy: 0.9651 - val_loss: 0.0797 - val_accuracy: 0.9590\n",
      "Epoch 72/100\n",
      "31/31 - 0s - loss: 0.0637 - accuracy: 0.9733 - val_loss: 0.0787 - val_accuracy: 0.9590\n",
      "Epoch 73/100\n",
      "31/31 - 0s - loss: 0.0668 - accuracy: 0.9630 - val_loss: 0.0789 - val_accuracy: 0.9590\n"
     ]
    },
    {
     "name": "stdout",
     "output_type": "stream",
     "text": [
      "Epoch 74/100\n",
      "31/31 - 0s - loss: 0.0680 - accuracy: 0.9671 - val_loss: 0.0793 - val_accuracy: 0.9590\n",
      "Epoch 75/100\n",
      "31/31 - 0s - loss: 0.0671 - accuracy: 0.9713 - val_loss: 0.0773 - val_accuracy: 0.9672\n",
      "Epoch 76/100\n",
      "31/31 - 0s - loss: 0.0557 - accuracy: 0.9856 - val_loss: 0.0733 - val_accuracy: 0.9754\n",
      "Epoch 77/100\n",
      "31/31 - 0s - loss: 0.0535 - accuracy: 0.9836 - val_loss: 0.0719 - val_accuracy: 0.9754\n",
      "Epoch 78/100\n",
      "31/31 - 0s - loss: 0.0568 - accuracy: 0.9856 - val_loss: 0.0699 - val_accuracy: 0.9754\n",
      "Epoch 79/100\n",
      "31/31 - 0s - loss: 0.0581 - accuracy: 0.9774 - val_loss: 0.0738 - val_accuracy: 0.9672\n",
      "Epoch 80/100\n",
      "31/31 - 0s - loss: 0.0589 - accuracy: 0.9774 - val_loss: 0.0735 - val_accuracy: 0.9672\n",
      "Epoch 81/100\n",
      "31/31 - 0s - loss: 0.0488 - accuracy: 0.9897 - val_loss: 0.0703 - val_accuracy: 0.9672\n",
      "Epoch 82/100\n",
      "31/31 - 0s - loss: 0.0606 - accuracy: 0.9836 - val_loss: 0.0729 - val_accuracy: 0.9672\n",
      "Epoch 83/100\n",
      "31/31 - 0s - loss: 0.0554 - accuracy: 0.9815 - val_loss: 0.0683 - val_accuracy: 0.9672\n",
      "Epoch 84/100\n",
      "31/31 - 0s - loss: 0.0597 - accuracy: 0.9754 - val_loss: 0.0693 - val_accuracy: 0.9672\n",
      "Epoch 85/100\n",
      "31/31 - 0s - loss: 0.0621 - accuracy: 0.9795 - val_loss: 0.0663 - val_accuracy: 0.9754\n",
      "Epoch 86/100\n",
      "31/31 - 0s - loss: 0.0559 - accuracy: 0.9795 - val_loss: 0.0650 - val_accuracy: 0.9754\n",
      "Epoch 87/100\n",
      "31/31 - 0s - loss: 0.0586 - accuracy: 0.9897 - val_loss: 0.0670 - val_accuracy: 0.9754\n",
      "Epoch 88/100\n",
      "31/31 - 0s - loss: 0.0458 - accuracy: 0.9918 - val_loss: 0.0646 - val_accuracy: 0.9754\n",
      "Epoch 89/100\n",
      "31/31 - 0s - loss: 0.0454 - accuracy: 0.9897 - val_loss: 0.0652 - val_accuracy: 0.9754\n",
      "Epoch 90/100\n",
      "31/31 - 0s - loss: 0.0463 - accuracy: 0.9877 - val_loss: 0.0668 - val_accuracy: 0.9672\n",
      "Epoch 91/100\n",
      "31/31 - 0s - loss: 0.0525 - accuracy: 0.9897 - val_loss: 0.0644 - val_accuracy: 0.9672\n",
      "Epoch 92/100\n",
      "31/31 - 0s - loss: 0.0494 - accuracy: 0.9897 - val_loss: 0.0639 - val_accuracy: 0.9754\n",
      "Epoch 93/100\n",
      "31/31 - 0s - loss: 0.0501 - accuracy: 0.9856 - val_loss: 0.0660 - val_accuracy: 0.9672\n",
      "Epoch 94/100\n",
      "31/31 - 0s - loss: 0.0450 - accuracy: 0.9877 - val_loss: 0.0667 - val_accuracy: 0.9672\n",
      "Epoch 95/100\n",
      "31/31 - 0s - loss: 0.0420 - accuracy: 0.9877 - val_loss: 0.0617 - val_accuracy: 0.9754\n",
      "Epoch 96/100\n",
      "31/31 - 0s - loss: 0.0473 - accuracy: 0.9897 - val_loss: 0.0642 - val_accuracy: 0.9672\n",
      "Epoch 97/100\n",
      "31/31 - 0s - loss: 0.0356 - accuracy: 0.9918 - val_loss: 0.0624 - val_accuracy: 0.9672\n",
      "Epoch 98/100\n",
      "31/31 - 0s - loss: 0.0354 - accuracy: 0.9918 - val_loss: 0.0595 - val_accuracy: 0.9754\n",
      "Epoch 99/100\n",
      "31/31 - 0s - loss: 0.0499 - accuracy: 0.9877 - val_loss: 0.0581 - val_accuracy: 0.9754\n",
      "Epoch 100/100\n",
      "31/31 - 0s - loss: 0.0461 - accuracy: 0.9897 - val_loss: 0.0580 - val_accuracy: 0.9754\n"
     ]
    }
   ],
   "source": [
    "# Running and evaluating the model\n",
    "hist = model.fit(X_train, y_train,\n",
    "          batch_size=16,\n",
    "          epochs=100,\n",
    "          validation_data=(X_test, y_test), \n",
    "          verbose=2)"
   ]
  },
  {
   "cell_type": "code",
   "execution_count": 43,
   "id": "dc6701cc",
   "metadata": {},
   "outputs": [
    {
     "data": {
      "text/plain": [
       "Text(0.5, 1.0, 'Loss')"
      ]
     },
     "execution_count": 43,
     "metadata": {},
     "output_type": "execute_result"
    },
    {
     "data": {
      "image/png": "[encoded data removed]",
      "text/plain": [
       "<Figure size 432x288 with 1 Axes>"
      ]
     },
     "metadata": {
      "needs_background": "light"
     },
     "output_type": "display_data"
    },
    {
     "data": {
      "image/png": "[encoded data removed]",
      "text/plain": [
       "<Figure size 432x288 with 1 Axes>"
      ]
     },
     "metadata": {
      "needs_background": "light"
     },
     "output_type": "display_data"
    }
   ],
   "source": [
    "acc = hist.history['accuracy']\n",
    "val_acc = hist.history['val_accuracy']\n",
    "loss = hist.history['loss']\n",
    "val_loss = hist.history['val_loss']\n",
    "epochs = range(100)\n",
    "\n",
    "plt.plot(epochs,acc)\n",
    "plt.plot(epochs,val_acc)\n",
    "plt.title ('Accuracy')\n",
    "plt.figure()\n",
    "\n",
    "plt.plot(epochs,loss)\n",
    "plt.plot(epochs, val_loss)\n",
    "plt.title('Loss')"
   ]
  },
  {
   "cell_type": "code",
   "execution_count": 44,
   "id": "37d76bae",
   "metadata": {},
   "outputs": [
    {
     "data": {
      "text/plain": [
       "0.9754098653793335"
      ]
     },
     "execution_count": 44,
     "metadata": {},
     "output_type": "execute_result"
    }
   ],
   "source": [
    "#accuracy\n",
    "model.evaluate(X_test, y_test, verbose=0)[1]"
   ]
  },
  {
   "cell_type": "code",
   "execution_count": 45,
   "id": "32bfbd48",
   "metadata": {},
   "outputs": [
    {
     "name": "stderr",
     "output_type": "stream",
     "text": [
      "c:\\users\\harshit\\appdata\\local\\programs\\python\\python39\\lib\\site-packages\\keras\\engine\\sequential.py:450: UserWarning: `model.predict_classes()` is deprecated and will be removed after 2021-01-01. Please use instead:* `np.argmax(model.predict(x), axis=-1)`,   if your model does multi-class classification   (e.g. if it uses a `softmax` last-layer activation).* `(model.predict(x) > 0.5).astype(\"int32\")`,   if your model does binary classification   (e.g. if it uses a `sigmoid` last-layer activation).\n",
      "  warnings.warn('`model.predict_classes()` is deprecated and '\n"
     ]
    },
    {
     "data": {
      "text/plain": [
       "array([[1],\n",
       "       [0],\n",
       "       [0],\n",
       "       [1],\n",
       "       [1],\n",
       "       [0],\n",
       "       [1],\n",
       "       [1],\n",
       "       [0],\n",
       "       [0],\n",
       "       [0],\n",
       "       [0],\n",
       "       [0],\n",
       "       [1],\n",
       "       [0],\n",
       "       [0],\n",
       "       [0],\n",
       "       [0],\n",
       "       [0],\n",
       "       [1],\n",
       "       [0],\n",
       "       [1],\n",
       "       [0],\n",
       "       [1],\n",
       "       [0],\n",
       "       [0],\n",
       "       [0],\n",
       "       [0],\n",
       "       [0],\n",
       "       [1],\n",
       "       [0],\n",
       "       [1],\n",
       "       [0],\n",
       "       [0],\n",
       "       [1],\n",
       "       [1],\n",
       "       [1],\n",
       "       [1],\n",
       "       [0],\n",
       "       [0],\n",
       "       [1],\n",
       "       [0],\n",
       "       [1],\n",
       "       [0],\n",
       "       [0],\n",
       "       [0],\n",
       "       [0],\n",
       "       [0],\n",
       "       [1],\n",
       "       [0],\n",
       "       [0],\n",
       "       [1],\n",
       "       [0],\n",
       "       [1],\n",
       "       [0],\n",
       "       [1],\n",
       "       [0],\n",
       "       [1],\n",
       "       [0],\n",
       "       [0],\n",
       "       [0],\n",
       "       [0],\n",
       "       [1],\n",
       "       [0],\n",
       "       [0],\n",
       "       [1],\n",
       "       [0],\n",
       "       [0],\n",
       "       [0],\n",
       "       [1],\n",
       "       [1],\n",
       "       [0],\n",
       "       [0],\n",
       "       [0],\n",
       "       [0],\n",
       "       [1],\n",
       "       [1],\n",
       "       [0],\n",
       "       [1],\n",
       "       [0],\n",
       "       [1],\n",
       "       [1],\n",
       "       [1],\n",
       "       [0],\n",
       "       [1],\n",
       "       [0],\n",
       "       [0],\n",
       "       [1],\n",
       "       [0],\n",
       "       [0],\n",
       "       [1],\n",
       "       [0],\n",
       "       [1],\n",
       "       [1],\n",
       "       [0],\n",
       "       [0],\n",
       "       [1],\n",
       "       [1],\n",
       "       [0],\n",
       "       [0],\n",
       "       [0],\n",
       "       [0],\n",
       "       [0],\n",
       "       [1],\n",
       "       [0],\n",
       "       [1],\n",
       "       [1],\n",
       "       [0],\n",
       "       [0],\n",
       "       [0],\n",
       "       [0],\n",
       "       [0],\n",
       "       [0],\n",
       "       [1],\n",
       "       [0],\n",
       "       [0],\n",
       "       [0],\n",
       "       [0],\n",
       "       [0],\n",
       "       [0],\n",
       "       [0],\n",
       "       [1]])"
      ]
     },
     "execution_count": 45,
     "metadata": {},
     "output_type": "execute_result"
    }
   ],
   "source": [
    "predictions = model.predict_classes(X_test)\n",
    "predictions"
   ]
  },
  {
   "cell_type": "code",
   "execution_count": 47,
   "id": "00fda754",
   "metadata": {},
   "outputs": [
    {
     "name": "stdout",
     "output_type": "stream",
     "text": [
      "[[77  2]\n",
      " [ 1 42]]\n"
     ]
    },
    {
     "data": {
      "image/png": "[encoded data removed]",
      "text/plain": [
       "<Figure size 288x288 with 2 Axes>"
      ]
     },
     "metadata": {
      "needs_background": "light"
     },
     "output_type": "display_data"
    }
   ],
   "source": [
    "confusion = metrics.confusion_matrix(y_test, predictions)\n",
    "print(confusion)\n",
    "\n",
    "TP = confusion[1, 1]\n",
    "TN = confusion[0, 0]\n",
    "FP = confusion[0, 1]\n",
    "FN = confusion[1, 0]\n",
    "\n",
    "\n",
    "plt.matshow(confusion)\n",
    "plt.title('Naive Bayes Confusion matrix',y=1.20)\n",
    "plt.colorbar()\n",
    "plt.ylabel('True label')\n",
    "plt.xlabel('Predicted label')\n",
    "plt.show()"
   ]
  },
  {
   "cell_type": "code",
   "execution_count": 48,
   "id": "4b343cdd",
   "metadata": {},
   "outputs": [
    {
     "name": "stdout",
     "output_type": "stream",
     "text": [
      "Classification Accuracy : 0.9754098360655737\n",
      "Classification Error : 0.02459016393442623\n",
      "Senstivity : 0.9767441860465116\n",
      "Specificity : 0.9746835443037974\n",
      "False Positive Rate : 0.02531645569620253\n",
      "Precision : 0.9545454545454546\n"
     ]
    }
   ],
   "source": [
    "print(\"Classification Accuracy :\", (TP + TN) / float(TP + TN + FP + FN))\n",
    "print(\"Classification Error :\", (FP + FN) / float(TP + TN + FP + FN))\n",
    "print(\"Senstivity :\", TP / float(FN + TP))\n",
    "print(\"Specificity :\", TN / (TN + FP))\n",
    "print(\"False Positive Rate :\", FP / float(TN + FP))\n",
    "print(\"Precision :\", TP / float(TP + FP))"
   ]
  },
  {
   "cell_type": "code",
   "execution_count": 49,
   "id": "3be89fbe",
   "metadata": {},
   "outputs": [
    {
     "data": {
      "text/plain": [
       "0.9655172413793104"
      ]
     },
     "execution_count": 49,
     "metadata": {},
     "output_type": "execute_result"
    }
   ],
   "source": [
    "#F1 score\n",
    "from sklearn.metrics import f1_score\n",
    "predictions_test = predictions\n",
    "f1_score(y_test,predictions_test)"
   ]
  },
  {
   "cell_type": "code",
   "execution_count": 50,
   "id": "441ee575",
   "metadata": {},
   "outputs": [
    {
     "data": {
      "text/plain": [
       "0.9589041095890412"
      ]
     },
     "execution_count": 50,
     "metadata": {},
     "output_type": "execute_result"
    }
   ],
   "source": [
    "#F- beta score\n",
    "\n",
    "from sklearn.metrics import fbeta_score\n",
    "predictions_test = predictions\n",
    "fbeta_score(y_test, predictions_test, average='binary', beta=0.5)"
   ]
  },
  {
   "cell_type": "code",
   "execution_count": null,
   "id": "3f5d365b",
   "metadata": {},
   "outputs": [],
   "source": []
  }
 ],
 "metadata": {
  "kernelspec": {
   "display_name": "Python 3 (ipykernel)",
   "language": "python",
   "name": "python3"
  },
  "language_info": {
   "codemirror_mode": {
    "name": "ipython",
    "version": 3
   },
   "file_extension": ".py",
   "mimetype": "text/x-python",
   "name": "python",
   "nbconvert_exporter": "python",
   "pygments_lexer": "ipython3",
   "version": "3.9.4"
  }
 },
 "nbformat": 4,
 "nbformat_minor": 5
}
