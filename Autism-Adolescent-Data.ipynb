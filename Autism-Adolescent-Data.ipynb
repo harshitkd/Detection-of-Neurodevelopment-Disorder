{
 "cells": [
  {
   "cell_type": "markdown",
   "id": "0312cebf",
   "metadata": {},
   "source": [
    "# Autism-Adolescent-Data"
   ]
  },
  {
   "cell_type": "code",
   "execution_count": 1,
   "id": "01054ba0",
   "metadata": {
    "scrolled": true
   },
   "outputs": [
    {
     "name": "stdout",
     "output_type": "stream",
     "text": [
      "INFO:tensorflow:Enabling eager execution\n",
      "INFO:tensorflow:Enabling v2 tensorshape\n",
      "INFO:tensorflow:Enabling resource variables\n",
      "INFO:tensorflow:Enabling tensor equality\n",
      "INFO:tensorflow:Enabling control flow v2\n"
     ]
    }
   ],
   "source": [
    "import sys\n",
    "import pandas as pd\n",
    "import sklearn\n",
    "import keras\n",
    "import matplotlib.pyplot as plt"
   ]
  },
  {
   "cell_type": "code",
   "execution_count": 2,
   "id": "8cefd23a",
   "metadata": {},
   "outputs": [],
   "source": [
    "asd_data = pd.read_csv(r\"C:\\Users\\HARSHIT\\Desktop\\mini-project\\Autism-Adolescent-Data Plus Description\\csv_result-Autism-Adolescent-Data.csv\", na_values=['?'])"
   ]
  },
  {
   "cell_type": "code",
   "execution_count": 3,
   "id": "285e98d4",
   "metadata": {},
   "outputs": [
    {
     "data": {
      "text/html": [
       "<div>\n",
       "<style scoped>\n",
       "    .dataframe tbody tr th:only-of-type {\n",
       "        vertical-align: middle;\n",
       "    }\n",
       "\n",
       "    .dataframe tbody tr th {\n",
       "        vertical-align: top;\n",
       "    }\n",
       "\n",
       "    .dataframe thead th {\n",
       "        text-align: right;\n",
       "    }\n",
       "</style>\n",
       "<table border=\"1\" class=\"dataframe\">\n",
       "  <thead>\n",
       "    <tr style=\"text-align: right;\">\n",
       "      <th></th>\n",
       "      <th>id</th>\n",
       "      <th>A1_Score</th>\n",
       "      <th>A2_Score</th>\n",
       "      <th>A3_Score</th>\n",
       "      <th>A4_Score</th>\n",
       "      <th>A5_Score</th>\n",
       "      <th>A6_Score</th>\n",
       "      <th>A7_Score</th>\n",
       "      <th>A8_Score</th>\n",
       "      <th>A9_Score</th>\n",
       "      <th>...</th>\n",
       "      <th>gender</th>\n",
       "      <th>ethnicity</th>\n",
       "      <th>jundice</th>\n",
       "      <th>austim</th>\n",
       "      <th>contry_of_res</th>\n",
       "      <th>used_app_before</th>\n",
       "      <th>result</th>\n",
       "      <th>age_desc</th>\n",
       "      <th>relation</th>\n",
       "      <th>Class/ASD</th>\n",
       "    </tr>\n",
       "  </thead>\n",
       "  <tbody>\n",
       "    <tr>\n",
       "      <th>0</th>\n",
       "      <td>1</td>\n",
       "      <td>0</td>\n",
       "      <td>0</td>\n",
       "      <td>0</td>\n",
       "      <td>1</td>\n",
       "      <td>1</td>\n",
       "      <td>1</td>\n",
       "      <td>1</td>\n",
       "      <td>1</td>\n",
       "      <td>1</td>\n",
       "      <td>...</td>\n",
       "      <td>m</td>\n",
       "      <td>Hispanic</td>\n",
       "      <td>yes</td>\n",
       "      <td>yes</td>\n",
       "      <td>Austria</td>\n",
       "      <td>no</td>\n",
       "      <td>6</td>\n",
       "      <td>12-16 years</td>\n",
       "      <td>Parent</td>\n",
       "      <td>NO</td>\n",
       "    </tr>\n",
       "    <tr>\n",
       "      <th>1</th>\n",
       "      <td>2</td>\n",
       "      <td>0</td>\n",
       "      <td>0</td>\n",
       "      <td>0</td>\n",
       "      <td>0</td>\n",
       "      <td>0</td>\n",
       "      <td>0</td>\n",
       "      <td>0</td>\n",
       "      <td>0</td>\n",
       "      <td>1</td>\n",
       "      <td>...</td>\n",
       "      <td>m</td>\n",
       "      <td>Black</td>\n",
       "      <td>no</td>\n",
       "      <td>no</td>\n",
       "      <td>Austria</td>\n",
       "      <td>no</td>\n",
       "      <td>2</td>\n",
       "      <td>12-16 years</td>\n",
       "      <td>Relative</td>\n",
       "      <td>NO</td>\n",
       "    </tr>\n",
       "    <tr>\n",
       "      <th>2</th>\n",
       "      <td>3</td>\n",
       "      <td>0</td>\n",
       "      <td>0</td>\n",
       "      <td>0</td>\n",
       "      <td>0</td>\n",
       "      <td>0</td>\n",
       "      <td>0</td>\n",
       "      <td>0</td>\n",
       "      <td>0</td>\n",
       "      <td>1</td>\n",
       "      <td>...</td>\n",
       "      <td>f</td>\n",
       "      <td>NaN</td>\n",
       "      <td>no</td>\n",
       "      <td>no</td>\n",
       "      <td>AmericanSamoa</td>\n",
       "      <td>no</td>\n",
       "      <td>2</td>\n",
       "      <td>12-16 years</td>\n",
       "      <td>NaN</td>\n",
       "      <td>NO</td>\n",
       "    </tr>\n",
       "    <tr>\n",
       "      <th>3</th>\n",
       "      <td>4</td>\n",
       "      <td>0</td>\n",
       "      <td>1</td>\n",
       "      <td>1</td>\n",
       "      <td>1</td>\n",
       "      <td>1</td>\n",
       "      <td>1</td>\n",
       "      <td>0</td>\n",
       "      <td>1</td>\n",
       "      <td>1</td>\n",
       "      <td>...</td>\n",
       "      <td>f</td>\n",
       "      <td>White-European</td>\n",
       "      <td>no</td>\n",
       "      <td>no</td>\n",
       "      <td>United Kingdom</td>\n",
       "      <td>no</td>\n",
       "      <td>7</td>\n",
       "      <td>12-16 years</td>\n",
       "      <td>Self</td>\n",
       "      <td>YES</td>\n",
       "    </tr>\n",
       "    <tr>\n",
       "      <th>4</th>\n",
       "      <td>5</td>\n",
       "      <td>1</td>\n",
       "      <td>1</td>\n",
       "      <td>1</td>\n",
       "      <td>1</td>\n",
       "      <td>1</td>\n",
       "      <td>1</td>\n",
       "      <td>1</td>\n",
       "      <td>0</td>\n",
       "      <td>0</td>\n",
       "      <td>...</td>\n",
       "      <td>f</td>\n",
       "      <td>NaN</td>\n",
       "      <td>no</td>\n",
       "      <td>no</td>\n",
       "      <td>Albania</td>\n",
       "      <td>no</td>\n",
       "      <td>7</td>\n",
       "      <td>12-16 years</td>\n",
       "      <td>NaN</td>\n",
       "      <td>YES</td>\n",
       "    </tr>\n",
       "  </tbody>\n",
       "</table>\n",
       "<p>5 rows × 22 columns</p>\n",
       "</div>"
      ],
      "text/plain": [
       "   id  A1_Score  A2_Score  A3_Score  A4_Score  A5_Score  A6_Score  A7_Score  \\\n",
       "0   1         0         0         0         1         1         1         1   \n",
       "1   2         0         0         0         0         0         0         0   \n",
       "2   3         0         0         0         0         0         0         0   \n",
       "3   4         0         1         1         1         1         1         0   \n",
       "4   5         1         1         1         1         1         1         1   \n",
       "\n",
       "   A8_Score  A9_Score  ...  gender       ethnicity jundice austim  \\\n",
       "0         1         1  ...       m        Hispanic     yes    yes   \n",
       "1         0         1  ...       m           Black      no     no   \n",
       "2         0         1  ...       f             NaN      no     no   \n",
       "3         1         1  ...       f  White-European      no     no   \n",
       "4         0         0  ...       f             NaN      no     no   \n",
       "\n",
       "    contry_of_res used_app_before result     age_desc  relation Class/ASD  \n",
       "0         Austria              no      6  12-16 years    Parent        NO  \n",
       "1         Austria              no      2  12-16 years  Relative        NO  \n",
       "2   AmericanSamoa              no      2  12-16 years       NaN        NO  \n",
       "3  United Kingdom              no      7  12-16 years      Self       YES  \n",
       "4         Albania              no      7  12-16 years       NaN       YES  \n",
       "\n",
       "[5 rows x 22 columns]"
      ]
     },
     "execution_count": 3,
     "metadata": {},
     "output_type": "execute_result"
    }
   ],
   "source": [
    "asd_data.head()"
   ]
  },
  {
   "cell_type": "code",
   "execution_count": 4,
   "id": "7d7c78e1",
   "metadata": {},
   "outputs": [
    {
     "name": "stdout",
     "output_type": "stream",
     "text": [
      "<class 'pandas.core.frame.DataFrame'>\n",
      "RangeIndex: 104 entries, 0 to 103\n",
      "Data columns (total 22 columns):\n",
      " #   Column           Non-Null Count  Dtype \n",
      "---  ------           --------------  ----- \n",
      " 0   id               104 non-null    int64 \n",
      " 1   A1_Score         104 non-null    int64 \n",
      " 2   A2_Score         104 non-null    int64 \n",
      " 3   A3_Score         104 non-null    int64 \n",
      " 4   A4_Score         104 non-null    int64 \n",
      " 5   A5_Score         104 non-null    int64 \n",
      " 6   A6_Score         104 non-null    int64 \n",
      " 7   A7_Score         104 non-null    int64 \n",
      " 8   A8_Score         104 non-null    int64 \n",
      " 9   A9_Score         104 non-null    int64 \n",
      " 10  A10_Score        104 non-null    int64 \n",
      " 11  age              104 non-null    int64 \n",
      " 12  gender           104 non-null    object\n",
      " 13  ethnicity        98 non-null     object\n",
      " 14  jundice          104 non-null    object\n",
      " 15  austim           104 non-null    object\n",
      " 16  contry_of_res    104 non-null    object\n",
      " 17  used_app_before  104 non-null    object\n",
      " 18  result           104 non-null    int64 \n",
      " 19  age_desc         104 non-null    object\n",
      " 20  relation         98 non-null     object\n",
      " 21  Class/ASD        104 non-null    object\n",
      "dtypes: int64(13), object(9)\n",
      "memory usage: 18.0+ KB\n"
     ]
    }
   ],
   "source": [
    "asd_data.info()"
   ]
  },
  {
   "cell_type": "code",
   "execution_count": 5,
   "id": "c9269253",
   "metadata": {},
   "outputs": [
    {
     "data": {
      "text/html": [
       "<div>\n",
       "<style scoped>\n",
       "    .dataframe tbody tr th:only-of-type {\n",
       "        vertical-align: middle;\n",
       "    }\n",
       "\n",
       "    .dataframe tbody tr th {\n",
       "        vertical-align: top;\n",
       "    }\n",
       "\n",
       "    .dataframe thead th {\n",
       "        text-align: right;\n",
       "    }\n",
       "</style>\n",
       "<table border=\"1\" class=\"dataframe\">\n",
       "  <thead>\n",
       "    <tr style=\"text-align: right;\">\n",
       "      <th></th>\n",
       "      <th>id</th>\n",
       "      <th>A1_Score</th>\n",
       "      <th>A2_Score</th>\n",
       "      <th>A3_Score</th>\n",
       "      <th>A4_Score</th>\n",
       "      <th>A5_Score</th>\n",
       "      <th>A6_Score</th>\n",
       "      <th>A7_Score</th>\n",
       "      <th>A8_Score</th>\n",
       "      <th>A9_Score</th>\n",
       "      <th>A10_Score</th>\n",
       "      <th>age</th>\n",
       "      <th>result</th>\n",
       "    </tr>\n",
       "  </thead>\n",
       "  <tbody>\n",
       "    <tr>\n",
       "      <th>count</th>\n",
       "      <td>104.000000</td>\n",
       "      <td>104.000000</td>\n",
       "      <td>104.000000</td>\n",
       "      <td>104.000000</td>\n",
       "      <td>104.000000</td>\n",
       "      <td>104.00000</td>\n",
       "      <td>104.000000</td>\n",
       "      <td>104.000000</td>\n",
       "      <td>104.000000</td>\n",
       "      <td>104.000000</td>\n",
       "      <td>104.000000</td>\n",
       "      <td>104.000000</td>\n",
       "      <td>104.000000</td>\n",
       "    </tr>\n",
       "    <tr>\n",
       "      <th>mean</th>\n",
       "      <td>52.500000</td>\n",
       "      <td>0.730769</td>\n",
       "      <td>0.538462</td>\n",
       "      <td>0.653846</td>\n",
       "      <td>0.701923</td>\n",
       "      <td>0.75000</td>\n",
       "      <td>0.769231</td>\n",
       "      <td>0.519231</td>\n",
       "      <td>0.615385</td>\n",
       "      <td>0.788462</td>\n",
       "      <td>0.653846</td>\n",
       "      <td>14.134615</td>\n",
       "      <td>6.721154</td>\n",
       "    </tr>\n",
       "    <tr>\n",
       "      <th>std</th>\n",
       "      <td>30.166206</td>\n",
       "      <td>0.445708</td>\n",
       "      <td>0.500933</td>\n",
       "      <td>0.478047</td>\n",
       "      <td>0.459629</td>\n",
       "      <td>0.43511</td>\n",
       "      <td>0.423365</td>\n",
       "      <td>0.502050</td>\n",
       "      <td>0.488860</td>\n",
       "      <td>0.410377</td>\n",
       "      <td>0.478047</td>\n",
       "      <td>1.576882</td>\n",
       "      <td>2.200868</td>\n",
       "    </tr>\n",
       "    <tr>\n",
       "      <th>min</th>\n",
       "      <td>1.000000</td>\n",
       "      <td>0.000000</td>\n",
       "      <td>0.000000</td>\n",
       "      <td>0.000000</td>\n",
       "      <td>0.000000</td>\n",
       "      <td>0.00000</td>\n",
       "      <td>0.000000</td>\n",
       "      <td>0.000000</td>\n",
       "      <td>0.000000</td>\n",
       "      <td>0.000000</td>\n",
       "      <td>0.000000</td>\n",
       "      <td>12.000000</td>\n",
       "      <td>1.000000</td>\n",
       "    </tr>\n",
       "    <tr>\n",
       "      <th>25%</th>\n",
       "      <td>26.750000</td>\n",
       "      <td>0.000000</td>\n",
       "      <td>0.000000</td>\n",
       "      <td>0.000000</td>\n",
       "      <td>0.000000</td>\n",
       "      <td>0.75000</td>\n",
       "      <td>1.000000</td>\n",
       "      <td>0.000000</td>\n",
       "      <td>0.000000</td>\n",
       "      <td>1.000000</td>\n",
       "      <td>0.000000</td>\n",
       "      <td>13.000000</td>\n",
       "      <td>6.000000</td>\n",
       "    </tr>\n",
       "    <tr>\n",
       "      <th>50%</th>\n",
       "      <td>52.500000</td>\n",
       "      <td>1.000000</td>\n",
       "      <td>1.000000</td>\n",
       "      <td>1.000000</td>\n",
       "      <td>1.000000</td>\n",
       "      <td>1.00000</td>\n",
       "      <td>1.000000</td>\n",
       "      <td>1.000000</td>\n",
       "      <td>1.000000</td>\n",
       "      <td>1.000000</td>\n",
       "      <td>1.000000</td>\n",
       "      <td>14.000000</td>\n",
       "      <td>7.000000</td>\n",
       "    </tr>\n",
       "    <tr>\n",
       "      <th>75%</th>\n",
       "      <td>78.250000</td>\n",
       "      <td>1.000000</td>\n",
       "      <td>1.000000</td>\n",
       "      <td>1.000000</td>\n",
       "      <td>1.000000</td>\n",
       "      <td>1.00000</td>\n",
       "      <td>1.000000</td>\n",
       "      <td>1.000000</td>\n",
       "      <td>1.000000</td>\n",
       "      <td>1.000000</td>\n",
       "      <td>1.000000</td>\n",
       "      <td>16.000000</td>\n",
       "      <td>8.000000</td>\n",
       "    </tr>\n",
       "    <tr>\n",
       "      <th>max</th>\n",
       "      <td>104.000000</td>\n",
       "      <td>1.000000</td>\n",
       "      <td>1.000000</td>\n",
       "      <td>1.000000</td>\n",
       "      <td>1.000000</td>\n",
       "      <td>1.00000</td>\n",
       "      <td>1.000000</td>\n",
       "      <td>1.000000</td>\n",
       "      <td>1.000000</td>\n",
       "      <td>1.000000</td>\n",
       "      <td>1.000000</td>\n",
       "      <td>16.000000</td>\n",
       "      <td>10.000000</td>\n",
       "    </tr>\n",
       "  </tbody>\n",
       "</table>\n",
       "</div>"
      ],
      "text/plain": [
       "               id    A1_Score    A2_Score    A3_Score    A4_Score   A5_Score  \\\n",
       "count  104.000000  104.000000  104.000000  104.000000  104.000000  104.00000   \n",
       "mean    52.500000    0.730769    0.538462    0.653846    0.701923    0.75000   \n",
       "std     30.166206    0.445708    0.500933    0.478047    0.459629    0.43511   \n",
       "min      1.000000    0.000000    0.000000    0.000000    0.000000    0.00000   \n",
       "25%     26.750000    0.000000    0.000000    0.000000    0.000000    0.75000   \n",
       "50%     52.500000    1.000000    1.000000    1.000000    1.000000    1.00000   \n",
       "75%     78.250000    1.000000    1.000000    1.000000    1.000000    1.00000   \n",
       "max    104.000000    1.000000    1.000000    1.000000    1.000000    1.00000   \n",
       "\n",
       "         A6_Score    A7_Score    A8_Score    A9_Score   A10_Score         age  \\\n",
       "count  104.000000  104.000000  104.000000  104.000000  104.000000  104.000000   \n",
       "mean     0.769231    0.519231    0.615385    0.788462    0.653846   14.134615   \n",
       "std      0.423365    0.502050    0.488860    0.410377    0.478047    1.576882   \n",
       "min      0.000000    0.000000    0.000000    0.000000    0.000000   12.000000   \n",
       "25%      1.000000    0.000000    0.000000    1.000000    0.000000   13.000000   \n",
       "50%      1.000000    1.000000    1.000000    1.000000    1.000000   14.000000   \n",
       "75%      1.000000    1.000000    1.000000    1.000000    1.000000   16.000000   \n",
       "max      1.000000    1.000000    1.000000    1.000000    1.000000   16.000000   \n",
       "\n",
       "           result  \n",
       "count  104.000000  \n",
       "mean     6.721154  \n",
       "std      2.200868  \n",
       "min      1.000000  \n",
       "25%      6.000000  \n",
       "50%      7.000000  \n",
       "75%      8.000000  \n",
       "max     10.000000  "
      ]
     },
     "execution_count": 5,
     "metadata": {},
     "output_type": "execute_result"
    }
   ],
   "source": [
    "asd_data.describe()"
   ]
  },
  {
   "cell_type": "markdown",
   "id": "032c623d",
   "metadata": {},
   "source": [
    "# Feature Exploration"
   ]
  },
  {
   "cell_type": "code",
   "execution_count": 6,
   "id": "9144afc0",
   "metadata": {},
   "outputs": [
    {
     "name": "stdout",
     "output_type": "stream",
     "text": [
      "Total number of records: 104\n",
      "Individuals diagonised with ASD: 63\n",
      "Individuals not diagonised with ASD: 41\n",
      "Percentage of individuals diagonised with ASD: 60.58%\n"
     ]
    }
   ],
   "source": [
    "n_records = len(asd_data.index)\n",
    "\n",
    "# Number of records where individual's with ASD\n",
    "n_asd_yes = len(asd_data[asd_data['Class/ASD'] == 'YES'])\n",
    "\n",
    "# Number of records where individual's with no ASD\n",
    "n_asd_no = len(asd_data[asd_data['Class/ASD'] == 'NO'])\n",
    "\n",
    "# Percentage of individuals whose are with ASD\n",
    "yes_percent = float(n_asd_yes) / n_records *100\n",
    "\n",
    "# Print the results\n",
    "print(\"Total number of records: {}\".format(n_records))\n",
    "print(\"Individuals diagonised with ASD: {}\".format(n_asd_yes))\n",
    "print(\"Individuals not diagonised with ASD: {}\".format(n_asd_no))\n",
    "print(\"Percentage of individuals diagonised with ASD: {:.2f}%\".format(yes_percent))"
   ]
  },
  {
   "cell_type": "code",
   "execution_count": 7,
   "id": "55c12a39",
   "metadata": {},
   "outputs": [
    {
     "data": {
      "text/html": [
       "<div>\n",
       "<style scoped>\n",
       "    .dataframe tbody tr th:only-of-type {\n",
       "        vertical-align: middle;\n",
       "    }\n",
       "\n",
       "    .dataframe tbody tr th {\n",
       "        vertical-align: top;\n",
       "    }\n",
       "\n",
       "    .dataframe thead th {\n",
       "        text-align: right;\n",
       "    }\n",
       "</style>\n",
       "<table border=\"1\" class=\"dataframe\">\n",
       "  <thead>\n",
       "    <tr style=\"text-align: right;\">\n",
       "      <th></th>\n",
       "      <th>id</th>\n",
       "      <th>A1_Score</th>\n",
       "      <th>A2_Score</th>\n",
       "      <th>A3_Score</th>\n",
       "      <th>A4_Score</th>\n",
       "      <th>A5_Score</th>\n",
       "      <th>A6_Score</th>\n",
       "      <th>A7_Score</th>\n",
       "      <th>A8_Score</th>\n",
       "      <th>A9_Score</th>\n",
       "      <th>...</th>\n",
       "      <th>gender</th>\n",
       "      <th>ethnicity</th>\n",
       "      <th>jundice</th>\n",
       "      <th>austim</th>\n",
       "      <th>contry_of_res</th>\n",
       "      <th>used_app_before</th>\n",
       "      <th>result</th>\n",
       "      <th>age_desc</th>\n",
       "      <th>relation</th>\n",
       "      <th>Class/ASD</th>\n",
       "    </tr>\n",
       "  </thead>\n",
       "  <tbody>\n",
       "    <tr>\n",
       "      <th>2</th>\n",
       "      <td>3</td>\n",
       "      <td>0</td>\n",
       "      <td>0</td>\n",
       "      <td>0</td>\n",
       "      <td>0</td>\n",
       "      <td>0</td>\n",
       "      <td>0</td>\n",
       "      <td>0</td>\n",
       "      <td>0</td>\n",
       "      <td>1</td>\n",
       "      <td>...</td>\n",
       "      <td>f</td>\n",
       "      <td>NaN</td>\n",
       "      <td>no</td>\n",
       "      <td>no</td>\n",
       "      <td>AmericanSamoa</td>\n",
       "      <td>no</td>\n",
       "      <td>2</td>\n",
       "      <td>12-16 years</td>\n",
       "      <td>NaN</td>\n",
       "      <td>NO</td>\n",
       "    </tr>\n",
       "    <tr>\n",
       "      <th>4</th>\n",
       "      <td>5</td>\n",
       "      <td>1</td>\n",
       "      <td>1</td>\n",
       "      <td>1</td>\n",
       "      <td>1</td>\n",
       "      <td>1</td>\n",
       "      <td>1</td>\n",
       "      <td>1</td>\n",
       "      <td>0</td>\n",
       "      <td>0</td>\n",
       "      <td>...</td>\n",
       "      <td>f</td>\n",
       "      <td>NaN</td>\n",
       "      <td>no</td>\n",
       "      <td>no</td>\n",
       "      <td>Albania</td>\n",
       "      <td>no</td>\n",
       "      <td>7</td>\n",
       "      <td>12-16 years</td>\n",
       "      <td>NaN</td>\n",
       "      <td>YES</td>\n",
       "    </tr>\n",
       "    <tr>\n",
       "      <th>5</th>\n",
       "      <td>6</td>\n",
       "      <td>1</td>\n",
       "      <td>0</td>\n",
       "      <td>0</td>\n",
       "      <td>0</td>\n",
       "      <td>0</td>\n",
       "      <td>1</td>\n",
       "      <td>0</td>\n",
       "      <td>0</td>\n",
       "      <td>1</td>\n",
       "      <td>...</td>\n",
       "      <td>f</td>\n",
       "      <td>NaN</td>\n",
       "      <td>no</td>\n",
       "      <td>no</td>\n",
       "      <td>Belgium</td>\n",
       "      <td>no</td>\n",
       "      <td>3</td>\n",
       "      <td>12-16 years</td>\n",
       "      <td>NaN</td>\n",
       "      <td>NO</td>\n",
       "    </tr>\n",
       "    <tr>\n",
       "      <th>6</th>\n",
       "      <td>7</td>\n",
       "      <td>0</td>\n",
       "      <td>0</td>\n",
       "      <td>0</td>\n",
       "      <td>1</td>\n",
       "      <td>1</td>\n",
       "      <td>1</td>\n",
       "      <td>1</td>\n",
       "      <td>1</td>\n",
       "      <td>1</td>\n",
       "      <td>...</td>\n",
       "      <td>f</td>\n",
       "      <td>NaN</td>\n",
       "      <td>no</td>\n",
       "      <td>no</td>\n",
       "      <td>Afghanistan</td>\n",
       "      <td>no</td>\n",
       "      <td>6</td>\n",
       "      <td>12-16 years</td>\n",
       "      <td>NaN</td>\n",
       "      <td>NO</td>\n",
       "    </tr>\n",
       "    <tr>\n",
       "      <th>28</th>\n",
       "      <td>29</td>\n",
       "      <td>1</td>\n",
       "      <td>1</td>\n",
       "      <td>0</td>\n",
       "      <td>0</td>\n",
       "      <td>0</td>\n",
       "      <td>0</td>\n",
       "      <td>1</td>\n",
       "      <td>0</td>\n",
       "      <td>1</td>\n",
       "      <td>...</td>\n",
       "      <td>m</td>\n",
       "      <td>NaN</td>\n",
       "      <td>no</td>\n",
       "      <td>no</td>\n",
       "      <td>Afghanistan</td>\n",
       "      <td>no</td>\n",
       "      <td>4</td>\n",
       "      <td>12-16 years</td>\n",
       "      <td>NaN</td>\n",
       "      <td>NO</td>\n",
       "    </tr>\n",
       "    <tr>\n",
       "      <th>97</th>\n",
       "      <td>98</td>\n",
       "      <td>1</td>\n",
       "      <td>0</td>\n",
       "      <td>0</td>\n",
       "      <td>0</td>\n",
       "      <td>1</td>\n",
       "      <td>0</td>\n",
       "      <td>0</td>\n",
       "      <td>1</td>\n",
       "      <td>0</td>\n",
       "      <td>...</td>\n",
       "      <td>f</td>\n",
       "      <td>NaN</td>\n",
       "      <td>no</td>\n",
       "      <td>no</td>\n",
       "      <td>Argentina</td>\n",
       "      <td>no</td>\n",
       "      <td>4</td>\n",
       "      <td>12-15 years</td>\n",
       "      <td>NaN</td>\n",
       "      <td>NO</td>\n",
       "    </tr>\n",
       "  </tbody>\n",
       "</table>\n",
       "<p>6 rows × 22 columns</p>\n",
       "</div>"
      ],
      "text/plain": [
       "    id  A1_Score  A2_Score  A3_Score  A4_Score  A5_Score  A6_Score  A7_Score  \\\n",
       "2    3         0         0         0         0         0         0         0   \n",
       "4    5         1         1         1         1         1         1         1   \n",
       "5    6         1         0         0         0         0         1         0   \n",
       "6    7         0         0         0         1         1         1         1   \n",
       "28  29         1         1         0         0         0         0         1   \n",
       "97  98         1         0         0         0         1         0         0   \n",
       "\n",
       "    A8_Score  A9_Score  ...  gender  ethnicity jundice austim  contry_of_res  \\\n",
       "2          0         1  ...       f        NaN      no     no  AmericanSamoa   \n",
       "4          0         0  ...       f        NaN      no     no        Albania   \n",
       "5          0         1  ...       f        NaN      no     no        Belgium   \n",
       "6          1         1  ...       f        NaN      no     no    Afghanistan   \n",
       "28         0         1  ...       m        NaN      no     no    Afghanistan   \n",
       "97         1         0  ...       f        NaN      no     no      Argentina   \n",
       "\n",
       "   used_app_before result     age_desc  relation Class/ASD  \n",
       "2               no      2  12-16 years       NaN        NO  \n",
       "4               no      7  12-16 years       NaN       YES  \n",
       "5               no      3  12-16 years       NaN        NO  \n",
       "6               no      6  12-16 years       NaN        NO  \n",
       "28              no      4  12-16 years       NaN        NO  \n",
       "97              no      4  12-15 years       NaN        NO  \n",
       "\n",
       "[6 rows x 22 columns]"
      ]
     },
     "execution_count": 7,
     "metadata": {},
     "output_type": "execute_result"
    }
   ],
   "source": [
    "# .isnull() will replace the null values with boolean value True and otherwise with False.\n",
    "# Pandas DataFrame.loc attribute access a group of rows and columns by label(s) or a boolean array in the given DataFrame.\n",
    "asd_data.loc[\n",
    "             (asd_data['age'].isnull()) |\n",
    "             (asd_data['gender'].isnull()) |\n",
    "             (asd_data['ethnicity'].isnull()) |\n",
    "             (asd_data['jundice'].isnull())|\n",
    "             (asd_data['austim'].isnull()) |\n",
    "             (asd_data['contry_of_res'].isnull())|\n",
    "             (asd_data['used_app_before'].isnull())|\n",
    "             (asd_data['result'].isnull())|\n",
    "             (asd_data['age_desc'].isnull())|\n",
    "             (asd_data['relation'].isnull())\n",
    "            ]"
   ]
  },
  {
   "cell_type": "code",
   "execution_count": 8,
   "id": "7514752a",
   "metadata": {},
   "outputs": [
    {
     "data": {
      "text/html": [
       "<div>\n",
       "<style scoped>\n",
       "    .dataframe tbody tr th:only-of-type {\n",
       "        vertical-align: middle;\n",
       "    }\n",
       "\n",
       "    .dataframe tbody tr th {\n",
       "        vertical-align: top;\n",
       "    }\n",
       "\n",
       "    .dataframe thead th {\n",
       "        text-align: right;\n",
       "    }\n",
       "</style>\n",
       "<table border=\"1\" class=\"dataframe\">\n",
       "  <thead>\n",
       "    <tr style=\"text-align: right;\">\n",
       "      <th></th>\n",
       "      <th>id</th>\n",
       "      <th>A1_Score</th>\n",
       "      <th>A2_Score</th>\n",
       "      <th>A3_Score</th>\n",
       "      <th>A4_Score</th>\n",
       "      <th>A5_Score</th>\n",
       "      <th>A6_Score</th>\n",
       "      <th>A7_Score</th>\n",
       "      <th>A8_Score</th>\n",
       "      <th>A9_Score</th>\n",
       "      <th>A10_Score</th>\n",
       "      <th>age</th>\n",
       "      <th>result</th>\n",
       "    </tr>\n",
       "  </thead>\n",
       "  <tbody>\n",
       "    <tr>\n",
       "      <th>count</th>\n",
       "      <td>98.000000</td>\n",
       "      <td>98.000000</td>\n",
       "      <td>98.000000</td>\n",
       "      <td>98.000000</td>\n",
       "      <td>98.000000</td>\n",
       "      <td>98.000000</td>\n",
       "      <td>98.000000</td>\n",
       "      <td>98.000000</td>\n",
       "      <td>98.000000</td>\n",
       "      <td>98.000000</td>\n",
       "      <td>98.000000</td>\n",
       "      <td>98.000000</td>\n",
       "      <td>98.000000</td>\n",
       "    </tr>\n",
       "    <tr>\n",
       "      <th>mean</th>\n",
       "      <td>54.204082</td>\n",
       "      <td>0.734694</td>\n",
       "      <td>0.551020</td>\n",
       "      <td>0.683673</td>\n",
       "      <td>0.724490</td>\n",
       "      <td>0.765306</td>\n",
       "      <td>0.785714</td>\n",
       "      <td>0.520408</td>\n",
       "      <td>0.632653</td>\n",
       "      <td>0.795918</td>\n",
       "      <td>0.673469</td>\n",
       "      <td>14.132653</td>\n",
       "      <td>6.867347</td>\n",
       "    </tr>\n",
       "    <tr>\n",
       "      <th>std</th>\n",
       "      <td>29.054502</td>\n",
       "      <td>0.443766</td>\n",
       "      <td>0.499947</td>\n",
       "      <td>0.467433</td>\n",
       "      <td>0.449068</td>\n",
       "      <td>0.425986</td>\n",
       "      <td>0.412436</td>\n",
       "      <td>0.502152</td>\n",
       "      <td>0.484561</td>\n",
       "      <td>0.405101</td>\n",
       "      <td>0.471355</td>\n",
       "      <td>1.577142</td>\n",
       "      <td>2.142538</td>\n",
       "    </tr>\n",
       "    <tr>\n",
       "      <th>min</th>\n",
       "      <td>1.000000</td>\n",
       "      <td>0.000000</td>\n",
       "      <td>0.000000</td>\n",
       "      <td>0.000000</td>\n",
       "      <td>0.000000</td>\n",
       "      <td>0.000000</td>\n",
       "      <td>0.000000</td>\n",
       "      <td>0.000000</td>\n",
       "      <td>0.000000</td>\n",
       "      <td>0.000000</td>\n",
       "      <td>0.000000</td>\n",
       "      <td>12.000000</td>\n",
       "      <td>1.000000</td>\n",
       "    </tr>\n",
       "    <tr>\n",
       "      <th>25%</th>\n",
       "      <td>30.250000</td>\n",
       "      <td>0.000000</td>\n",
       "      <td>0.000000</td>\n",
       "      <td>0.000000</td>\n",
       "      <td>0.000000</td>\n",
       "      <td>1.000000</td>\n",
       "      <td>1.000000</td>\n",
       "      <td>0.000000</td>\n",
       "      <td>0.000000</td>\n",
       "      <td>1.000000</td>\n",
       "      <td>0.000000</td>\n",
       "      <td>13.000000</td>\n",
       "      <td>6.000000</td>\n",
       "    </tr>\n",
       "    <tr>\n",
       "      <th>50%</th>\n",
       "      <td>54.500000</td>\n",
       "      <td>1.000000</td>\n",
       "      <td>1.000000</td>\n",
       "      <td>1.000000</td>\n",
       "      <td>1.000000</td>\n",
       "      <td>1.000000</td>\n",
       "      <td>1.000000</td>\n",
       "      <td>1.000000</td>\n",
       "      <td>1.000000</td>\n",
       "      <td>1.000000</td>\n",
       "      <td>1.000000</td>\n",
       "      <td>14.000000</td>\n",
       "      <td>7.000000</td>\n",
       "    </tr>\n",
       "    <tr>\n",
       "      <th>75%</th>\n",
       "      <td>78.750000</td>\n",
       "      <td>1.000000</td>\n",
       "      <td>1.000000</td>\n",
       "      <td>1.000000</td>\n",
       "      <td>1.000000</td>\n",
       "      <td>1.000000</td>\n",
       "      <td>1.000000</td>\n",
       "      <td>1.000000</td>\n",
       "      <td>1.000000</td>\n",
       "      <td>1.000000</td>\n",
       "      <td>1.000000</td>\n",
       "      <td>16.000000</td>\n",
       "      <td>8.000000</td>\n",
       "    </tr>\n",
       "    <tr>\n",
       "      <th>max</th>\n",
       "      <td>104.000000</td>\n",
       "      <td>1.000000</td>\n",
       "      <td>1.000000</td>\n",
       "      <td>1.000000</td>\n",
       "      <td>1.000000</td>\n",
       "      <td>1.000000</td>\n",
       "      <td>1.000000</td>\n",
       "      <td>1.000000</td>\n",
       "      <td>1.000000</td>\n",
       "      <td>1.000000</td>\n",
       "      <td>1.000000</td>\n",
       "      <td>16.000000</td>\n",
       "      <td>10.000000</td>\n",
       "    </tr>\n",
       "  </tbody>\n",
       "</table>\n",
       "</div>"
      ],
      "text/plain": [
       "               id   A1_Score   A2_Score   A3_Score   A4_Score   A5_Score  \\\n",
       "count   98.000000  98.000000  98.000000  98.000000  98.000000  98.000000   \n",
       "mean    54.204082   0.734694   0.551020   0.683673   0.724490   0.765306   \n",
       "std     29.054502   0.443766   0.499947   0.467433   0.449068   0.425986   \n",
       "min      1.000000   0.000000   0.000000   0.000000   0.000000   0.000000   \n",
       "25%     30.250000   0.000000   0.000000   0.000000   0.000000   1.000000   \n",
       "50%     54.500000   1.000000   1.000000   1.000000   1.000000   1.000000   \n",
       "75%     78.750000   1.000000   1.000000   1.000000   1.000000   1.000000   \n",
       "max    104.000000   1.000000   1.000000   1.000000   1.000000   1.000000   \n",
       "\n",
       "        A6_Score   A7_Score   A8_Score   A9_Score  A10_Score        age  \\\n",
       "count  98.000000  98.000000  98.000000  98.000000  98.000000  98.000000   \n",
       "mean    0.785714   0.520408   0.632653   0.795918   0.673469  14.132653   \n",
       "std     0.412436   0.502152   0.484561   0.405101   0.471355   1.577142   \n",
       "min     0.000000   0.000000   0.000000   0.000000   0.000000  12.000000   \n",
       "25%     1.000000   0.000000   0.000000   1.000000   0.000000  13.000000   \n",
       "50%     1.000000   1.000000   1.000000   1.000000   1.000000  14.000000   \n",
       "75%     1.000000   1.000000   1.000000   1.000000   1.000000  16.000000   \n",
       "max     1.000000   1.000000   1.000000   1.000000   1.000000  16.000000   \n",
       "\n",
       "          result  \n",
       "count  98.000000  \n",
       "mean    6.867347  \n",
       "std     2.142538  \n",
       "min     1.000000  \n",
       "25%     6.000000  \n",
       "50%     7.000000  \n",
       "75%     8.000000  \n",
       "max    10.000000  "
      ]
     },
     "execution_count": 8,
     "metadata": {},
     "output_type": "execute_result"
    }
   ],
   "source": [
    "asd_data.dropna(inplace = True) #As the missing data is random, dropna will drop the rows with missing data\n",
    "asd_data.describe()"
   ]
  },
  {
   "cell_type": "markdown",
   "id": "dbafef0f",
   "metadata": {},
   "source": [
    "# Visualization"
   ]
  },
  {
   "cell_type": "code",
   "execution_count": 9,
   "id": "11a95e5a",
   "metadata": {},
   "outputs": [],
   "source": [
    "import seaborn as sns\n",
    "import matplotlib.pyplot as plt\n",
    "sns.set(style=\"whitegrid\", color_codes=True)"
   ]
  },
  {
   "cell_type": "code",
   "execution_count": 10,
   "id": "32d61aaa",
   "metadata": {},
   "outputs": [
    {
     "data": {
      "image/png": "[encoded data removed]",
      "text/plain": [
       "<Figure size 432x288 with 1 Axes>"
      ]
     },
     "metadata": {},
     "output_type": "display_data"
    }
   ],
   "source": [
    "sns.violinplot(x=\"jundice\", y=\"result\", hue=\"austim\", data=asd_data, split=True,\n",
    "                inner=\"quart\", palette={'yes': \"orange\", 'no': \"blue\"})\n",
    "sns.despine(left=True)"
   ]
  },
  {
   "cell_type": "code",
   "execution_count": 11,
   "id": "4e4718a6",
   "metadata": {},
   "outputs": [
    {
     "name": "stderr",
     "output_type": "stream",
     "text": [
      "c:\\users\\harshit\\appdata\\local\\programs\\python\\python39\\lib\\site-packages\\seaborn\\categorical.py:3714: UserWarning: The `factorplot` function has been renamed to `catplot`. The original name will be removed in a future release. Please update your code. Note that the default `kind` in `factorplot` (`'point'`) has changed `'strip'` in `catplot`.\n",
      "  warnings.warn(msg)\n"
     ]
    },
    {
     "data": {
      "image/png": "[encoded data removed]",
      "text/plain": [
       "<Figure size 786.675x360 with 2 Axes>"
      ]
     },
     "metadata": {},
     "output_type": "display_data"
    }
   ],
   "source": [
    "sns.factorplot(x=\"jundice\", y=\"result\", hue=\"Class/ASD\", col=\"gender\", data=asd_data, kind=\"swarm\");"
   ]
  },
  {
   "cell_type": "code",
   "execution_count": 12,
   "id": "8ed38af5",
   "metadata": {},
   "outputs": [
    {
     "name": "stderr",
     "output_type": "stream",
     "text": [
      "c:\\users\\harshit\\appdata\\local\\programs\\python\\python39\\lib\\site-packages\\seaborn\\categorical.py:3714: UserWarning: The `factorplot` function has been renamed to `catplot`. The original name will be removed in a future release. Please update your code. Note that the default `kind` in `factorplot` (`'point'`) has changed `'strip'` in `catplot`.\n",
      "  warnings.warn(msg)\n",
      "c:\\users\\harshit\\appdata\\local\\programs\\python\\python39\\lib\\site-packages\\seaborn\\categorical.py:3720: UserWarning: The `size` parameter has been renamed to `height`; please update your code.\n",
      "  warnings.warn(msg, UserWarning)\n"
     ]
    },
    {
     "data": {
      "image/png": "[encoded data removed]",
      "text/plain": [
       "<Figure size 786.675x288 with 5 Axes>"
      ]
     },
     "metadata": {},
     "output_type": "display_data"
    }
   ],
   "source": [
    "sns.factorplot(x=\"gender\", y=\"result\", hue=\"Class/ASD\",\n",
    "               col=\"relation\", data=asd_data, kind=\"box\", size=4, aspect=.5, palette={'YES': \"orange\", 'NO': \"blue\"});"
   ]
  },
  {
   "cell_type": "code",
   "execution_count": 13,
   "id": "32559488",
   "metadata": {},
   "outputs": [
    {
     "name": "stderr",
     "output_type": "stream",
     "text": [
      "c:\\users\\harshit\\appdata\\local\\programs\\python\\python39\\lib\\site-packages\\seaborn\\categorical.py:3714: UserWarning: The `factorplot` function has been renamed to `catplot`. The original name will be removed in a future release. Please update your code. Note that the default `kind` in `factorplot` (`'point'`) has changed `'strip'` in `catplot`.\n",
      "  warnings.warn(msg)\n",
      "c:\\users\\harshit\\appdata\\local\\programs\\python\\python39\\lib\\site-packages\\seaborn\\categorical.py:3720: UserWarning: The `size` parameter has been renamed to `height`; please update your code.\n",
      "  warnings.warn(msg, UserWarning)\n"
     ]
    },
    {
     "data": {
      "image/png": "[encoded data removed]",
      "text/plain": [
       "<Figure size 552.85x720 with 5 Axes>"
      ]
     },
     "metadata": {},
     "output_type": "display_data"
    }
   ],
   "source": [
    "g = sns.factorplot(x=\"result\", y=\"jundice\",\n",
    "                   hue=\"gender\", row=\"relation\",\n",
    "                   data=asd_data,\n",
    "                    orient=\"h\", size=2, aspect=3.5, palette={'f': \"orange\", 'm': \"blue\"},\n",
    "                  kind=\"violin\", dodge=True, cut=0, bw=.2)"
   ]
  },
  {
   "cell_type": "markdown",
   "id": "5118db27",
   "metadata": {},
   "source": [
    "# Pre-Processing"
   ]
  },
  {
   "cell_type": "code",
   "execution_count": 14,
   "id": "524e5f8d",
   "metadata": {},
   "outputs": [],
   "source": [
    "# Split the data into features and target label\n",
    "asd_raw = asd_data['Class/ASD']\n",
    "features_raw = asd_data[['age', 'gender', 'ethnicity', 'jundice', 'austim', \n",
    "                         'contry_of_res', 'result', 'relation',\n",
    "                         'A1_Score','A2_Score','A3_Score','A4_Score','A5_Score',\n",
    "                         'A6_Score','A7_Score','A8_Score','A9_Score','A10_Score']]"
   ]
  },
  {
   "cell_type": "code",
   "execution_count": 16,
   "id": "36ad019e",
   "metadata": {},
   "outputs": [
    {
     "data": {
      "text/html": [
       "<div>\n",
       "<style scoped>\n",
       "    .dataframe tbody tr th:only-of-type {\n",
       "        vertical-align: middle;\n",
       "    }\n",
       "\n",
       "    .dataframe tbody tr th {\n",
       "        vertical-align: top;\n",
       "    }\n",
       "\n",
       "    .dataframe thead th {\n",
       "        text-align: right;\n",
       "    }\n",
       "</style>\n",
       "<table border=\"1\" class=\"dataframe\">\n",
       "  <thead>\n",
       "    <tr style=\"text-align: right;\">\n",
       "      <th></th>\n",
       "      <th>age</th>\n",
       "      <th>gender</th>\n",
       "      <th>ethnicity</th>\n",
       "      <th>jundice</th>\n",
       "      <th>austim</th>\n",
       "      <th>contry_of_res</th>\n",
       "      <th>result</th>\n",
       "      <th>relation</th>\n",
       "      <th>A1_Score</th>\n",
       "      <th>A2_Score</th>\n",
       "      <th>A3_Score</th>\n",
       "      <th>A4_Score</th>\n",
       "      <th>A5_Score</th>\n",
       "      <th>A6_Score</th>\n",
       "      <th>A7_Score</th>\n",
       "      <th>A8_Score</th>\n",
       "      <th>A9_Score</th>\n",
       "      <th>A10_Score</th>\n",
       "    </tr>\n",
       "  </thead>\n",
       "  <tbody>\n",
       "    <tr>\n",
       "      <th>0</th>\n",
       "      <td>0.75</td>\n",
       "      <td>m</td>\n",
       "      <td>Hispanic</td>\n",
       "      <td>yes</td>\n",
       "      <td>yes</td>\n",
       "      <td>Austria</td>\n",
       "      <td>0.555556</td>\n",
       "      <td>Parent</td>\n",
       "      <td>0</td>\n",
       "      <td>0</td>\n",
       "      <td>0</td>\n",
       "      <td>1</td>\n",
       "      <td>1</td>\n",
       "      <td>1</td>\n",
       "      <td>1</td>\n",
       "      <td>1</td>\n",
       "      <td>1</td>\n",
       "      <td>0</td>\n",
       "    </tr>\n",
       "    <tr>\n",
       "      <th>1</th>\n",
       "      <td>0.75</td>\n",
       "      <td>m</td>\n",
       "      <td>Black</td>\n",
       "      <td>no</td>\n",
       "      <td>no</td>\n",
       "      <td>Austria</td>\n",
       "      <td>0.111111</td>\n",
       "      <td>Relative</td>\n",
       "      <td>0</td>\n",
       "      <td>0</td>\n",
       "      <td>0</td>\n",
       "      <td>0</td>\n",
       "      <td>0</td>\n",
       "      <td>0</td>\n",
       "      <td>0</td>\n",
       "      <td>0</td>\n",
       "      <td>1</td>\n",
       "      <td>1</td>\n",
       "    </tr>\n",
       "    <tr>\n",
       "      <th>3</th>\n",
       "      <td>0.50</td>\n",
       "      <td>f</td>\n",
       "      <td>White-European</td>\n",
       "      <td>no</td>\n",
       "      <td>no</td>\n",
       "      <td>United Kingdom</td>\n",
       "      <td>0.666667</td>\n",
       "      <td>Self</td>\n",
       "      <td>0</td>\n",
       "      <td>1</td>\n",
       "      <td>1</td>\n",
       "      <td>1</td>\n",
       "      <td>1</td>\n",
       "      <td>1</td>\n",
       "      <td>0</td>\n",
       "      <td>1</td>\n",
       "      <td>1</td>\n",
       "      <td>0</td>\n",
       "    </tr>\n",
       "    <tr>\n",
       "      <th>7</th>\n",
       "      <td>0.75</td>\n",
       "      <td>f</td>\n",
       "      <td>Middle Eastern</td>\n",
       "      <td>no</td>\n",
       "      <td>no</td>\n",
       "      <td>Australia</td>\n",
       "      <td>0.666667</td>\n",
       "      <td>Parent</td>\n",
       "      <td>1</td>\n",
       "      <td>1</td>\n",
       "      <td>0</td>\n",
       "      <td>1</td>\n",
       "      <td>1</td>\n",
       "      <td>0</td>\n",
       "      <td>1</td>\n",
       "      <td>1</td>\n",
       "      <td>0</td>\n",
       "      <td>1</td>\n",
       "    </tr>\n",
       "    <tr>\n",
       "      <th>8</th>\n",
       "      <td>0.00</td>\n",
       "      <td>m</td>\n",
       "      <td>Black</td>\n",
       "      <td>yes</td>\n",
       "      <td>yes</td>\n",
       "      <td>Bahrain</td>\n",
       "      <td>0.555556</td>\n",
       "      <td>Parent</td>\n",
       "      <td>1</td>\n",
       "      <td>1</td>\n",
       "      <td>1</td>\n",
       "      <td>1</td>\n",
       "      <td>1</td>\n",
       "      <td>1</td>\n",
       "      <td>0</td>\n",
       "      <td>0</td>\n",
       "      <td>0</td>\n",
       "      <td>0</td>\n",
       "    </tr>\n",
       "    <tr>\n",
       "      <th>...</th>\n",
       "      <td>...</td>\n",
       "      <td>...</td>\n",
       "      <td>...</td>\n",
       "      <td>...</td>\n",
       "      <td>...</td>\n",
       "      <td>...</td>\n",
       "      <td>...</td>\n",
       "      <td>...</td>\n",
       "      <td>...</td>\n",
       "      <td>...</td>\n",
       "      <td>...</td>\n",
       "      <td>...</td>\n",
       "      <td>...</td>\n",
       "      <td>...</td>\n",
       "      <td>...</td>\n",
       "      <td>...</td>\n",
       "      <td>...</td>\n",
       "      <td>...</td>\n",
       "    </tr>\n",
       "    <tr>\n",
       "      <th>99</th>\n",
       "      <td>1.00</td>\n",
       "      <td>f</td>\n",
       "      <td>Middle Eastern</td>\n",
       "      <td>no</td>\n",
       "      <td>no</td>\n",
       "      <td>Anguilla</td>\n",
       "      <td>0.555556</td>\n",
       "      <td>Parent</td>\n",
       "      <td>0</td>\n",
       "      <td>1</td>\n",
       "      <td>1</td>\n",
       "      <td>1</td>\n",
       "      <td>0</td>\n",
       "      <td>1</td>\n",
       "      <td>1</td>\n",
       "      <td>0</td>\n",
       "      <td>1</td>\n",
       "      <td>0</td>\n",
       "    </tr>\n",
       "    <tr>\n",
       "      <th>100</th>\n",
       "      <td>1.00</td>\n",
       "      <td>m</td>\n",
       "      <td>Asian</td>\n",
       "      <td>no</td>\n",
       "      <td>no</td>\n",
       "      <td>India</td>\n",
       "      <td>0.333333</td>\n",
       "      <td>Parent</td>\n",
       "      <td>1</td>\n",
       "      <td>0</td>\n",
       "      <td>1</td>\n",
       "      <td>0</td>\n",
       "      <td>0</td>\n",
       "      <td>0</td>\n",
       "      <td>0</td>\n",
       "      <td>1</td>\n",
       "      <td>0</td>\n",
       "      <td>1</td>\n",
       "    </tr>\n",
       "    <tr>\n",
       "      <th>101</th>\n",
       "      <td>0.00</td>\n",
       "      <td>f</td>\n",
       "      <td>White-European</td>\n",
       "      <td>no</td>\n",
       "      <td>no</td>\n",
       "      <td>United Kingdom</td>\n",
       "      <td>0.777778</td>\n",
       "      <td>Self</td>\n",
       "      <td>1</td>\n",
       "      <td>0</td>\n",
       "      <td>0</td>\n",
       "      <td>1</td>\n",
       "      <td>1</td>\n",
       "      <td>1</td>\n",
       "      <td>1</td>\n",
       "      <td>1</td>\n",
       "      <td>1</td>\n",
       "      <td>1</td>\n",
       "    </tr>\n",
       "    <tr>\n",
       "      <th>102</th>\n",
       "      <td>0.25</td>\n",
       "      <td>f</td>\n",
       "      <td>White-European</td>\n",
       "      <td>no</td>\n",
       "      <td>no</td>\n",
       "      <td>United Kingdom</td>\n",
       "      <td>0.555556</td>\n",
       "      <td>Self</td>\n",
       "      <td>1</td>\n",
       "      <td>1</td>\n",
       "      <td>0</td>\n",
       "      <td>1</td>\n",
       "      <td>1</td>\n",
       "      <td>0</td>\n",
       "      <td>0</td>\n",
       "      <td>0</td>\n",
       "      <td>1</td>\n",
       "      <td>1</td>\n",
       "    </tr>\n",
       "    <tr>\n",
       "      <th>103</th>\n",
       "      <td>0.00</td>\n",
       "      <td>m</td>\n",
       "      <td>Asian</td>\n",
       "      <td>no</td>\n",
       "      <td>no</td>\n",
       "      <td>India</td>\n",
       "      <td>0.555556</td>\n",
       "      <td>Parent</td>\n",
       "      <td>1</td>\n",
       "      <td>0</td>\n",
       "      <td>1</td>\n",
       "      <td>0</td>\n",
       "      <td>0</td>\n",
       "      <td>1</td>\n",
       "      <td>1</td>\n",
       "      <td>1</td>\n",
       "      <td>1</td>\n",
       "      <td>0</td>\n",
       "    </tr>\n",
       "  </tbody>\n",
       "</table>\n",
       "<p>98 rows × 18 columns</p>\n",
       "</div>"
      ],
      "text/plain": [
       "      age gender        ethnicity jundice austim   contry_of_res    result  \\\n",
       "0    0.75      m         Hispanic     yes    yes         Austria  0.555556   \n",
       "1    0.75      m            Black      no     no         Austria  0.111111   \n",
       "3    0.50      f   White-European      no     no  United Kingdom  0.666667   \n",
       "7    0.75      f  Middle Eastern       no     no       Australia  0.666667   \n",
       "8    0.00      m            Black     yes    yes         Bahrain  0.555556   \n",
       "..    ...    ...              ...     ...    ...             ...       ...   \n",
       "99   1.00      f  Middle Eastern       no     no        Anguilla  0.555556   \n",
       "100  1.00      m            Asian      no     no           India  0.333333   \n",
       "101  0.00      f   White-European      no     no  United Kingdom  0.777778   \n",
       "102  0.25      f   White-European      no     no  United Kingdom  0.555556   \n",
       "103  0.00      m            Asian      no     no           India  0.555556   \n",
       "\n",
       "     relation  A1_Score  A2_Score  A3_Score  A4_Score  A5_Score  A6_Score  \\\n",
       "0      Parent         0         0         0         1         1         1   \n",
       "1    Relative         0         0         0         0         0         0   \n",
       "3        Self         0         1         1         1         1         1   \n",
       "7      Parent         1         1         0         1         1         0   \n",
       "8      Parent         1         1         1         1         1         1   \n",
       "..        ...       ...       ...       ...       ...       ...       ...   \n",
       "99     Parent         0         1         1         1         0         1   \n",
       "100    Parent         1         0         1         0         0         0   \n",
       "101      Self         1         0         0         1         1         1   \n",
       "102      Self         1         1         0         1         1         0   \n",
       "103    Parent         1         0         1         0         0         1   \n",
       "\n",
       "     A7_Score  A8_Score  A9_Score  A10_Score  \n",
       "0           1         1         1          0  \n",
       "1           0         0         1          1  \n",
       "3           0         1         1          0  \n",
       "7           1         1         0          1  \n",
       "8           0         0         0          0  \n",
       "..        ...       ...       ...        ...  \n",
       "99          1         0         1          0  \n",
       "100         0         1         0          1  \n",
       "101         1         1         1          1  \n",
       "102         0         0         1          1  \n",
       "103         1         1         1          0  \n",
       "\n",
       "[98 rows x 18 columns]"
      ]
     },
     "execution_count": 16,
     "metadata": {},
     "output_type": "execute_result"
    }
   ],
   "source": [
    "# Some of our models require the input data to be normalized, \n",
    "# so I proceed to normalize the attribute data. Here, I use preprocessing.MinMaxScaler().\n",
    "\n",
    "from sklearn.preprocessing import MinMaxScaler\n",
    "\n",
    "scaler = MinMaxScaler()\n",
    "numerical = ['age', 'result']\n",
    "\n",
    "features_minmax_transform = pd.DataFrame(data = features_raw)\n",
    "features_minmax_transform[numerical] = scaler.fit_transform(features_raw[numerical])\n",
    "features_minmax_transform"
   ]
  },
  {
   "cell_type": "code",
   "execution_count": 17,
   "id": "e2ae55ff",
   "metadata": {},
   "outputs": [
    {
     "data": {
      "text/html": [
       "<div>\n",
       "<style scoped>\n",
       "    .dataframe tbody tr th:only-of-type {\n",
       "        vertical-align: middle;\n",
       "    }\n",
       "\n",
       "    .dataframe tbody tr th {\n",
       "        vertical-align: top;\n",
       "    }\n",
       "\n",
       "    .dataframe thead th {\n",
       "        text-align: right;\n",
       "    }\n",
       "</style>\n",
       "<table border=\"1\" class=\"dataframe\">\n",
       "  <thead>\n",
       "    <tr style=\"text-align: right;\">\n",
       "      <th></th>\n",
       "      <th>age</th>\n",
       "      <th>result</th>\n",
       "      <th>A1_Score</th>\n",
       "      <th>A2_Score</th>\n",
       "      <th>A3_Score</th>\n",
       "      <th>A4_Score</th>\n",
       "      <th>A5_Score</th>\n",
       "      <th>A6_Score</th>\n",
       "      <th>A7_Score</th>\n",
       "      <th>A8_Score</th>\n",
       "      <th>...</th>\n",
       "      <th>contry_of_res_South Africa</th>\n",
       "      <th>contry_of_res_United Arab Emirates</th>\n",
       "      <th>contry_of_res_United Kingdom</th>\n",
       "      <th>contry_of_res_United States</th>\n",
       "      <th>contry_of_res_Viet Nam</th>\n",
       "      <th>relation_Health care professional</th>\n",
       "      <th>relation_Others</th>\n",
       "      <th>relation_Parent</th>\n",
       "      <th>relation_Relative</th>\n",
       "      <th>relation_Self</th>\n",
       "    </tr>\n",
       "  </thead>\n",
       "  <tbody>\n",
       "    <tr>\n",
       "      <th>0</th>\n",
       "      <td>0.75</td>\n",
       "      <td>0.555556</td>\n",
       "      <td>0</td>\n",
       "      <td>0</td>\n",
       "      <td>0</td>\n",
       "      <td>1</td>\n",
       "      <td>1</td>\n",
       "      <td>1</td>\n",
       "      <td>1</td>\n",
       "      <td>1</td>\n",
       "      <td>...</td>\n",
       "      <td>0</td>\n",
       "      <td>0</td>\n",
       "      <td>0</td>\n",
       "      <td>0</td>\n",
       "      <td>0</td>\n",
       "      <td>0</td>\n",
       "      <td>0</td>\n",
       "      <td>1</td>\n",
       "      <td>0</td>\n",
       "      <td>0</td>\n",
       "    </tr>\n",
       "    <tr>\n",
       "      <th>1</th>\n",
       "      <td>0.75</td>\n",
       "      <td>0.111111</td>\n",
       "      <td>0</td>\n",
       "      <td>0</td>\n",
       "      <td>0</td>\n",
       "      <td>0</td>\n",
       "      <td>0</td>\n",
       "      <td>0</td>\n",
       "      <td>0</td>\n",
       "      <td>0</td>\n",
       "      <td>...</td>\n",
       "      <td>0</td>\n",
       "      <td>0</td>\n",
       "      <td>0</td>\n",
       "      <td>0</td>\n",
       "      <td>0</td>\n",
       "      <td>0</td>\n",
       "      <td>0</td>\n",
       "      <td>0</td>\n",
       "      <td>1</td>\n",
       "      <td>0</td>\n",
       "    </tr>\n",
       "    <tr>\n",
       "      <th>3</th>\n",
       "      <td>0.50</td>\n",
       "      <td>0.666667</td>\n",
       "      <td>0</td>\n",
       "      <td>1</td>\n",
       "      <td>1</td>\n",
       "      <td>1</td>\n",
       "      <td>1</td>\n",
       "      <td>1</td>\n",
       "      <td>0</td>\n",
       "      <td>1</td>\n",
       "      <td>...</td>\n",
       "      <td>0</td>\n",
       "      <td>0</td>\n",
       "      <td>1</td>\n",
       "      <td>0</td>\n",
       "      <td>0</td>\n",
       "      <td>0</td>\n",
       "      <td>0</td>\n",
       "      <td>0</td>\n",
       "      <td>0</td>\n",
       "      <td>1</td>\n",
       "    </tr>\n",
       "    <tr>\n",
       "      <th>7</th>\n",
       "      <td>0.75</td>\n",
       "      <td>0.666667</td>\n",
       "      <td>1</td>\n",
       "      <td>1</td>\n",
       "      <td>0</td>\n",
       "      <td>1</td>\n",
       "      <td>1</td>\n",
       "      <td>0</td>\n",
       "      <td>1</td>\n",
       "      <td>1</td>\n",
       "      <td>...</td>\n",
       "      <td>0</td>\n",
       "      <td>0</td>\n",
       "      <td>0</td>\n",
       "      <td>0</td>\n",
       "      <td>0</td>\n",
       "      <td>0</td>\n",
       "      <td>0</td>\n",
       "      <td>1</td>\n",
       "      <td>0</td>\n",
       "      <td>0</td>\n",
       "    </tr>\n",
       "    <tr>\n",
       "      <th>8</th>\n",
       "      <td>0.00</td>\n",
       "      <td>0.555556</td>\n",
       "      <td>1</td>\n",
       "      <td>1</td>\n",
       "      <td>1</td>\n",
       "      <td>1</td>\n",
       "      <td>1</td>\n",
       "      <td>1</td>\n",
       "      <td>0</td>\n",
       "      <td>0</td>\n",
       "      <td>...</td>\n",
       "      <td>0</td>\n",
       "      <td>0</td>\n",
       "      <td>0</td>\n",
       "      <td>0</td>\n",
       "      <td>0</td>\n",
       "      <td>0</td>\n",
       "      <td>0</td>\n",
       "      <td>1</td>\n",
       "      <td>0</td>\n",
       "      <td>0</td>\n",
       "    </tr>\n",
       "  </tbody>\n",
       "</table>\n",
       "<p>5 rows × 63 columns</p>\n",
       "</div>"
      ],
      "text/plain": [
       "    age    result  A1_Score  A2_Score  A3_Score  A4_Score  A5_Score  A6_Score  \\\n",
       "0  0.75  0.555556         0         0         0         1         1         1   \n",
       "1  0.75  0.111111         0         0         0         0         0         0   \n",
       "3  0.50  0.666667         0         1         1         1         1         1   \n",
       "7  0.75  0.666667         1         1         0         1         1         0   \n",
       "8  0.00  0.555556         1         1         1         1         1         1   \n",
       "\n",
       "   A7_Score  A8_Score  ...  contry_of_res_South Africa  \\\n",
       "0         1         1  ...                           0   \n",
       "1         0         0  ...                           0   \n",
       "3         0         1  ...                           0   \n",
       "7         1         1  ...                           0   \n",
       "8         0         0  ...                           0   \n",
       "\n",
       "   contry_of_res_United Arab Emirates  contry_of_res_United Kingdom  \\\n",
       "0                                   0                             0   \n",
       "1                                   0                             0   \n",
       "3                                   0                             1   \n",
       "7                                   0                             0   \n",
       "8                                   0                             0   \n",
       "\n",
       "   contry_of_res_United States  contry_of_res_Viet Nam  \\\n",
       "0                            0                       0   \n",
       "1                            0                       0   \n",
       "3                            0                       0   \n",
       "7                            0                       0   \n",
       "8                            0                       0   \n",
       "\n",
       "   relation_Health care professional  relation_Others  relation_Parent  \\\n",
       "0                                  0                0                1   \n",
       "1                                  0                0                0   \n",
       "3                                  0                0                0   \n",
       "7                                  0                0                1   \n",
       "8                                  0                0                1   \n",
       "\n",
       "   relation_Relative  relation_Self  \n",
       "0                  0              0  \n",
       "1                  1              0  \n",
       "3                  0              1  \n",
       "7                  0              0  \n",
       "8                  0              0  \n",
       "\n",
       "[5 rows x 63 columns]"
      ]
     },
     "metadata": {},
     "output_type": "display_data"
    }
   ],
   "source": [
    "# One-Hot encoding\n",
    "\n",
    "features_final = pd.get_dummies(features_minmax_transform)\n",
    "display(features_final.head(5))"
   ]
  },
  {
   "cell_type": "code",
   "execution_count": 18,
   "id": "aa935975",
   "metadata": {},
   "outputs": [
    {
     "name": "stdout",
     "output_type": "stream",
     "text": [
      "63 total features after one-hot encoding.\n"
     ]
    }
   ],
   "source": [
    "# Encode the 'all_classes_raw' data to numerical values\n",
    "asd_classes = asd_raw.apply(lambda x: 1 if x == 'YES' else 0)\n",
    "\n",
    "# Print the number of features after one-hot encoding\n",
    "encoded = list(features_final.columns)\n",
    "print(\"{} total features after one-hot encoding.\".format(len(encoded)))"
   ]
  },
  {
   "cell_type": "code",
   "execution_count": 19,
   "id": "1af1f25f",
   "metadata": {},
   "outputs": [
    {
     "data": {
      "text/plain": [
       "Text(0, 0.5, 'Frequency')"
      ]
     },
     "execution_count": 19,
     "metadata": {},
     "output_type": "execute_result"
    },
    {
     "data": {
      "image/png": "[encoded data removed]",
      "text/plain": [
       "<Figure size 432x288 with 1 Axes>"
      ]
     },
     "metadata": {},
     "output_type": "display_data"
    }
   ],
   "source": [
    "#visualization of classes asd_data dataset\n",
    "\n",
    "import matplotlib.pyplot as plt\n",
    "\n",
    "plt.hist(asd_classes, bins=10)\n",
    "\n",
    "plt.xlim(0,1)\n",
    "plt.title('Histogram of Class/ASD')\n",
    "plt.xlabel('Class/ASD from processed data')\n",
    "plt.ylabel('Frequency')"
   ]
  },
  {
   "cell_type": "markdown",
   "id": "6b5a0a90",
   "metadata": {},
   "source": [
    "# Shuffle and split data "
   ]
  },
  {
   "cell_type": "code",
   "execution_count": 20,
   "id": "9fc8bf83",
   "metadata": {},
   "outputs": [],
   "source": [
    "\n",
    "from sklearn.model_selection import train_test_split\n",
    "\n",
    "X_train, X_test, y_train, y_test = train_test_split(features_final, asd_classes, train_size=0.80, random_state=1)"
   ]
  },
  {
   "cell_type": "code",
   "execution_count": 21,
   "id": "9d435888",
   "metadata": {},
   "outputs": [
    {
     "name": "stdout",
     "output_type": "stream",
     "text": [
      "Number of samples in Training set :  78\n",
      "Number of samples in testing set :  20\n"
     ]
    }
   ],
   "source": [
    "print(\"Number of samples in Training set : \", X_train.shape[0])\n",
    "print(\"Number of samples in testing set : \", X_test.shape[0])"
   ]
  },
  {
   "cell_type": "markdown",
   "id": "386df90a",
   "metadata": {},
   "source": [
    "# Machine Learning Techniques"
   ]
  },
  {
   "cell_type": "markdown",
   "id": "1db5eef5",
   "metadata": {},
   "source": [
    "## Logistic Regresion "
   ]
  },
  {
   "cell_type": "code",
   "execution_count": 22,
   "id": "62539406",
   "metadata": {},
   "outputs": [
    {
     "data": {
      "text/plain": [
       "array([1, 1, 1, 1, 1, 1, 0, 1, 0, 0, 1, 1, 1, 0, 1, 0, 0, 1, 0, 1],\n",
       "      dtype=int64)"
      ]
     },
     "execution_count": 22,
     "metadata": {},
     "output_type": "execute_result"
    }
   ],
   "source": [
    "from sklearn.linear_model import LogisticRegression\n",
    "\n",
    "lr = LogisticRegression()\n",
    "lr.fit(X_train, y_train)\n",
    "y_pred_class = lr.predict(X_test)\n",
    "lr.predict(X_test)"
   ]
  },
  {
   "cell_type": "code",
   "execution_count": 23,
   "id": "bdf31292",
   "metadata": {},
   "outputs": [
    {
     "name": "stdout",
     "output_type": "stream",
     "text": [
      "[[ 6  1]\n",
      " [ 1 12]]\n"
     ]
    },
    {
     "data": {
      "image/png": "[encoded data removed]",
      "text/plain": [
       "<Figure size 288x288 with 2 Axes>"
      ]
     },
     "metadata": {},
     "output_type": "display_data"
    }
   ],
   "source": [
    "#confusion matrix\n",
    "\n",
    "from sklearn import metrics\n",
    "confusion = metrics.confusion_matrix(y_test, y_pred_class)\n",
    "print(confusion)\n",
    "TP = confusion[1, 1]\n",
    "TN = confusion[0, 0]\n",
    "FP = confusion[0, 1]\n",
    "FN = confusion[1, 0]\n",
    "\n",
    "\n",
    "plt.matshow(confusion)\n",
    "plt.title('Logistic Regression Confusion matrix',y=1.20)\n",
    "plt.colorbar()\n",
    "plt.ylabel('True label')\n",
    "plt.xlabel('Predicted label')\n",
    "plt.show()"
   ]
  },
  {
   "cell_type": "code",
   "execution_count": 24,
   "id": "d90ea50e",
   "metadata": {},
   "outputs": [
    {
     "name": "stdout",
     "output_type": "stream",
     "text": [
      "Classification Accuracy : 0.9\n",
      "Classification Error : 0.1\n",
      "Senstivity : 0.9230769230769231\n",
      "Specificity : 0.8571428571428571\n",
      "False Positive Rate : 0.14285714285714285\n",
      "Precision : 0.9230769230769231\n"
     ]
    }
   ],
   "source": [
    "print(\"Classification Accuracy :\", (TP + TN) / float(TP + TN + FP + FN))\n",
    "print(\"Classification Error :\", (FP + FN) / float(TP + TN + FP + FN))\n",
    "print(\"Senstivity :\", TP / float(FN + TP))\n",
    "print(\"Specificity :\", TN / (TN + FP))\n",
    "print(\"False Positive Rate :\", FP / float(TN + FP))\n",
    "print(\"Precision :\", TP / float(TP + FP))"
   ]
  },
  {
   "cell_type": "code",
   "execution_count": 25,
   "id": "6ce4de8e",
   "metadata": {},
   "outputs": [
    {
     "data": {
      "text/plain": [
       "0.9255555555555557"
      ]
     },
     "execution_count": 25,
     "metadata": {},
     "output_type": "execute_result"
    }
   ],
   "source": [
    "#cross validation\n",
    "\n",
    "from sklearn.model_selection import cross_val_score\n",
    "\n",
    "cv_scores = cross_val_score(lr, features_final, asd_classes, cv=10)\n",
    "\n",
    "cv_scores.mean()"
   ]
  },
  {
   "cell_type": "code",
   "execution_count": 26,
   "id": "d8825020",
   "metadata": {},
   "outputs": [
    {
     "data": {
      "text/plain": [
       "0.9841269841269842"
      ]
     },
     "execution_count": 26,
     "metadata": {},
     "output_type": "execute_result"
    }
   ],
   "source": [
    "#AUC score (cross validated AUC)\n",
    "\n",
    "from sklearn.model_selection import cross_val_score\n",
    "cross_val_score(lr, features_final, asd_classes, cv=10, scoring='roc_auc').mean()"
   ]
  },
  {
   "cell_type": "code",
   "execution_count": 27,
   "id": "c75cc642",
   "metadata": {},
   "outputs": [
    {
     "data": {
      "text/plain": [
       "0.9230769230769231"
      ]
     },
     "execution_count": 27,
     "metadata": {},
     "output_type": "execute_result"
    }
   ],
   "source": [
    "#F- beta score\n",
    "\n",
    "from sklearn.metrics import fbeta_score\n",
    "predictions_test = lr.predict(X_test)\n",
    "fbeta_score(y_test, predictions_test, average='binary', beta=0.5)"
   ]
  },
  {
   "cell_type": "markdown",
   "id": "14c9596d",
   "metadata": {},
   "source": [
    "# Decision Tree"
   ]
  },
  {
   "cell_type": "code",
   "execution_count": 28,
   "id": "137b879e",
   "metadata": {},
   "outputs": [
    {
     "data": {
      "text/plain": [
       "DecisionTreeClassifier(random_state=1)"
      ]
     },
     "execution_count": 28,
     "metadata": {},
     "output_type": "execute_result"
    }
   ],
   "source": [
    "from sklearn import tree\n",
    "from sklearn.tree import DecisionTreeClassifier\n",
    "\n",
    "dtc = DecisionTreeClassifier(random_state=1)\n",
    "\n",
    "# Train the classifier on the training set\n",
    "dtc.fit(X_train, y_train)"
   ]
  },
  {
   "cell_type": "code",
   "execution_count": 29,
   "id": "d0c40707",
   "metadata": {},
   "outputs": [
    {
     "data": {
      "text/plain": [
       "array([1, 0, 1, 1, 1, 1, 0, 1, 1, 0, 1, 1, 1, 0, 1, 0, 0, 1, 0, 1],\n",
       "      dtype=int64)"
      ]
     },
     "execution_count": 29,
     "metadata": {},
     "output_type": "execute_result"
    }
   ],
   "source": [
    "dtc.predict(X_test)"
   ]
  },
  {
   "cell_type": "code",
   "execution_count": 30,
   "id": "33657d6f",
   "metadata": {},
   "outputs": [
    {
     "name": "stdout",
     "output_type": "stream",
     "text": [
      "[[ 6  1]\n",
      " [ 1 12]]\n"
     ]
    },
    {
     "data": {
      "image/png": "[encoded data removed]",
      "text/plain": [
       "<Figure size 288x288 with 2 Axes>"
      ]
     },
     "metadata": {},
     "output_type": "display_data"
    }
   ],
   "source": [
    "#confusion matrix\n",
    "\n",
    "from sklearn import metrics\n",
    "confusion = metrics.confusion_matrix(y_test, y_pred_class)\n",
    "print(confusion)\n",
    "TP = confusion[1, 1]\n",
    "TN = confusion[0, 0]\n",
    "FP = confusion[0, 1]\n",
    "FN = confusion[1, 0]\n",
    "\n",
    "plt.matshow(confusion)\n",
    "plt.title('Decision Tree Confusion matrix',y=1.20)\n",
    "plt.colorbar()\n",
    "plt.ylabel('True label')\n",
    "plt.xlabel('Predicted label')\n",
    "plt.show()\n"
   ]
  },
  {
   "cell_type": "code",
   "execution_count": 31,
   "id": "86952acc",
   "metadata": {},
   "outputs": [
    {
     "name": "stdout",
     "output_type": "stream",
     "text": [
      "Classification Accuracy : 0.9\n",
      "Classification Error : 0.1\n",
      "Senstivity : 0.9230769230769231\n",
      "Specificity : 0.8571428571428571\n",
      "False Positive Rate : 0.14285714285714285\n",
      "Precision : 0.9230769230769231\n"
     ]
    }
   ],
   "source": [
    "print(\"Classification Accuracy :\", (TP + TN) / float(TP + TN + FP + FN))\n",
    "print(\"Classification Error :\", (FP + FN) / float(TP + TN + FP + FN))\n",
    "print(\"Senstivity :\", TP / float(FN + TP))\n",
    "print(\"Specificity :\", TN / (TN + FP))\n",
    "print(\"False Positive Rate :\", FP / float(TN + FP))\n",
    "print(\"Precision :\", TP / float(TP + FP))"
   ]
  },
  {
   "cell_type": "code",
   "execution_count": 34,
   "id": "00c45f32",
   "metadata": {},
   "outputs": [
    {
     "data": {
      "text/plain": [
       "1.0"
      ]
     },
     "execution_count": 34,
     "metadata": {},
     "output_type": "execute_result"
    }
   ],
   "source": [
    "#Score metric model performance#cross validation\n",
    "\n",
    "from sklearn.model_selection import cross_val_score\n",
    "\n",
    "cv_scores = cross_val_score(dtc, features_final, asd_classes, cv=10)\n",
    "\n",
    "cv_scores.mean()\n"
   ]
  },
  {
   "cell_type": "code",
   "execution_count": 35,
   "id": "0db06cb3",
   "metadata": {},
   "outputs": [
    {
     "data": {
      "text/plain": [
       "1.0"
      ]
     },
     "execution_count": 35,
     "metadata": {},
     "output_type": "execute_result"
    }
   ],
   "source": [
    "#AUC score (cross validated AUC)\n",
    "\n",
    "from sklearn.model_selection import cross_val_score\n",
    "cross_val_score(dtc, features_final, asd_classes, cv=10, scoring='roc_auc').mean()"
   ]
  },
  {
   "cell_type": "code",
   "execution_count": 36,
   "id": "ce1e3663",
   "metadata": {},
   "outputs": [
    {
     "data": {
      "text/plain": [
       "1.0"
      ]
     },
     "execution_count": 36,
     "metadata": {},
     "output_type": "execute_result"
    }
   ],
   "source": [
    "#F- beta score\n",
    "\n",
    "from sklearn.metrics import fbeta_score\n",
    "predictions_test = dtc.predict(X_test)\n",
    "fbeta_score(y_test, predictions_test, average='binary', beta=0.5)"
   ]
  },
  {
   "cell_type": "markdown",
   "id": "858dafc7",
   "metadata": {},
   "source": [
    "## K- Nearest Neighbor "
   ]
  },
  {
   "cell_type": "code",
   "execution_count": 37,
   "id": "09292b11",
   "metadata": {},
   "outputs": [
    {
     "data": {
      "text/plain": [
       "array([1, 1, 1, 1, 1, 1, 0, 1, 1, 1, 1, 1, 1, 0, 1, 1, 1, 1, 1, 1],\n",
       "      dtype=int64)"
      ]
     },
     "execution_count": 37,
     "metadata": {},
     "output_type": "execute_result"
    }
   ],
   "source": [
    "from sklearn.neighbors import KNeighborsClassifier\n",
    "\n",
    "\n",
    "knn = KNeighborsClassifier(n_neighbors = 10)\n",
    "knn.fit(X_train.values, y_train.values)\n",
    "y_pred_class = knn.predict(X_test.values)\n",
    "knn.predict(X_test.values)"
   ]
  },
  {
   "cell_type": "code",
   "execution_count": 38,
   "id": "69ed1ef8",
   "metadata": {},
   "outputs": [
    {
     "name": "stdout",
     "output_type": "stream",
     "text": [
      "[[ 2  5]\n",
      " [ 0 13]]\n"
     ]
    },
    {
     "data": {
      "image/png": "[encoded data removed]",
      "text/plain": [
       "<Figure size 288x288 with 2 Axes>"
      ]
     },
     "metadata": {},
     "output_type": "display_data"
    }
   ],
   "source": [
    "#confusion matrix\n",
    "\n",
    "from sklearn import metrics\n",
    "confusion = metrics.confusion_matrix(y_test, y_pred_class)\n",
    "print(confusion)\n",
    "TP = confusion[1, 1]\n",
    "TN = confusion[0, 0]\n",
    "FP = confusion[0, 1]\n",
    "FN = confusion[1, 0]\n",
    "\n",
    "\n",
    "plt.matshow(confusion)\n",
    "plt.title('KNN Confusion matrix',y=1.20)\n",
    "plt.colorbar()\n",
    "plt.ylabel('True label')\n",
    "plt.xlabel('Predicted label')\n",
    "plt.show()"
   ]
  },
  {
   "cell_type": "code",
   "execution_count": 39,
   "id": "8d5afc11",
   "metadata": {},
   "outputs": [
    {
     "name": "stdout",
     "output_type": "stream",
     "text": [
      "Classification Accuracy : 0.75\n",
      "Classification Error : 0.25\n",
      "Senstivity : 1.0\n",
      "Specificity : 0.2857142857142857\n",
      "False Positive Rate : 0.7142857142857143\n",
      "Precision : 0.7222222222222222\n"
     ]
    }
   ],
   "source": [
    "print(\"Classification Accuracy :\", (TP + TN) / float(TP + TN + FP + FN))\n",
    "print(\"Classification Error :\", (FP + FN) / float(TP + TN + FP + FN))\n",
    "print(\"Senstivity :\", TP / float(FN + TP))\n",
    "print(\"Specificity :\", TN / (TN + FP))\n",
    "print(\"False Positive Rate :\", FP / float(TN + FP))\n",
    "print(\"Precision :\", TP / float(TP + FP))"
   ]
  },
  {
   "cell_type": "code",
   "execution_count": 40,
   "id": "e2470f4e",
   "metadata": {},
   "outputs": [
    {
     "data": {
      "text/plain": [
       "0.8055555555555556"
      ]
     },
     "execution_count": 40,
     "metadata": {},
     "output_type": "execute_result"
    }
   ],
   "source": [
    "#cross validation\n",
    "\n",
    "from sklearn.model_selection import cross_val_score\n",
    "\n",
    "cv_scores = cross_val_score(knn, features_final.values, asd_classes.values, cv=10)\n",
    "\n",
    "cv_scores.mean()"
   ]
  },
  {
   "cell_type": "code",
   "execution_count": 41,
   "id": "c1003f0d",
   "metadata": {},
   "outputs": [
    {
     "data": {
      "text/plain": [
       "0.8926587301587301"
      ]
     },
     "execution_count": 41,
     "metadata": {},
     "output_type": "execute_result"
    }
   ],
   "source": [
    "#AUC score (cross validated AUC)\n",
    "\n",
    "from sklearn.model_selection import cross_val_score\n",
    "cross_val_score(knn, features_final.values, asd_classes.values, cv=10, scoring='roc_auc').mean()"
   ]
  },
  {
   "cell_type": "code",
   "execution_count": 42,
   "id": "d766e729",
   "metadata": {},
   "outputs": [
    {
     "data": {
      "text/plain": [
       "0.7647058823529411"
      ]
     },
     "execution_count": 42,
     "metadata": {},
     "output_type": "execute_result"
    }
   ],
   "source": [
    "#F- beta score\n",
    "\n",
    "from sklearn.metrics import fbeta_score\n",
    "predictions_test = knn.predict(X_test.values)\n",
    "fbeta_score(y_test, predictions_test, average='binary', beta=0.5)"
   ]
  },
  {
   "cell_type": "code",
   "execution_count": 43,
   "id": "11b68a27",
   "metadata": {},
   "outputs": [
    {
     "name": "stdout",
     "output_type": "stream",
     "text": [
      "10\n"
     ]
    }
   ],
   "source": [
    "from sklearn.neighbors import KNeighborsClassifier\n",
    "\n",
    "neighbors = []\n",
    "cvscores = []\n",
    "for n in range(10, 50):\n",
    "    knn = KNeighborsClassifier(n_neighbors=n)\n",
    "    cv_scores = cross_val_score(knn, features_final.values, asd_classes.values, cv=10)\n",
    "    neighbors.append(n)\n",
    "    cvscores.append(cv_scores.mean())\n",
    "\n",
    "#print(arr)   \n",
    "\n",
    "print(neighbors[cvscores.index(max(cvscores))])"
   ]
  },
  {
   "cell_type": "markdown",
   "id": "ef45ddb2",
   "metadata": {},
   "source": [
    "## Naive Bayes"
   ]
  },
  {
   "cell_type": "code",
   "execution_count": 44,
   "id": "fa5ad5ec",
   "metadata": {},
   "outputs": [
    {
     "data": {
      "text/plain": [
       "array([1, 1, 1, 1, 1, 1, 0, 1, 1, 1, 1, 1, 1, 0, 1, 1, 1, 1, 1, 1],\n",
       "      dtype=int64)"
      ]
     },
     "execution_count": 44,
     "metadata": {},
     "output_type": "execute_result"
    }
   ],
   "source": [
    "from sklearn.naive_bayes import MultinomialNB\n",
    "\n",
    "mnb = MultinomialNB()\n",
    "mnb.fit(X_train, y_train)\n",
    "y_pred_class = mnb.predict(X_test)\n",
    "mnb.predict(X_test)"
   ]
  },
  {
   "cell_type": "code",
   "execution_count": 45,
   "id": "d675aa96",
   "metadata": {},
   "outputs": [
    {
     "name": "stdout",
     "output_type": "stream",
     "text": [
      "[[ 2  5]\n",
      " [ 0 13]]\n"
     ]
    },
    {
     "data": {
      "image/png": "[encoded data removed]",
      "text/plain": [
       "<Figure size 288x288 with 2 Axes>"
      ]
     },
     "metadata": {},
     "output_type": "display_data"
    }
   ],
   "source": [
    "#confusion matrix\n",
    "\n",
    "from sklearn import metrics\n",
    "confusion = metrics.confusion_matrix(y_test, y_pred_class)\n",
    "print(confusion)\n",
    "TP = confusion[1, 1]\n",
    "TN = confusion[0, 0]\n",
    "FP = confusion[0, 1]\n",
    "FN = confusion[1, 0]\n",
    "\n",
    "\n",
    "plt.matshow(confusion)\n",
    "plt.title('Naive Bayes Confusion matrix',y=1.20)\n",
    "plt.colorbar()\n",
    "plt.ylabel('True label')\n",
    "plt.xlabel('Predicted label')\n",
    "plt.show()\n"
   ]
  },
  {
   "cell_type": "code",
   "execution_count": 46,
   "id": "31f253c2",
   "metadata": {},
   "outputs": [
    {
     "name": "stdout",
     "output_type": "stream",
     "text": [
      "Classification Accuracy : 0.75\n",
      "Classification Error : 0.25\n",
      "Senstivity : 1.0\n",
      "Specificity : 0.2857142857142857\n",
      "False Positive Rate : 0.7142857142857143\n",
      "Precision : 0.7222222222222222\n"
     ]
    }
   ],
   "source": [
    "print(\"Classification Accuracy :\", (TP + TN) / float(TP + TN + FP + FN))\n",
    "print(\"Classification Error :\", (FP + FN) / float(TP + TN + FP + FN))\n",
    "print(\"Senstivity :\", TP / float(FN + TP))\n",
    "print(\"Specificity :\", TN / (TN + FP))\n",
    "print(\"False Positive Rate :\", FP / float(TN + FP))\n",
    "print(\"Precision :\", TP / float(TP + FP))"
   ]
  },
  {
   "cell_type": "code",
   "execution_count": 47,
   "id": "9cf67530",
   "metadata": {},
   "outputs": [
    {
     "data": {
      "text/plain": [
       "0.7222222222222222"
      ]
     },
     "execution_count": 47,
     "metadata": {},
     "output_type": "execute_result"
    }
   ],
   "source": [
    "#cross validation\n",
    "\n",
    "from sklearn.model_selection import cross_val_score\n",
    "\n",
    "cv_scores = cross_val_score(mnb, features_final, asd_classes, cv=10)\n",
    "\n",
    "cv_scores.mean()"
   ]
  },
  {
   "cell_type": "code",
   "execution_count": 48,
   "id": "f0e4b82e",
   "metadata": {},
   "outputs": [
    {
     "data": {
      "text/plain": [
       "0.7777777777777777"
      ]
     },
     "execution_count": 48,
     "metadata": {},
     "output_type": "execute_result"
    }
   ],
   "source": [
    "#AUC score (cross validated AUC)\n",
    "\n",
    "from sklearn.model_selection import cross_val_score\n",
    "cross_val_score(mnb, features_final, asd_classes, cv=10, scoring='roc_auc').mean()"
   ]
  },
  {
   "cell_type": "code",
   "execution_count": 49,
   "id": "055aefaf",
   "metadata": {},
   "outputs": [
    {
     "data": {
      "text/plain": [
       "0.7647058823529411"
      ]
     },
     "execution_count": 49,
     "metadata": {},
     "output_type": "execute_result"
    }
   ],
   "source": [
    "#F- beta score\n",
    "\n",
    "from sklearn.metrics import fbeta_score\n",
    "predictions_test = mnb.predict(X_test)\n",
    "fbeta_score(y_test, predictions_test, average='binary', beta=0.5)"
   ]
  },
  {
   "cell_type": "markdown",
   "id": "33e891ea",
   "metadata": {},
   "source": [
    "# Sequential Model (CNN)"
   ]
  },
  {
   "cell_type": "code",
   "execution_count": 50,
   "id": "07e9a1bb",
   "metadata": {},
   "outputs": [],
   "source": [
    "# Imports\n",
    "import numpy as np\n",
    "import keras\n",
    "from keras.models import Sequential\n",
    "from keras.layers import Dense, Dropout, Activation\n",
    "\n",
    "\n",
    "np.random.seed(42)"
   ]
  },
  {
   "cell_type": "code",
   "execution_count": 54,
   "id": "318879a8",
   "metadata": {},
   "outputs": [
    {
     "name": "stdout",
     "output_type": "stream",
     "text": [
      "Model: \"sequential_1\"\n",
      "_________________________________________________________________\n",
      "Layer (type)                 Output Shape              Param #   \n",
      "=================================================================\n",
      "dense_2 (Dense)              (None, 8)                 512       \n",
      "_________________________________________________________________\n",
      "dropout_1 (Dropout)          (None, 8)                 0         \n",
      "_________________________________________________________________\n",
      "dense_3 (Dense)              (None, 1)                 9         \n",
      "=================================================================\n",
      "Total params: 521\n",
      "Trainable params: 521\n",
      "Non-trainable params: 0\n",
      "_________________________________________________________________\n"
     ]
    }
   ],
   "source": [
    "# Building the model architecture with one layer of length 4\n",
    "\n",
    "\n",
    "model = Sequential()\n",
    "model.add(Dense(8, activation='relu', input_dim= 63))\n",
    "model.add(Dropout(0.2))\n",
    "model.add(Dense(1, kernel_initializer='normal', activation='sigmoid'))\n",
    "   \n",
    "    \n",
    "model.summary()"
   ]
  },
  {
   "cell_type": "code",
   "execution_count": 55,
   "id": "c643fe4b",
   "metadata": {},
   "outputs": [],
   "source": [
    "# Compiling the model using categorical_crossentropy loss, and rmsprop optimizer.\n",
    "model.compile(loss='binary_crossentropy',\n",
    "              optimizer='rmsprop',\n",
    "              metrics=['accuracy'])"
   ]
  },
  {
   "cell_type": "code",
   "execution_count": 56,
   "id": "27721617",
   "metadata": {},
   "outputs": [
    {
     "name": "stdout",
     "output_type": "stream",
     "text": [
      "Epoch 1/100\n",
      "WARNING:tensorflow:AutoGraph could not transform <bound method Dense.call of <keras.layers.core.Dense object at 0x0000025594A1F820>> and will run it as-is.\n",
      "Please report this to the TensorFlow team. When filing the bug, set the verbosity to 10 (on Linux, `export AUTOGRAPH_VERBOSITY=10`) and attach the full output.\n",
      "Cause: invalid syntax (tmpqkzieg6i.py, line 48)\n",
      "To silence this warning, decorate the function with @tf.autograph.experimental.do_not_convert\n",
      "WARNING: AutoGraph could not transform <bound method Dense.call of <keras.layers.core.Dense object at 0x0000025594A1F820>> and will run it as-is.\n",
      "Please report this to the TensorFlow team. When filing the bug, set the verbosity to 10 (on Linux, `export AUTOGRAPH_VERBOSITY=10`) and attach the full output.\n",
      "Cause: invalid syntax (tmpqkzieg6i.py, line 48)\n",
      "To silence this warning, decorate the function with @tf.autograph.experimental.do_not_convert\n",
      "5/5 - 33s - loss: 0.6880 - accuracy: 0.6026 - val_loss: 0.6808 - val_accuracy: 0.6500\n",
      "Epoch 2/100\n",
      "5/5 - 0s - loss: 0.6804 - accuracy: 0.6538 - val_loss: 0.6747 - val_accuracy: 0.6500\n",
      "Epoch 3/100\n",
      "5/5 - 0s - loss: 0.6700 - accuracy: 0.6282 - val_loss: 0.6684 - val_accuracy: 0.6500\n",
      "Epoch 4/100\n",
      "5/5 - 0s - loss: 0.6668 - accuracy: 0.6282 - val_loss: 0.6633 - val_accuracy: 0.6500\n",
      "Epoch 5/100\n",
      "5/5 - 0s - loss: 0.6642 - accuracy: 0.6282 - val_loss: 0.6581 - val_accuracy: 0.6500\n",
      "Epoch 6/100\n",
      "5/5 - 0s - loss: 0.6582 - accuracy: 0.6282 - val_loss: 0.6532 - val_accuracy: 0.6500\n",
      "Epoch 7/100\n",
      "5/5 - 0s - loss: 0.6481 - accuracy: 0.6282 - val_loss: 0.6478 - val_accuracy: 0.6500\n",
      "Epoch 8/100\n",
      "5/5 - 0s - loss: 0.6429 - accuracy: 0.6282 - val_loss: 0.6430 - val_accuracy: 0.6500\n",
      "Epoch 9/100\n",
      "5/5 - 0s - loss: 0.6410 - accuracy: 0.6282 - val_loss: 0.6385 - val_accuracy: 0.6500\n",
      "Epoch 10/100\n",
      "5/5 - 0s - loss: 0.6321 - accuracy: 0.6282 - val_loss: 0.6339 - val_accuracy: 0.6500\n",
      "Epoch 11/100\n",
      "5/5 - 0s - loss: 0.6246 - accuracy: 0.6282 - val_loss: 0.6296 - val_accuracy: 0.6500\n",
      "Epoch 12/100\n",
      "5/5 - 0s - loss: 0.6240 - accuracy: 0.6282 - val_loss: 0.6256 - val_accuracy: 0.6500\n",
      "Epoch 13/100\n",
      "5/5 - 0s - loss: 0.6173 - accuracy: 0.6282 - val_loss: 0.6219 - val_accuracy: 0.6500\n",
      "Epoch 14/100\n",
      "5/5 - 0s - loss: 0.6133 - accuracy: 0.6282 - val_loss: 0.6187 - val_accuracy: 0.6500\n",
      "Epoch 15/100\n",
      "5/5 - 0s - loss: 0.6061 - accuracy: 0.6282 - val_loss: 0.6149 - val_accuracy: 0.6500\n",
      "Epoch 16/100\n",
      "5/5 - 0s - loss: 0.6084 - accuracy: 0.6538 - val_loss: 0.6121 - val_accuracy: 0.6500\n",
      "Epoch 17/100\n",
      "5/5 - 0s - loss: 0.5858 - accuracy: 0.6410 - val_loss: 0.6093 - val_accuracy: 0.6500\n",
      "Epoch 18/100\n",
      "5/5 - 0s - loss: 0.5967 - accuracy: 0.6410 - val_loss: 0.6066 - val_accuracy: 0.6500\n",
      "Epoch 19/100\n",
      "5/5 - 0s - loss: 0.5818 - accuracy: 0.6410 - val_loss: 0.6040 - val_accuracy: 0.6500\n",
      "Epoch 20/100\n",
      "5/5 - 0s - loss: 0.5810 - accuracy: 0.6410 - val_loss: 0.6016 - val_accuracy: 0.6500\n",
      "Epoch 21/100\n",
      "5/5 - 0s - loss: 0.5865 - accuracy: 0.6410 - val_loss: 0.5998 - val_accuracy: 0.6500\n",
      "Epoch 22/100\n",
      "5/5 - 0s - loss: 0.5717 - accuracy: 0.6538 - val_loss: 0.5982 - val_accuracy: 0.6500\n",
      "Epoch 23/100\n",
      "5/5 - 0s - loss: 0.5655 - accuracy: 0.6410 - val_loss: 0.5962 - val_accuracy: 0.6500\n",
      "Epoch 24/100\n",
      "5/5 - 0s - loss: 0.5624 - accuracy: 0.6538 - val_loss: 0.5944 - val_accuracy: 0.6500\n",
      "Epoch 25/100\n",
      "5/5 - 0s - loss: 0.5626 - accuracy: 0.6538 - val_loss: 0.5927 - val_accuracy: 0.6500\n",
      "Epoch 26/100\n",
      "5/5 - 0s - loss: 0.5435 - accuracy: 0.6795 - val_loss: 0.5911 - val_accuracy: 0.6500\n",
      "Epoch 27/100\n",
      "5/5 - 0s - loss: 0.5535 - accuracy: 0.6795 - val_loss: 0.5895 - val_accuracy: 0.6500\n",
      "Epoch 28/100\n",
      "5/5 - 0s - loss: 0.5409 - accuracy: 0.6795 - val_loss: 0.5881 - val_accuracy: 0.6500\n",
      "Epoch 29/100\n",
      "5/5 - 0s - loss: 0.5495 - accuracy: 0.6667 - val_loss: 0.5868 - val_accuracy: 0.6500\n",
      "Epoch 30/100\n",
      "5/5 - 0s - loss: 0.5386 - accuracy: 0.7179 - val_loss: 0.5853 - val_accuracy: 0.6500\n",
      "Epoch 31/100\n",
      "5/5 - 0s - loss: 0.5292 - accuracy: 0.7051 - val_loss: 0.5841 - val_accuracy: 0.6500\n",
      "Epoch 32/100\n",
      "5/5 - 0s - loss: 0.5286 - accuracy: 0.6923 - val_loss: 0.5830 - val_accuracy: 0.6500\n",
      "Epoch 33/100\n",
      "5/5 - 0s - loss: 0.5282 - accuracy: 0.6923 - val_loss: 0.5820 - val_accuracy: 0.6500\n",
      "Epoch 34/100\n",
      "5/5 - 0s - loss: 0.5235 - accuracy: 0.7179 - val_loss: 0.5810 - val_accuracy: 0.6500\n",
      "Epoch 35/100\n",
      "5/5 - 0s - loss: 0.5198 - accuracy: 0.7051 - val_loss: 0.5798 - val_accuracy: 0.6500\n",
      "Epoch 36/100\n",
      "5/5 - 0s - loss: 0.5210 - accuracy: 0.6923 - val_loss: 0.5788 - val_accuracy: 0.6500\n",
      "Epoch 37/100\n",
      "5/5 - 0s - loss: 0.5066 - accuracy: 0.7051 - val_loss: 0.5779 - val_accuracy: 0.6500\n",
      "Epoch 38/100\n",
      "5/5 - 0s - loss: 0.4937 - accuracy: 0.7436 - val_loss: 0.5771 - val_accuracy: 0.6500\n",
      "Epoch 39/100\n",
      "5/5 - 0s - loss: 0.4900 - accuracy: 0.7821 - val_loss: 0.5760 - val_accuracy: 0.6500\n",
      "Epoch 40/100\n",
      "5/5 - 0s - loss: 0.5035 - accuracy: 0.7179 - val_loss: 0.5746 - val_accuracy: 0.6500\n",
      "Epoch 41/100\n",
      "5/5 - 0s - loss: 0.4939 - accuracy: 0.7308 - val_loss: 0.5735 - val_accuracy: 0.6500\n",
      "Epoch 42/100\n",
      "5/5 - 0s - loss: 0.4851 - accuracy: 0.7308 - val_loss: 0.5721 - val_accuracy: 0.6500\n",
      "Epoch 43/100\n",
      "5/5 - 0s - loss: 0.4749 - accuracy: 0.7308 - val_loss: 0.5710 - val_accuracy: 0.6500\n",
      "Epoch 44/100\n",
      "5/5 - 0s - loss: 0.4714 - accuracy: 0.7692 - val_loss: 0.5698 - val_accuracy: 0.6500\n",
      "Epoch 45/100\n",
      "5/5 - 0s - loss: 0.4570 - accuracy: 0.7821 - val_loss: 0.5692 - val_accuracy: 0.6500\n",
      "Epoch 46/100\n",
      "5/5 - 0s - loss: 0.4695 - accuracy: 0.7564 - val_loss: 0.5682 - val_accuracy: 0.6500\n",
      "Epoch 47/100\n",
      "5/5 - 0s - loss: 0.4461 - accuracy: 0.7692 - val_loss: 0.5672 - val_accuracy: 0.6500\n",
      "Epoch 48/100\n",
      "5/5 - 0s - loss: 0.4826 - accuracy: 0.7436 - val_loss: 0.5669 - val_accuracy: 0.6500\n",
      "Epoch 49/100\n",
      "5/5 - 0s - loss: 0.4637 - accuracy: 0.7821 - val_loss: 0.5656 - val_accuracy: 0.6500\n",
      "Epoch 50/100\n",
      "5/5 - 0s - loss: 0.4529 - accuracy: 0.8077 - val_loss: 0.5648 - val_accuracy: 0.6500\n",
      "Epoch 51/100\n",
      "5/5 - 0s - loss: 0.4472 - accuracy: 0.7949 - val_loss: 0.5639 - val_accuracy: 0.6500\n",
      "Epoch 52/100\n",
      "5/5 - 0s - loss: 0.4586 - accuracy: 0.8077 - val_loss: 0.5635 - val_accuracy: 0.6500\n",
      "Epoch 53/100\n",
      "5/5 - 0s - loss: 0.4581 - accuracy: 0.8077 - val_loss: 0.5625 - val_accuracy: 0.6500\n",
      "Epoch 54/100\n",
      "5/5 - 0s - loss: 0.4203 - accuracy: 0.8077 - val_loss: 0.5614 - val_accuracy: 0.6500\n",
      "Epoch 55/100\n",
      "5/5 - 0s - loss: 0.4264 - accuracy: 0.8077 - val_loss: 0.5601 - val_accuracy: 0.6500\n",
      "Epoch 56/100\n",
      "5/5 - 0s - loss: 0.4150 - accuracy: 0.8205 - val_loss: 0.5586 - val_accuracy: 0.6500\n",
      "Epoch 57/100\n",
      "5/5 - 0s - loss: 0.4132 - accuracy: 0.8718 - val_loss: 0.5579 - val_accuracy: 0.6500\n",
      "Epoch 58/100\n",
      "5/5 - 0s - loss: 0.4163 - accuracy: 0.8718 - val_loss: 0.5573 - val_accuracy: 0.7000\n",
      "Epoch 59/100\n",
      "5/5 - 0s - loss: 0.4224 - accuracy: 0.8205 - val_loss: 0.5562 - val_accuracy: 0.7000\n",
      "Epoch 60/100\n",
      "5/5 - 0s - loss: 0.4020 - accuracy: 0.7949 - val_loss: 0.5557 - val_accuracy: 0.7000\n",
      "Epoch 61/100\n",
      "5/5 - 0s - loss: 0.4002 - accuracy: 0.8590 - val_loss: 0.5556 - val_accuracy: 0.7000\n",
      "Epoch 62/100\n",
      "5/5 - 0s - loss: 0.3946 - accuracy: 0.8333 - val_loss: 0.5549 - val_accuracy: 0.7000\n",
      "Epoch 63/100\n",
      "5/5 - 0s - loss: 0.3849 - accuracy: 0.8462 - val_loss: 0.5546 - val_accuracy: 0.7000\n",
      "Epoch 64/100\n",
      "5/5 - 0s - loss: 0.3923 - accuracy: 0.8462 - val_loss: 0.5536 - val_accuracy: 0.7000\n",
      "Epoch 65/100\n",
      "5/5 - 0s - loss: 0.4118 - accuracy: 0.8205 - val_loss: 0.5525 - val_accuracy: 0.7000\n",
      "Epoch 66/100\n",
      "5/5 - 0s - loss: 0.3649 - accuracy: 0.8846 - val_loss: 0.5517 - val_accuracy: 0.7000\n",
      "Epoch 67/100\n",
      "5/5 - 0s - loss: 0.3891 - accuracy: 0.8333 - val_loss: 0.5506 - val_accuracy: 0.7000\n",
      "Epoch 68/100\n",
      "5/5 - 0s - loss: 0.3955 - accuracy: 0.8718 - val_loss: 0.5500 - val_accuracy: 0.7000\n",
      "Epoch 69/100\n",
      "5/5 - 0s - loss: 0.3678 - accuracy: 0.8718 - val_loss: 0.5492 - val_accuracy: 0.7000\n",
      "Epoch 70/100\n",
      "5/5 - 0s - loss: 0.3508 - accuracy: 0.8846 - val_loss: 0.5484 - val_accuracy: 0.7000\n",
      "Epoch 71/100\n",
      "5/5 - 0s - loss: 0.4031 - accuracy: 0.8590 - val_loss: 0.5476 - val_accuracy: 0.7000\n",
      "Epoch 72/100\n",
      "5/5 - 0s - loss: 0.3589 - accuracy: 0.8590 - val_loss: 0.5468 - val_accuracy: 0.7500\n",
      "Epoch 73/100\n",
      "5/5 - 0s - loss: 0.3518 - accuracy: 0.8974 - val_loss: 0.5461 - val_accuracy: 0.7500\n",
      "Epoch 74/100\n",
      "5/5 - 0s - loss: 0.3511 - accuracy: 0.8718 - val_loss: 0.5455 - val_accuracy: 0.7500\n",
      "Epoch 75/100\n",
      "5/5 - 0s - loss: 0.3580 - accuracy: 0.8333 - val_loss: 0.5444 - val_accuracy: 0.7500\n"
     ]
    },
    {
     "name": "stdout",
     "output_type": "stream",
     "text": [
      "Epoch 76/100\n",
      "5/5 - 0s - loss: 0.3505 - accuracy: 0.8974 - val_loss: 0.5445 - val_accuracy: 0.7500\n",
      "Epoch 77/100\n",
      "5/5 - 0s - loss: 0.3708 - accuracy: 0.8205 - val_loss: 0.5443 - val_accuracy: 0.7500\n",
      "Epoch 78/100\n",
      "5/5 - 0s - loss: 0.3278 - accuracy: 0.8590 - val_loss: 0.5435 - val_accuracy: 0.7500\n",
      "Epoch 79/100\n",
      "5/5 - 0s - loss: 0.3521 - accuracy: 0.8462 - val_loss: 0.5436 - val_accuracy: 0.7500\n",
      "Epoch 80/100\n",
      "5/5 - 0s - loss: 0.3297 - accuracy: 0.8590 - val_loss: 0.5430 - val_accuracy: 0.7500\n",
      "Epoch 81/100\n",
      "5/5 - 0s - loss: 0.3381 - accuracy: 0.8718 - val_loss: 0.5418 - val_accuracy: 0.7500\n",
      "Epoch 82/100\n",
      "5/5 - 0s - loss: 0.2995 - accuracy: 0.9103 - val_loss: 0.5416 - val_accuracy: 0.7500\n",
      "Epoch 83/100\n",
      "5/5 - 0s - loss: 0.3038 - accuracy: 0.9103 - val_loss: 0.5407 - val_accuracy: 0.7500\n",
      "Epoch 84/100\n",
      "5/5 - 0s - loss: 0.3120 - accuracy: 0.8974 - val_loss: 0.5403 - val_accuracy: 0.7500\n",
      "Epoch 85/100\n",
      "5/5 - 0s - loss: 0.2972 - accuracy: 0.8974 - val_loss: 0.5409 - val_accuracy: 0.7500\n",
      "Epoch 86/100\n",
      "5/5 - 0s - loss: 0.3027 - accuracy: 0.8974 - val_loss: 0.5399 - val_accuracy: 0.7500\n",
      "Epoch 87/100\n",
      "5/5 - 0s - loss: 0.3135 - accuracy: 0.9359 - val_loss: 0.5397 - val_accuracy: 0.7500\n",
      "Epoch 88/100\n",
      "5/5 - 0s - loss: 0.2778 - accuracy: 0.9359 - val_loss: 0.5399 - val_accuracy: 0.7500\n",
      "Epoch 89/100\n",
      "5/5 - 0s - loss: 0.2879 - accuracy: 0.8974 - val_loss: 0.5399 - val_accuracy: 0.7500\n",
      "Epoch 90/100\n",
      "5/5 - 0s - loss: 0.3131 - accuracy: 0.8590 - val_loss: 0.5389 - val_accuracy: 0.7500\n",
      "Epoch 91/100\n",
      "5/5 - 0s - loss: 0.2675 - accuracy: 0.8846 - val_loss: 0.5369 - val_accuracy: 0.7500\n",
      "Epoch 92/100\n",
      "5/5 - 0s - loss: 0.2854 - accuracy: 0.9103 - val_loss: 0.5376 - val_accuracy: 0.7500\n",
      "Epoch 93/100\n",
      "5/5 - 0s - loss: 0.3012 - accuracy: 0.8590 - val_loss: 0.5363 - val_accuracy: 0.7500\n",
      "Epoch 94/100\n",
      "5/5 - 0s - loss: 0.2860 - accuracy: 0.8846 - val_loss: 0.5362 - val_accuracy: 0.7500\n",
      "Epoch 95/100\n",
      "5/5 - 0s - loss: 0.2500 - accuracy: 0.9103 - val_loss: 0.5373 - val_accuracy: 0.7500\n",
      "Epoch 96/100\n",
      "5/5 - 0s - loss: 0.2758 - accuracy: 0.8974 - val_loss: 0.5373 - val_accuracy: 0.7500\n",
      "Epoch 97/100\n",
      "5/5 - 0s - loss: 0.2517 - accuracy: 0.9231 - val_loss: 0.5356 - val_accuracy: 0.7500\n",
      "Epoch 98/100\n",
      "5/5 - 0s - loss: 0.2709 - accuracy: 0.8974 - val_loss: 0.5368 - val_accuracy: 0.7500\n",
      "Epoch 99/100\n",
      "5/5 - 0s - loss: 0.2484 - accuracy: 0.9231 - val_loss: 0.5363 - val_accuracy: 0.7500\n",
      "Epoch 100/100\n",
      "5/5 - 0s - loss: 0.2943 - accuracy: 0.8974 - val_loss: 0.5359 - val_accuracy: 0.7500\n"
     ]
    }
   ],
   "source": [
    "# Running and evaluating the model\n",
    "hist = model.fit(X_train, y_train,\n",
    "          batch_size=16,\n",
    "          epochs=100,\n",
    "          validation_data=(X_test, y_test), \n",
    "          verbose=2)"
   ]
  },
  {
   "cell_type": "code",
   "execution_count": 57,
   "id": "a31cb2a2",
   "metadata": {},
   "outputs": [
    {
     "data": {
      "text/plain": [
       "0.75"
      ]
     },
     "execution_count": 57,
     "metadata": {},
     "output_type": "execute_result"
    }
   ],
   "source": [
    "#accuracy\n",
    "model.evaluate(X_test, y_test, verbose=0)[1]"
   ]
  },
  {
   "cell_type": "code",
   "execution_count": 58,
   "id": "a4b6abfa",
   "metadata": {},
   "outputs": [
    {
     "name": "stderr",
     "output_type": "stream",
     "text": [
      "c:\\users\\harshit\\appdata\\local\\programs\\python\\python39\\lib\\site-packages\\keras\\engine\\sequential.py:450: UserWarning: `model.predict_classes()` is deprecated and will be removed after 2021-01-01. Please use instead:* `np.argmax(model.predict(x), axis=-1)`,   if your model does multi-class classification   (e.g. if it uses a `softmax` last-layer activation).* `(model.predict(x) > 0.5).astype(\"int32\")`,   if your model does binary classification   (e.g. if it uses a `sigmoid` last-layer activation).\n",
      "  warnings.warn('`model.predict_classes()` is deprecated and '\n"
     ]
    },
    {
     "data": {
      "text/plain": [
       "array([[1],\n",
       "       [1],\n",
       "       [1],\n",
       "       [1],\n",
       "       [1],\n",
       "       [1],\n",
       "       [0],\n",
       "       [1],\n",
       "       [1],\n",
       "       [1],\n",
       "       [1],\n",
       "       [1],\n",
       "       [1],\n",
       "       [0],\n",
       "       [1],\n",
       "       [1],\n",
       "       [1],\n",
       "       [1],\n",
       "       [1],\n",
       "       [1]])"
      ]
     },
     "execution_count": 58,
     "metadata": {},
     "output_type": "execute_result"
    }
   ],
   "source": [
    "predictions = model.predict_classes(X_test)\n",
    "predictions"
   ]
  },
  {
   "cell_type": "code",
   "execution_count": 59,
   "id": "015195e5",
   "metadata": {},
   "outputs": [
    {
     "name": "stdout",
     "output_type": "stream",
     "text": [
      "[[ 2  5]\n",
      " [ 0 13]]\n"
     ]
    },
    {
     "data": {
      "image/png": "[encoded data removed]",
      "text/plain": [
       "<Figure size 288x288 with 2 Axes>"
      ]
     },
     "metadata": {},
     "output_type": "display_data"
    }
   ],
   "source": [
    "confusion = metrics.confusion_matrix(y_test, predictions)\n",
    "print(confusion)\n",
    "\n",
    "plt.matshow(confusion)\n",
    "plt.title('Naive Bayes Confusion matrix',y=1.20)\n",
    "plt.colorbar()\n",
    "plt.ylabel('True label')\n",
    "plt.xlabel('Predicted label')\n",
    "plt.show()"
   ]
  },
  {
   "cell_type": "code",
   "execution_count": null,
   "id": "bb4614d5",
   "metadata": {},
   "outputs": [],
   "source": []
  }
 ],
 "metadata": {
  "kernelspec": {
   "display_name": "Python 3 (ipykernel)",
   "language": "python",
   "name": "python3"
  },
  "language_info": {
   "codemirror_mode": {
    "name": "ipython",
    "version": 3
   },
   "file_extension": ".py",
   "mimetype": "text/x-python",
   "name": "python",
   "nbconvert_exporter": "python",
   "pygments_lexer": "ipython3",
   "version": "3.9.4"
  }
 },
 "nbformat": 4,
 "nbformat_minor": 5
}
